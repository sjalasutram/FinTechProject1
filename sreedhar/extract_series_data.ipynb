{
 "cells": [
  {
   "cell_type": "markdown",
   "id": "d9a85344-bfa2-4fcc-adde-ef730510bd66",
   "metadata": {},
   "source": [
    "# Extract series data extract the performance indicators that are being analyzed for the Project 1 coursework"
   ]
  },
  {
   "cell_type": "code",
   "execution_count": 1,
   "id": "754b0553-81f3-43c0-9c52-fb091a6bbbe9",
   "metadata": {},
   "outputs": [],
   "source": [
    "# import modules\n",
    "import pandas as pd\n",
    "from pathlib import Path"
   ]
  },
  {
   "cell_type": "code",
   "execution_count": 3,
   "id": "68279577-97a6-4d04-acad-d5bfae3d8a34",
   "metadata": {},
   "outputs": [],
   "source": [
    "# import the metadata into a dataframe\n",
    "wb_metadata_df = pd.read_csv(Path('../data/WB_METADATA.csv'))"
   ]
  },
  {
   "cell_type": "code",
   "execution_count": 4,
   "id": "bfd4a830-e3a0-4c0a-a440-8633c915e50e",
   "metadata": {},
   "outputs": [
    {
     "data": {
      "text/html": [
       "<div>\n",
       "<style scoped>\n",
       "    .dataframe tbody tr th:only-of-type {\n",
       "        vertical-align: middle;\n",
       "    }\n",
       "\n",
       "    .dataframe tbody tr th {\n",
       "        vertical-align: top;\n",
       "    }\n",
       "\n",
       "    .dataframe thead th {\n",
       "        text-align: right;\n",
       "    }\n",
       "</style>\n",
       "<table border=\"1\" class=\"dataframe\">\n",
       "  <thead>\n",
       "    <tr style=\"text-align: right;\">\n",
       "      <th></th>\n",
       "      <th>series_id</th>\n",
       "      <th>name</th>\n",
       "      <th>description</th>\n",
       "    </tr>\n",
       "  </thead>\n",
       "  <tbody>\n",
       "    <tr>\n",
       "      <th>0</th>\n",
       "      <td>AG.LND.IRIG.AG.ZS</td>\n",
       "      <td>Agricultural irrigated land (% of total agricu...</td>\n",
       "      <td>Agricultural irrigated land refers to agricult...</td>\n",
       "    </tr>\n",
       "    <tr>\n",
       "      <th>1</th>\n",
       "      <td>AG.LND.AGRI.ZS</td>\n",
       "      <td>Agricultural land (% of land area)</td>\n",
       "      <td>Agricultural land refers to the share of land ...</td>\n",
       "    </tr>\n",
       "    <tr>\n",
       "      <th>2</th>\n",
       "      <td>AG.LND.AGRI.K2</td>\n",
       "      <td>Agricultural land (sq. km)</td>\n",
       "      <td>Agricultural land refers to the share of land ...</td>\n",
       "    </tr>\n",
       "    <tr>\n",
       "      <th>3</th>\n",
       "      <td>SH.DYN.AIDS.ZS</td>\n",
       "      <td>Prevalence of HIV, total (% of population ages...</td>\n",
       "      <td>Prevalence of HIV refers to the percentage of ...</td>\n",
       "    </tr>\n",
       "    <tr>\n",
       "      <th>4</th>\n",
       "      <td>DC.DAC.CANL.CD</td>\n",
       "      <td>Net bilateral aid flows from DAC donors, Canad...</td>\n",
       "      <td>Net bilateral aid flows from DAC donors are th...</td>\n",
       "    </tr>\n",
       "  </tbody>\n",
       "</table>\n",
       "</div>"
      ],
      "text/plain": [
       "           series_id                                               name  \\\n",
       "0  AG.LND.IRIG.AG.ZS  Agricultural irrigated land (% of total agricu...   \n",
       "1     AG.LND.AGRI.ZS                 Agricultural land (% of land area)   \n",
       "2     AG.LND.AGRI.K2                         Agricultural land (sq. km)   \n",
       "3     SH.DYN.AIDS.ZS  Prevalence of HIV, total (% of population ages...   \n",
       "4     DC.DAC.CANL.CD  Net bilateral aid flows from DAC donors, Canad...   \n",
       "\n",
       "                                         description  \n",
       "0  Agricultural irrigated land refers to agricult...  \n",
       "1  Agricultural land refers to the share of land ...  \n",
       "2  Agricultural land refers to the share of land ...  \n",
       "3  Prevalence of HIV refers to the percentage of ...  \n",
       "4  Net bilateral aid flows from DAC donors are th...  "
      ]
     },
     "execution_count": 4,
     "metadata": {},
     "output_type": "execute_result"
    }
   ],
   "source": [
    "# verify csv file has been read\n",
    "wb_metadata_df.head()"
   ]
  },
  {
   "cell_type": "code",
   "execution_count": 5,
   "id": "10b19e54-a194-40ed-9de0-b8dbbdecb5a5",
   "metadata": {},
   "outputs": [],
   "source": [
    "# import the actual data file\n",
    "wb_data_df = pd.read_csv(Path('../data/WB_DATA.csv'))"
   ]
  },
  {
   "cell_type": "code",
   "execution_count": 6,
   "id": "85a24c59-1cec-46bf-9ff0-5a96ffd0f647",
   "metadata": {},
   "outputs": [
    {
     "data": {
      "text/html": [
       "<div>\n",
       "<style scoped>\n",
       "    .dataframe tbody tr th:only-of-type {\n",
       "        vertical-align: middle;\n",
       "    }\n",
       "\n",
       "    .dataframe tbody tr th {\n",
       "        vertical-align: top;\n",
       "    }\n",
       "\n",
       "    .dataframe thead th {\n",
       "        text-align: right;\n",
       "    }\n",
       "</style>\n",
       "<table border=\"1\" class=\"dataframe\">\n",
       "  <thead>\n",
       "    <tr style=\"text-align: right;\">\n",
       "      <th></th>\n",
       "      <th>series_id</th>\n",
       "      <th>country_code</th>\n",
       "      <th>country_name</th>\n",
       "      <th>year</th>\n",
       "      <th>value</th>\n",
       "    </tr>\n",
       "  </thead>\n",
       "  <tbody>\n",
       "    <tr>\n",
       "      <th>0</th>\n",
       "      <td>AG.LND.AGRI.ZS</td>\n",
       "      <td>ECA</td>\n",
       "      <td>Europe &amp; Central Asia (excluding high income)</td>\n",
       "      <td>1981</td>\n",
       "      <td>28.436899</td>\n",
       "    </tr>\n",
       "    <tr>\n",
       "      <th>1</th>\n",
       "      <td>TM.VAL.AGRI.ZS.UN</td>\n",
       "      <td>LKA</td>\n",
       "      <td>Sri Lanka</td>\n",
       "      <td>1985</td>\n",
       "      <td>1.879218</td>\n",
       "    </tr>\n",
       "    <tr>\n",
       "      <th>2</th>\n",
       "      <td>TM.VAL.AGRI.ZS.UN</td>\n",
       "      <td>LKA</td>\n",
       "      <td>Sri Lanka</td>\n",
       "      <td>1986</td>\n",
       "      <td>1.621166</td>\n",
       "    </tr>\n",
       "    <tr>\n",
       "      <th>3</th>\n",
       "      <td>TM.VAL.AGRI.ZS.UN</td>\n",
       "      <td>LKA</td>\n",
       "      <td>Sri Lanka</td>\n",
       "      <td>1987</td>\n",
       "      <td>1.856747</td>\n",
       "    </tr>\n",
       "    <tr>\n",
       "      <th>4</th>\n",
       "      <td>TM.VAL.AGRI.ZS.UN</td>\n",
       "      <td>LKA</td>\n",
       "      <td>Sri Lanka</td>\n",
       "      <td>1990</td>\n",
       "      <td>1.803669</td>\n",
       "    </tr>\n",
       "  </tbody>\n",
       "</table>\n",
       "</div>"
      ],
      "text/plain": [
       "           series_id country_code  \\\n",
       "0     AG.LND.AGRI.ZS          ECA   \n",
       "1  TM.VAL.AGRI.ZS.UN          LKA   \n",
       "2  TM.VAL.AGRI.ZS.UN          LKA   \n",
       "3  TM.VAL.AGRI.ZS.UN          LKA   \n",
       "4  TM.VAL.AGRI.ZS.UN          LKA   \n",
       "\n",
       "                                    country_name  year      value  \n",
       "0  Europe & Central Asia (excluding high income)  1981  28.436899  \n",
       "1                                      Sri Lanka  1985   1.879218  \n",
       "2                                      Sri Lanka  1986   1.621166  \n",
       "3                                      Sri Lanka  1987   1.856747  \n",
       "4                                      Sri Lanka  1990   1.803669  "
      ]
     },
     "execution_count": 6,
     "metadata": {},
     "output_type": "execute_result"
    }
   ],
   "source": [
    "# verify successful read\n",
    "wb_data_df.head()"
   ]
  },
  {
   "cell_type": "code",
   "execution_count": null,
   "id": "d3dcebd6-136d-4309-b073-0a274ce62fb0",
   "metadata": {},
   "outputs": [
    {
     "data": {
      "text/plain": [
       "'the file data_AG_LND_IRIG_AG_ZS.csv has been created'"
      ]
     },
     "metadata": {},
     "output_type": "display_data"
    },
    {
     "data": {
      "text/plain": [
       "'the file data_AG_LND_AGRI_ZS.csv has been created'"
      ]
     },
     "metadata": {},
     "output_type": "display_data"
    },
    {
     "data": {
      "text/plain": [
       "'the file data_AG_LND_AGRI_K2.csv has been created'"
      ]
     },
     "metadata": {},
     "output_type": "display_data"
    },
    {
     "data": {
      "text/plain": [
       "'the file data_SH_DYN_AIDS_ZS.csv has been created'"
      ]
     },
     "metadata": {},
     "output_type": "display_data"
    },
    {
     "data": {
      "text/plain": [
       "'the file data_DC_DAC_CANL_CD.csv has been created'"
      ]
     },
     "metadata": {},
     "output_type": "display_data"
    },
    {
     "data": {
      "text/plain": [
       "'the file data_DC_DAC_CZEL_CD.csv has been created'"
      ]
     },
     "metadata": {},
     "output_type": "display_data"
    },
    {
     "data": {
      "text/plain": [
       "'the file data_AG_PRD_LVSK_XD.csv has been created'"
      ]
     },
     "metadata": {},
     "output_type": "display_data"
    },
    {
     "data": {
      "text/plain": [
       "'the file data_AG_LND_EL5M_RU_ZS.csv has been created'"
      ]
     },
     "metadata": {},
     "output_type": "display_data"
    },
    {
     "data": {
      "text/plain": [
       "'the file data_SH_STA_MMRT.csv has been created'"
      ]
     },
     "metadata": {},
     "output_type": "display_data"
    },
    {
     "data": {
      "text/plain": [
       "'the file data_SH_STA_ANVC_ZS.csv has been created'"
      ]
     },
     "metadata": {},
     "output_type": "display_data"
    },
    {
     "data": {
      "text/plain": [
       "'the file data_DC_DAC_DNKL_CD.csv has been created'"
      ]
     },
     "metadata": {},
     "output_type": "display_data"
    },
    {
     "data": {
      "text/plain": [
       "'the file data_DC_DAC_CECL_CD.csv has been created'"
      ]
     },
     "metadata": {},
     "output_type": "display_data"
    },
    {
     "data": {
      "text/plain": [
       "'the file data_SL_UEM_INTM_MA_ZS.csv has been created'"
      ]
     },
     "metadata": {},
     "output_type": "display_data"
    },
    {
     "data": {
      "text/plain": [
       "'the file data_SL_UEM_TOTL_FE_NE_ZS.csv has been created'"
      ]
     },
     "metadata": {},
     "output_type": "display_data"
    },
    {
     "data": {
      "text/plain": [
       "'the file data_BX_GRT_EXTA_CD_WD.csv has been created'"
      ]
     },
     "metadata": {},
     "output_type": "display_data"
    },
    {
     "data": {
      "text/plain": [
       "'the file data_AG_CON_FERT_ZS.csv has been created'"
      ]
     },
     "metadata": {},
     "output_type": "display_data"
    },
    {
     "data": {
      "text/plain": [
       "'the file data_DC_DAC_FINL_CD.csv has been created'"
      ]
     },
     "metadata": {},
     "output_type": "display_data"
    },
    {
     "data": {
      "text/plain": [
       "'the file data_DC_DAC_FRAL_CD.csv has been created'"
      ]
     },
     "metadata": {},
     "output_type": "display_data"
    },
    {
     "data": {
      "text/plain": [
       "'the file data_DC_DAC_DEUL_CD.csv has been created'"
      ]
     },
     "metadata": {},
     "output_type": "display_data"
    },
    {
     "data": {
      "text/plain": [
       "'the file data_SL_TLF_CACT_NE_ZS.csv has been created'"
      ]
     },
     "metadata": {},
     "output_type": "display_data"
    },
    {
     "data": {
      "text/plain": [
       "'the file data_NV_AGR_TOTL_CD.csv has been created'"
      ]
     },
     "metadata": {},
     "output_type": "display_data"
    },
    {
     "data": {
      "text/plain": [
       "'the file data_AG_LND_FRST_ZS.csv has been created'"
      ]
     },
     "metadata": {},
     "output_type": "display_data"
    },
    {
     "data": {
      "text/plain": [
       "'the file data_AG_LND_FRST_K2.csv has been created'"
      ]
     },
     "metadata": {},
     "output_type": "display_data"
    },
    {
     "data": {
      "text/plain": [
       "'the file data_DC_DAC_GRCL_CD.csv has been created'"
      ]
     },
     "metadata": {},
     "output_type": "display_data"
    },
    {
     "data": {
      "text/plain": [
       "'the file data_DC_DAC_HUNL_CD.csv has been created'"
      ]
     },
     "metadata": {},
     "output_type": "display_data"
    },
    {
     "data": {
      "text/plain": [
       "'the file data_DC_DAC_ISLL_CD.csv has been created'"
      ]
     },
     "metadata": {},
     "output_type": "display_data"
    },
    {
     "data": {
      "text/plain": [
       "'the file data_SL_UEM_TOTL_MA_NE_ZS.csv has been created'"
      ]
     },
     "metadata": {},
     "output_type": "display_data"
    },
    {
     "data": {
      "text/plain": [
       "'the file data_EN_ATM_METH_AG_KT_CE.csv has been created'"
      ]
     },
     "metadata": {},
     "output_type": "display_data"
    },
    {
     "data": {
      "text/plain": [
       "'the file data_ER_H2O_FWAG_ZS.csv has been created'"
      ]
     },
     "metadata": {},
     "output_type": "display_data"
    },
    {
     "data": {
      "text/plain": [
       "'the file data_AG_LND_ARBL_ZS.csv has been created'"
      ]
     },
     "metadata": {},
     "output_type": "display_data"
    },
    {
     "data": {
      "text/plain": [
       "'the file data_DC_DAC_IRLL_CD.csv has been created'"
      ]
     },
     "metadata": {},
     "output_type": "display_data"
    },
    {
     "data": {
      "text/plain": [
       "'the file data_DC_DAC_ITAL_CD.csv has been created'"
      ]
     },
     "metadata": {},
     "output_type": "display_data"
    },
    {
     "data": {
      "text/plain": [
       "'the file data_DC_DAC_JPNL_CD.csv has been created'"
      ]
     },
     "metadata": {},
     "output_type": "display_data"
    },
    {
     "data": {
      "text/plain": [
       "'the file data_SL_UEM_TOTL_NE_ZS.csv has been created'"
      ]
     },
     "metadata": {},
     "output_type": "display_data"
    },
    {
     "data": {
      "text/plain": [
       "'the file data_AG_AGR_TRAC_NO.csv has been created'"
      ]
     },
     "metadata": {},
     "output_type": "display_data"
    },
    {
     "data": {
      "text/plain": [
       "'the file data_AG_LND_ARBL_HA_PC.csv has been created'"
      ]
     },
     "metadata": {},
     "output_type": "display_data"
    },
    {
     "data": {
      "text/plain": [
       "'the file data_AG_LND_ARBL_HA.csv has been created'"
      ]
     },
     "metadata": {},
     "output_type": "display_data"
    },
    {
     "data": {
      "text/plain": [
       "'the file data_AG_LND_TOTL_K2.csv has been created'"
      ]
     },
     "metadata": {},
     "output_type": "display_data"
    },
    {
     "data": {
      "text/plain": [
       "'the file data_AG_LND_CREL_HA.csv has been created'"
      ]
     },
     "metadata": {},
     "output_type": "display_data"
    },
    {
     "data": {
      "text/plain": [
       "'the file data_DC_DAC_KORL_CD.csv has been created'"
      ]
     },
     "metadata": {},
     "output_type": "display_data"
    },
    {
     "data": {
      "text/plain": [
       "'the file data_DC_DAC_LUXL_CD.csv has been created'"
      ]
     },
     "metadata": {},
     "output_type": "display_data"
    },
    {
     "data": {
      "text/plain": [
       "'the file data_AG_LND_PRCP_MM.csv has been created'"
      ]
     },
     "metadata": {},
     "output_type": "display_data"
    },
    {
     "data": {
      "text/plain": [
       "'the file data_AG_PRD_CREL_MT.csv has been created'"
      ]
     },
     "metadata": {},
     "output_type": "display_data"
    },
    {
     "data": {
      "text/plain": [
       "'the file data_AG_LND_CROP_ZS.csv has been created'"
      ]
     },
     "metadata": {},
     "output_type": "display_data"
    },
    {
     "data": {
      "text/plain": [
       "'the file data_DC_DAC_NLDL_CD.csv has been created'"
      ]
     },
     "metadata": {},
     "output_type": "display_data"
    },
    {
     "data": {
      "text/plain": [
       "'the file data_DC_DAC_NZLL_CD.csv has been created'"
      ]
     },
     "metadata": {},
     "output_type": "display_data"
    },
    {
     "data": {
      "text/plain": [
       "'the file data_DC_DAC_NORL_CD.csv has been created'"
      ]
     },
     "metadata": {},
     "output_type": "display_data"
    },
    {
     "data": {
      "text/plain": [
       "'the file data_AG_YLD_CREL_KG.csv has been created'"
      ]
     },
     "metadata": {},
     "output_type": "display_data"
    },
    {
     "data": {
      "text/plain": [
       "'the file data_AG_LND_TOTL_RU_K2.csv has been created'"
      ]
     },
     "metadata": {},
     "output_type": "display_data"
    },
    {
     "data": {
      "text/plain": [
       "'the file data_DC_DAC_POLL_CD.csv has been created'"
      ]
     },
     "metadata": {},
     "output_type": "display_data"
    },
    {
     "data": {
      "text/plain": [
       "'the file data_DC_DAC_PRTL_CD.csv has been created'"
      ]
     },
     "metadata": {},
     "output_type": "display_data"
    },
    {
     "data": {
      "text/plain": [
       "'the file data_DC_DAC_SVKL_CD.csv has been created'"
      ]
     },
     "metadata": {},
     "output_type": "display_data"
    },
    {
     "data": {
      "text/plain": [
       "'the file data_DC_DAC_AUSL_CD.csv has been created'"
      ]
     },
     "metadata": {},
     "output_type": "display_data"
    },
    {
     "data": {
      "text/plain": [
       "'the file data_DC_DAC_SVNL_CD.csv has been created'"
      ]
     },
     "metadata": {},
     "output_type": "display_data"
    },
    {
     "data": {
      "text/plain": [
       "'the file data_DC_DAC_ESPL_CD.csv has been created'"
      ]
     },
     "metadata": {},
     "output_type": "display_data"
    },
    {
     "data": {
      "text/plain": [
       "'the file data_DC_DAC_SWEL_CD.csv has been created'"
      ]
     },
     "metadata": {},
     "output_type": "display_data"
    },
    {
     "data": {
      "text/plain": [
       "'the file data_AG_PRD_CROP_XD.csv has been created'"
      ]
     },
     "metadata": {},
     "output_type": "display_data"
    },
    {
     "data": {
      "text/plain": [
       "'the file data_AG_LND_EL5M_RU_K2.csv has been created'"
      ]
     },
     "metadata": {},
     "output_type": "display_data"
    },
    {
     "data": {
      "text/plain": [
       "'the file data_DC_DAC_CHEL_CD.csv has been created'"
      ]
     },
     "metadata": {},
     "output_type": "display_data"
    },
    {
     "data": {
      "text/plain": [
       "'the file data_DC_DAC_GBRL_CD.csv has been created'"
      ]
     },
     "metadata": {},
     "output_type": "display_data"
    },
    {
     "data": {
      "text/plain": [
       "'the file data_DC_DAC_USAL_CD.csv has been created'"
      ]
     },
     "metadata": {},
     "output_type": "display_data"
    },
    {
     "data": {
      "text/plain": [
       "'the file data_DT_ODA_OATL_CD.csv has been created'"
      ]
     },
     "metadata": {},
     "output_type": "display_data"
    },
    {
     "data": {
      "text/plain": [
       "'the file data_SL_UEM_1524_FE_NE_ZS.csv has been created'"
      ]
     },
     "metadata": {},
     "output_type": "display_data"
    },
    {
     "data": {
      "text/plain": [
       "'the file data_SP_RUR_TOTL.csv has been created'"
      ]
     },
     "metadata": {},
     "output_type": "display_data"
    },
    {
     "data": {
      "text/plain": [
       "'the file data_DT_ODA_ALLD_KD.csv has been created'"
      ]
     },
     "metadata": {},
     "output_type": "display_data"
    },
    {
     "data": {
      "text/plain": [
       "'the file data_SE_PRM_CMPT_ZS.csv has been created'"
      ]
     },
     "metadata": {},
     "output_type": "display_data"
    },
    {
     "data": {
      "text/plain": [
       "'the file data_SE_ENR_PRSC_FM_ZS.csv has been created'"
      ]
     },
     "metadata": {},
     "output_type": "display_data"
    },
    {
     "data": {
      "text/plain": [
       "'the file data_DT_ODA_ALLD_CD.csv has been created'"
      ]
     },
     "metadata": {},
     "output_type": "display_data"
    },
    {
     "data": {
      "text/plain": [
       "'the file data_DT_ODA_ODAT_KD.csv has been created'"
      ]
     },
     "metadata": {},
     "output_type": "display_data"
    },
    {
     "data": {
      "text/plain": [
       "'the file data_DT_NFL_FAOG_CD.csv has been created'"
      ]
     },
     "metadata": {},
     "output_type": "display_data"
    },
    {
     "data": {
      "text/plain": [
       "'the file data_SP_RUR_TOTL_ZS.csv has been created'"
      ]
     },
     "metadata": {},
     "output_type": "display_data"
    },
    {
     "data": {
      "text/plain": [
       "'the file data_DT_NFL_IAEA_CD.csv has been created'"
      ]
     },
     "metadata": {},
     "output_type": "display_data"
    },
    {
     "data": {
      "text/plain": [
       "'the file data_DT_NFL_IFAD_CD.csv has been created'"
      ]
     },
     "metadata": {},
     "output_type": "display_data"
    },
    {
     "data": {
      "text/plain": [
       "'the file data_DT_NFL_ILOG_CD.csv has been created'"
      ]
     },
     "metadata": {},
     "output_type": "display_data"
    },
    {
     "data": {
      "text/plain": [
       "'the file data_SL_TLF_CACT_FM_ZS.csv has been created'"
      ]
     },
     "metadata": {},
     "output_type": "display_data"
    },
    {
     "data": {
      "text/plain": [
       "'the file data_DT_NFL_UNAI_CD.csv has been created'"
      ]
     },
     "metadata": {},
     "output_type": "display_data"
    },
    {
     "data": {
      "text/plain": [
       "'the file data_DT_NFL_UNDP_CD.csv has been created'"
      ]
     },
     "metadata": {},
     "output_type": "display_data"
    },
    {
     "data": {
      "text/plain": [
       "'the file data_DT_NFL_UNEC_CD.csv has been created'"
      ]
     },
     "metadata": {},
     "output_type": "display_data"
    },
    {
     "data": {
      "text/plain": [
       "'the file data_DT_NFL_UNEP_CD.csv has been created'"
      ]
     },
     "metadata": {},
     "output_type": "display_data"
    },
    {
     "data": {
      "text/plain": [
       "'the file data_EN_POP_EL5M_RU_ZS.csv has been created'"
      ]
     },
     "metadata": {},
     "output_type": "display_data"
    },
    {
     "data": {
      "text/plain": [
       "'the file data_SH_TBS_INCD.csv has been created'"
      ]
     },
     "metadata": {},
     "output_type": "display_data"
    },
    {
     "data": {
      "text/plain": [
       "'the file data_DC_DAC_AUTL_CD.csv has been created'"
      ]
     },
     "metadata": {},
     "output_type": "display_data"
    },
    {
     "data": {
      "text/plain": [
       "'the file data_DT_NFL_UNFP_CD.csv has been created'"
      ]
     },
     "metadata": {},
     "output_type": "display_data"
    },
    {
     "data": {
      "text/plain": [
       "'the file data_SL_UEM_1524_MA_NE_ZS.csv has been created'"
      ]
     },
     "metadata": {},
     "output_type": "display_data"
    },
    {
     "data": {
      "text/plain": [
       "'the file data_SL_UEM_1524_ZS.csv has been created'"
      ]
     },
     "metadata": {},
     "output_type": "display_data"
    },
    {
     "data": {
      "text/plain": [
       "'the file data_EN_ATM_NOXE_AG_ZS.csv has been created'"
      ]
     },
     "metadata": {},
     "output_type": "display_data"
    },
    {
     "data": {
      "text/plain": [
       "'the file data_SL_AGR_EMPL_ZS.csv has been created'"
      ]
     },
     "metadata": {},
     "output_type": "display_data"
    },
    {
     "data": {
      "text/plain": [
       "'the file data_SI_DST_FRST_20.csv has been created'"
      ]
     },
     "metadata": {},
     "output_type": "display_data"
    },
    {
     "data": {
      "text/plain": [
       "'the file data_DT_NFL_UNCR_CD.csv has been created'"
      ]
     },
     "metadata": {},
     "output_type": "display_data"
    },
    {
     "data": {
      "text/plain": [
       "'the file data_DT_NFL_UNCF_CD.csv has been created'"
      ]
     },
     "metadata": {},
     "output_type": "display_data"
    },
    {
     "data": {
      "text/plain": [
       "'the file data_SL_UEM_1524_NE_ZS.csv has been created'"
      ]
     },
     "metadata": {},
     "output_type": "display_data"
    },
    {
     "data": {
      "text/plain": [
       "'the file data_SL_AGR_EMPL_FE_ZS.csv has been created'"
      ]
     },
     "metadata": {},
     "output_type": "display_data"
    },
    {
     "data": {
      "text/plain": [
       "'the file data_DT_ODA_ODAT_GN_ZS.csv has been created'"
      ]
     },
     "metadata": {},
     "output_type": "display_data"
    },
    {
     "data": {
      "text/plain": [
       "'the file data_DT_NFL_UNID_CD.csv has been created'"
      ]
     },
     "metadata": {},
     "output_type": "display_data"
    },
    {
     "data": {
      "text/plain": [
       "'the file data_DT_NFL_UNPB_CD.csv has been created'"
      ]
     },
     "metadata": {},
     "output_type": "display_data"
    },
    {
     "data": {
      "text/plain": [
       "'the file data_SL_EMP_WORK_ZS.csv has been created'"
      ]
     },
     "metadata": {},
     "output_type": "display_data"
    },
    {
     "data": {
      "text/plain": [
       "'the file data_EN_ATM_NOXE_AG_KT_CE.csv has been created'"
      ]
     },
     "metadata": {},
     "output_type": "display_data"
    },
    {
     "data": {
      "text/plain": [
       "'the file data_EN_CLC_DRSK_XQ.csv has been created'"
      ]
     },
     "metadata": {},
     "output_type": "display_data"
    },
    {
     "data": {
      "text/plain": [
       "'the file data_DT_NFL_UNRW_CD.csv has been created'"
      ]
     },
     "metadata": {},
     "output_type": "display_data"
    },
    {
     "data": {
      "text/plain": [
       "'the file data_EN_POP_EL5M_ZS.csv has been created'"
      ]
     },
     "metadata": {},
     "output_type": "display_data"
    },
    {
     "data": {
      "text/plain": [
       "'the file data_DT_NFL_UNTA_CD.csv has been created'"
      ]
     },
     "metadata": {},
     "output_type": "display_data"
    },
    {
     "data": {
      "text/plain": [
       "'the file data_EN_POP_DNST.csv has been created'"
      ]
     },
     "metadata": {},
     "output_type": "display_data"
    },
    {
     "data": {
      "text/plain": [
       "'the file data_EN_URB_LCTY.csv has been created'"
      ]
     },
     "metadata": {},
     "output_type": "display_data"
    },
    {
     "data": {
      "text/plain": [
       "'the file data_EN_URB_MCTY.csv has been created'"
      ]
     },
     "metadata": {},
     "output_type": "display_data"
    },
    {
     "data": {
      "text/plain": [
       "'the file data_DT_NFL_UNWT_CD.csv has been created'"
      ]
     },
     "metadata": {},
     "output_type": "display_data"
    },
    {
     "data": {
      "text/plain": [
       "'the file data_DT_NFL_WFPG_CD.csv has been created'"
      ]
     },
     "metadata": {},
     "output_type": "display_data"
    },
    {
     "data": {
      "text/plain": [
       "'the file data_DT_NFL_WHOL_CD.csv has been created'"
      ]
     },
     "metadata": {},
     "output_type": "display_data"
    },
    {
     "data": {
      "text/plain": [
       "'the file data_SI_POV_DDAY.csv has been created'"
      ]
     },
     "metadata": {},
     "output_type": "display_data"
    },
    {
     "data": {
      "text/plain": [
       "'the file data_ER_H2O_FWTL_ZS.csv has been created'"
      ]
     },
     "metadata": {},
     "output_type": "display_data"
    },
    {
     "data": {
      "text/plain": [
       "'the file data_DC_DAC_BELL_CD.csv has been created'"
      ]
     },
     "metadata": {},
     "output_type": "display_data"
    },
    {
     "data": {
      "text/plain": [
       "'the file data_ER_H2O_FWTL_K3.csv has been created'"
      ]
     },
     "metadata": {},
     "output_type": "display_data"
    },
    {
     "data": {
      "text/plain": [
       "'the file data_EN_ATM_CO2E_KT.csv has been created'"
      ]
     },
     "metadata": {},
     "output_type": "display_data"
    },
    {
     "data": {
      "text/plain": [
       "'the file data_EN_ATM_CO2E_PC.csv has been created'"
      ]
     },
     "metadata": {},
     "output_type": "display_data"
    },
    {
     "data": {
      "text/plain": [
       "'the file data_EN_ATM_CO2E_GF_ZS.csv has been created'"
      ]
     },
     "metadata": {},
     "output_type": "display_data"
    },
    {
     "data": {
      "text/plain": [
       "'the file data_EN_ATM_CO2E_GF_KT.csv has been created'"
      ]
     },
     "metadata": {},
     "output_type": "display_data"
    },
    {
     "data": {
      "text/plain": [
       "'the file data_EN_ATM_CO2E_SF_ZS.csv has been created'"
      ]
     },
     "metadata": {},
     "output_type": "display_data"
    },
    {
     "data": {
      "text/plain": [
       "'the file data_EN_ATM_CO2E_SF_KT.csv has been created'"
      ]
     },
     "metadata": {},
     "output_type": "display_data"
    },
    {
     "data": {
      "text/plain": [
       "'the file data_EN_ATM_CO2E_EG_ZS.csv has been created'"
      ]
     },
     "metadata": {},
     "output_type": "display_data"
    },
    {
     "data": {
      "text/plain": [
       "'the file data_SH_MED_CMHW_P3.csv has been created'"
      ]
     },
     "metadata": {},
     "output_type": "display_data"
    },
    {
     "data": {
      "text/plain": [
       "'the file data_DT_ODA_ODAT_MP_ZS.csv has been created'"
      ]
     },
     "metadata": {},
     "output_type": "display_data"
    },
    {
     "data": {
      "text/plain": [
       "'the file data_IQ_CPA_PUBS_XQ.csv has been created'"
      ]
     },
     "metadata": {},
     "output_type": "display_data"
    },
    {
     "data": {
      "text/plain": [
       "'the file data_EN_CLC_MDAT_ZS.csv has been created'"
      ]
     },
     "metadata": {},
     "output_type": "display_data"
    },
    {
     "data": {
      "text/plain": [
       "'the file data_EG_USE_ELEC_KH_PC.csv has been created'"
      ]
     },
     "metadata": {},
     "output_type": "display_data"
    },
    {
     "data": {
      "text/plain": [
       "'the file data_EG_ELC_COAL_ZS.csv has been created'"
      ]
     },
     "metadata": {},
     "output_type": "display_data"
    },
    {
     "data": {
      "text/plain": [
       "'the file data_EG_ELC_HYRO_ZS.csv has been created'"
      ]
     },
     "metadata": {},
     "output_type": "display_data"
    },
    {
     "data": {
      "text/plain": [
       "'the file data_EG_ELC_NGAS_ZS.csv has been created'"
      ]
     },
     "metadata": {},
     "output_type": "display_data"
    },
    {
     "data": {
      "text/plain": [
       "'the file data_EG_ELC_PETR_ZS.csv has been created'"
      ]
     },
     "metadata": {},
     "output_type": "display_data"
    },
    {
     "data": {
      "text/plain": [
       "'the file data_EG_USE_PCAP_KG_OE.csv has been created'"
      ]
     },
     "metadata": {},
     "output_type": "display_data"
    },
    {
     "data": {
      "text/plain": [
       "'the file data_SL_AGR_EMPL_MA_ZS.csv has been created'"
      ]
     },
     "metadata": {},
     "output_type": "display_data"
    },
    {
     "data": {
      "text/plain": [
       "'the file data_EG_ELC_RNWX_ZS.csv has been created'"
      ]
     },
     "metadata": {},
     "output_type": "display_data"
    },
    {
     "data": {
      "text/plain": [
       "'the file data_EG_ELC_RNWX_KH.csv has been created'"
      ]
     },
     "metadata": {},
     "output_type": "display_data"
    },
    {
     "data": {
      "text/plain": [
       "'the file data_EG_USE_COMM_GD_PP_KD.csv has been created'"
      ]
     },
     "metadata": {},
     "output_type": "display_data"
    },
    {
     "data": {
      "text/plain": [
       "'the file data_BX_KLT_DINV_WD_GD_ZS.csv has been created'"
      ]
     },
     "metadata": {},
     "output_type": "display_data"
    },
    {
     "data": {
      "text/plain": [
       "'the file data_EN_CLC_GHGR_MT_CE.csv has been created'"
      ]
     },
     "metadata": {},
     "output_type": "display_data"
    },
    {
     "data": {
      "text/plain": [
       "'the file data_ER_MRN_PTMR_ZS.csv has been created'"
      ]
     },
     "metadata": {},
     "output_type": "display_data"
    },
    {
     "data": {
      "text/plain": [
       "'the file data_EN_ATM_METH_KT_CE.csv has been created'"
      ]
     },
     "metadata": {},
     "output_type": "display_data"
    },
    {
     "data": {
      "text/plain": [
       "'the file data_EN_ATM_NOXE_ZG.csv has been created'"
      ]
     },
     "metadata": {},
     "output_type": "display_data"
    },
    {
     "data": {
      "text/plain": [
       "'the file data_EN_ATM_NOXE_KT_CE.csv has been created'"
      ]
     },
     "metadata": {},
     "output_type": "display_data"
    },
    {
     "data": {
      "text/plain": [
       "'the file data_TX_VAL_AGRI_ZS_UN.csv has been created'"
      ]
     },
     "metadata": {},
     "output_type": "display_data"
    },
    {
     "data": {
      "text/plain": [
       "'the file data_DT_ODA_ODAT_GI_ZS.csv has been created'"
      ]
     },
     "metadata": {},
     "output_type": "display_data"
    },
    {
     "data": {
      "text/plain": [
       "'the file data_EN_ATM_METH_ZG.csv has been created'"
      ]
     },
     "metadata": {},
     "output_type": "display_data"
    },
    {
     "data": {
      "text/plain": [
       "'the file data_EN_ATM_GHGO_ZG.csv has been created'"
      ]
     },
     "metadata": {},
     "output_type": "display_data"
    },
    {
     "data": {
      "text/plain": [
       "'the file data_EN_ATM_GHGO_KT_CE.csv has been created'"
      ]
     },
     "metadata": {},
     "output_type": "display_data"
    },
    {
     "data": {
      "text/plain": [
       "'the file data_EN_ATM_PFCG_KT_CE.csv has been created'"
      ]
     },
     "metadata": {},
     "output_type": "display_data"
    },
    {
     "data": {
      "text/plain": [
       "'the file data_SP_POP_GROW.csv has been created'"
      ]
     },
     "metadata": {},
     "output_type": "display_data"
    },
    {
     "data": {
      "text/plain": [
       "'the file data_SH_STA_MALN_ZS.csv has been created'"
      ]
     },
     "metadata": {},
     "output_type": "display_data"
    },
    {
     "data": {
      "text/plain": [
       "'the file data_EG_ELC_RNEW_ZS.csv has been created'"
      ]
     },
     "metadata": {},
     "output_type": "display_data"
    },
    {
     "data": {
      "text/plain": [
       "'the file data_EG_FEC_RNEW_ZS.csv has been created'"
      ]
     },
     "metadata": {},
     "output_type": "display_data"
    },
    {
     "data": {
      "text/plain": [
       "'the file data_SP_URB_GROW.csv has been created'"
      ]
     },
     "metadata": {},
     "output_type": "display_data"
    },
    {
     "data": {
      "text/plain": [
       "'the file data_NY_ADJ_DNGY_CD.csv has been created'"
      ]
     },
     "metadata": {},
     "output_type": "display_data"
    },
    {
     "data": {
      "text/plain": [
       "'the file data_EN_ATM_SF6G_KT_CE.csv has been created'"
      ]
     },
     "metadata": {},
     "output_type": "display_data"
    },
    {
     "data": {
      "text/plain": [
       "'the file data_ER_PTD_TOTL_ZS.csv has been created'"
      ]
     },
     "metadata": {},
     "output_type": "display_data"
    },
    {
     "data": {
      "text/plain": [
       "'the file data_EN_ATM_GHGT_ZG.csv has been created'"
      ]
     },
     "metadata": {},
     "output_type": "display_data"
    },
    {
     "data": {
      "text/plain": [
       "'the file data_EN_ATM_GHGT_KT_CE.csv has been created'"
      ]
     },
     "metadata": {},
     "output_type": "display_data"
    },
    {
     "data": {
      "text/plain": [
       "'the file data_AG_LND_EL5M_UR_ZS.csv has been created'"
      ]
     },
     "metadata": {},
     "output_type": "display_data"
    },
    {
     "data": {
      "text/plain": [
       "'the file data_AG_LND_EL5M_UR_K2.csv has been created'"
      ]
     },
     "metadata": {},
     "output_type": "display_data"
    },
    {
     "data": {
      "text/plain": [
       "'the file data_SP_URB_TOTL.csv has been created'"
      ]
     },
     "metadata": {},
     "output_type": "display_data"
    },
    {
     "data": {
      "text/plain": [
       "'the file data_SP_URB_TOTL_IN_ZS.csv has been created'"
      ]
     },
     "metadata": {},
     "output_type": "display_data"
    },
    {
     "data": {
      "text/plain": [
       "'the file data_NY_ADJ_NNTY_KD_ZG.csv has been created'"
      ]
     },
     "metadata": {},
     "output_type": "display_data"
    },
    {
     "data": {
      "text/plain": [
       "'the file data_NY_ADJ_NNTY_KD.csv has been created'"
      ]
     },
     "metadata": {},
     "output_type": "display_data"
    },
    {
     "data": {
      "text/plain": [
       "'the file data_NY_ADJ_NNTY_CD.csv has been created'"
      ]
     },
     "metadata": {},
     "output_type": "display_data"
    },
    {
     "data": {
      "text/plain": [
       "'the file data_AG_LND_TRAC_ZS.csv has been created'"
      ]
     },
     "metadata": {},
     "output_type": "display_data"
    },
    {
     "data": {
      "text/plain": [
       "'the file data_NV_AGR_TOTL_ZS.csv has been created'"
      ]
     },
     "metadata": {},
     "output_type": "display_data"
    },
    {
     "data": {
      "text/plain": [
       "'the file data_NY_ADJ_ICTR_GN_ZS.csv has been created'"
      ]
     },
     "metadata": {},
     "output_type": "display_data"
    },
    {
     "data": {
      "text/plain": [
       "'the file data_EN_POP_EL5M_UR_ZS.csv has been created'"
      ]
     },
     "metadata": {},
     "output_type": "display_data"
    },
    {
     "data": {
      "text/plain": [
       "'the file data_NY_ADJ_NNTY_PC_KD.csv has been created'"
      ]
     },
     "metadata": {},
     "output_type": "display_data"
    },
    {
     "data": {
      "text/plain": [
       "'the file data_NY_ADJ_NNTY_PC_CD.csv has been created'"
      ]
     },
     "metadata": {},
     "output_type": "display_data"
    },
    {
     "data": {
      "text/plain": [
       "'the file data_NY_ADJ_SVNX_GN_ZS.csv has been created'"
      ]
     },
     "metadata": {},
     "output_type": "display_data"
    },
    {
     "data": {
      "text/plain": [
       "'the file data_NY_ADJ_SVNX_CD.csv has been created'"
      ]
     },
     "metadata": {},
     "output_type": "display_data"
    },
    {
     "data": {
      "text/plain": [
       "'the file data_NY_ADJ_SVNG_GN_ZS.csv has been created'"
      ]
     },
     "metadata": {},
     "output_type": "display_data"
    },
    {
     "data": {
      "text/plain": [
       "'the file data_NY_ADJ_SVNG_CD.csv has been created'"
      ]
     },
     "metadata": {},
     "output_type": "display_data"
    },
    {
     "data": {
      "text/plain": [
       "'the file data_EN_ATM_METH_AG_ZS.csv has been created'"
      ]
     },
     "metadata": {},
     "output_type": "display_data"
    },
    {
     "data": {
      "text/plain": [
       "'the file data_TM_VAL_AGRI_ZS_UN.csv has been created'"
      ]
     },
     "metadata": {},
     "output_type": "display_data"
    },
    {
     "data": {
      "text/plain": [
       "'the file data_AG_CON_FERT_PT_ZS.csv has been created'"
      ]
     },
     "metadata": {},
     "output_type": "display_data"
    },
    {
     "data": {
      "text/plain": [
       "'the file data_NY_ADJ_DMIN_GN_ZS.csv has been created'"
      ]
     },
     "metadata": {},
     "output_type": "display_data"
    },
    {
     "data": {
      "text/plain": [
       "'the file data_NY_ADJ_DMIN_CD.csv has been created'"
      ]
     },
     "metadata": {},
     "output_type": "display_data"
    },
    {
     "data": {
      "text/plain": [
       "'the file data_NY_ADJ_DCO2_GN_ZS.csv has been created'"
      ]
     },
     "metadata": {},
     "output_type": "display_data"
    },
    {
     "data": {
      "text/plain": [
       "'the file data_NY_ADJ_DCO2_CD.csv has been created'"
      ]
     },
     "metadata": {},
     "output_type": "display_data"
    },
    {
     "data": {
      "text/plain": [
       "'the file data_NY_ADJ_AEDU_GN_ZS.csv has been created'"
      ]
     },
     "metadata": {},
     "output_type": "display_data"
    },
    {
     "data": {
      "text/plain": [
       "'the file data_NY_ADJ_AEDU_CD.csv has been created'"
      ]
     },
     "metadata": {},
     "output_type": "display_data"
    },
    {
     "data": {
      "text/plain": [
       "'the file data_EG_ELC_ACCS_RU_ZS.csv has been created'"
      ]
     },
     "metadata": {},
     "output_type": "display_data"
    },
    {
     "data": {
      "text/plain": [
       "'the file data_DT_ODA_ODAT_XP_ZS.csv has been created'"
      ]
     },
     "metadata": {},
     "output_type": "display_data"
    },
    {
     "data": {
      "text/plain": [
       "'the file data_NY_ADJ_DNGY_GN_ZS.csv has been created'"
      ]
     },
     "metadata": {},
     "output_type": "display_data"
    },
    {
     "data": {
      "text/plain": [
       "'the file data_NY_ADJ_DRES_GN_ZS.csv has been created'"
      ]
     },
     "metadata": {},
     "output_type": "display_data"
    },
    {
     "data": {
      "text/plain": [
       "'the file data_NY_ADJ_DFOR_CD.csv has been created'"
      ]
     },
     "metadata": {},
     "output_type": "display_data"
    },
    {
     "data": {
      "text/plain": [
       "'the file data_NY_ADJ_NNAT_GN_ZS.csv has been created'"
      ]
     },
     "metadata": {},
     "output_type": "display_data"
    },
    {
     "data": {
      "text/plain": [
       "'the file data_NY_ADJ_DPEM_GN_ZS.csv has been created'"
      ]
     },
     "metadata": {},
     "output_type": "display_data"
    },
    {
     "data": {
      "text/plain": [
       "'the file data_NY_ADJ_DPEM_CD.csv has been created'"
      ]
     },
     "metadata": {},
     "output_type": "display_data"
    },
    {
     "data": {
      "text/plain": [
       "'the file data_AG_PRD_FOOD_XD.csv has been created'"
      ]
     },
     "metadata": {},
     "output_type": "display_data"
    },
    {
     "data": {
      "text/plain": [
       "'the file data_DT_ODA_ODAT_PC_ZS.csv has been created'"
      ]
     },
     "metadata": {},
     "output_type": "display_data"
    },
    {
     "data": {
      "text/plain": [
       "'the file data_AG_SRF_TOTL_K2.csv has been created'"
      ]
     },
     "metadata": {},
     "output_type": "display_data"
    },
    {
     "data": {
      "text/plain": [
       "'the file data_SH_DYN_MORT.csv has been created'"
      ]
     },
     "metadata": {},
     "output_type": "display_data"
    },
    {
     "data": {
      "text/plain": [
       "'the file data_SP_RUR_TOTL_ZG.csv has been created'"
      ]
     },
     "metadata": {},
     "output_type": "display_data"
    },
    {
     "data": {
      "text/plain": [
       "'the file data_BX_GRT_TECH_CD_WD.csv has been created'"
      ]
     },
     "metadata": {},
     "output_type": "display_data"
    },
    {
     "data": {
      "text/plain": [
       "'the file data_DT_ODA_ODAT_CD.csv has been created'"
      ]
     },
     "metadata": {},
     "output_type": "display_data"
    },
    {
     "data": {
      "text/plain": [
       "'the file data_NV_AGR_TOTL_KD_ZG.csv has been created'"
      ]
     },
     "metadata": {},
     "output_type": "display_data"
    },
    {
     "data": {
      "text/plain": [
       "'the file data_DT_ODA_OATL_KD.csv has been created'"
      ]
     },
     "metadata": {},
     "output_type": "display_data"
    },
    {
     "data": {
      "text/plain": [
       "'the file data_DC_DAC_TOTL_CD.csv has been created'"
      ]
     },
     "metadata": {},
     "output_type": "display_data"
    },
    {
     "data": {
      "text/plain": [
       "'the file data_SP_POP_3034_MA_5Y.csv has been created'"
      ]
     },
     "metadata": {},
     "output_type": "display_data"
    },
    {
     "data": {
      "text/plain": [
       "'the file data_SL_EMP_VULN_ZS.csv has been created'"
      ]
     },
     "metadata": {},
     "output_type": "display_data"
    },
    {
     "data": {
      "text/plain": [
       "'the file data_SM_POP_NETM.csv has been created'"
      ]
     },
     "metadata": {},
     "output_type": "display_data"
    },
    {
     "data": {
      "text/plain": [
       "'the file data_EG_ELC_ACCS_ZS.csv has been created'"
      ]
     },
     "metadata": {},
     "output_type": "display_data"
    },
    {
     "data": {
      "text/plain": [
       "'the file data_NV_MNF_TXTL_ZS_UN.csv has been created'"
      ]
     },
     "metadata": {},
     "output_type": "display_data"
    },
    {
     "data": {
      "text/plain": [
       "'the file data_NE_GDI_STKB_CN.csv has been created'"
      ]
     },
     "metadata": {},
     "output_type": "display_data"
    },
    {
     "data": {
      "text/plain": [
       "'the file data_SH_STA_STNT_ZS.csv has been created'"
      ]
     },
     "metadata": {},
     "output_type": "display_data"
    },
    {
     "data": {
      "text/plain": [
       "'the file data_EN_ATM_CO2E_PP_GD.csv has been created'"
      ]
     },
     "metadata": {},
     "output_type": "display_data"
    },
    {
     "data": {
      "text/plain": [
       "'the file data_EN_ATM_CO2E_PP_GD_KD.csv has been created'"
      ]
     },
     "metadata": {},
     "output_type": "display_data"
    },
    {
     "data": {
      "text/plain": [
       "'the file data_EN_ATM_CO2E_LF_ZS.csv has been created'"
      ]
     },
     "metadata": {},
     "output_type": "display_data"
    },
    {
     "data": {
      "text/plain": [
       "'the file data_EN_ATM_CO2E_LF_KT.csv has been created'"
      ]
     },
     "metadata": {},
     "output_type": "display_data"
    },
    {
     "data": {
      "text/plain": [
       "'the file data_IC_BUS_EASE_XQ.csv has been created'"
      ]
     },
     "metadata": {},
     "output_type": "display_data"
    },
    {
     "data": {
      "text/plain": [
       "'the file data_EN_ATM_CO2E_KD_GD.csv has been created'"
      ]
     },
     "metadata": {},
     "output_type": "display_data"
    },
    {
     "data": {
      "text/plain": [
       "'the file data_EG_ELC_NUCL_ZS.csv has been created'"
      ]
     },
     "metadata": {},
     "output_type": "display_data"
    },
    {
     "data": {
      "text/plain": [
       "'the file data_AG_LND_EL5M_ZS.csv has been created'"
      ]
     },
     "metadata": {},
     "output_type": "display_data"
    },
    {
     "data": {
      "text/plain": [
       "'the file data_EN_ATM_HFCG_KT_CE.csv has been created'"
      ]
     },
     "metadata": {},
     "output_type": "display_data"
    },
    {
     "data": {
      "text/plain": [
       "'the file data_EN_URB_MCTY_TL_ZS.csv has been created'"
      ]
     },
     "metadata": {},
     "output_type": "display_data"
    },
    {
     "data": {
      "text/plain": [
       "'the file data_SP_POP_TOTL.csv has been created'"
      ]
     },
     "metadata": {},
     "output_type": "display_data"
    },
    {
     "data": {
      "text/plain": [
       "'the file data_ER_LND_PTLD_ZS.csv has been created'"
      ]
     },
     "metadata": {},
     "output_type": "display_data"
    },
    {
     "data": {
      "text/plain": [
       "'the file data_NY_ADJ_NNTY_PC_KD_ZG.csv has been created'"
      ]
     },
     "metadata": {},
     "output_type": "display_data"
    },
    {
     "data": {
      "text/plain": [
       "'the file data_NY_ADJ_DKAP_CD.csv has been created'"
      ]
     },
     "metadata": {},
     "output_type": "display_data"
    },
    {
     "data": {
      "text/plain": [
       "'the file data_NY_ADJ_DKAP_GN_ZS.csv has been created'"
      ]
     },
     "metadata": {},
     "output_type": "display_data"
    },
    {
     "data": {
      "text/plain": [
       "'the file data_NY_ADJ_DFOR_GN_ZS.csv has been created'"
      ]
     },
     "metadata": {},
     "output_type": "display_data"
    },
    {
     "data": {
      "text/plain": [
       "'the file data_NY_ADJ_NNAT_CD.csv has been created'"
      ]
     },
     "metadata": {},
     "output_type": "display_data"
    },
    {
     "data": {
      "text/plain": [
       "'the file data_SE_PRM_OENR_ZS.csv has been created'"
      ]
     },
     "metadata": {},
     "output_type": "display_data"
    },
    {
     "data": {
      "text/plain": [
       "'the file data_NV_AGR_TOTL_KD.csv has been created'"
      ]
     },
     "metadata": {},
     "output_type": "display_data"
    },
    {
     "data": {
      "text/plain": [
       "'the file data_NV_AGR_TOTL_KN.csv has been created'"
      ]
     },
     "metadata": {},
     "output_type": "display_data"
    },
    {
     "data": {
      "text/plain": [
       "'the file data_SE_SEC_CMPT_LO_MA_ZS.csv has been created'"
      ]
     },
     "metadata": {},
     "output_type": "display_data"
    },
    {
     "data": {
      "text/plain": [
       "'the file data_NV_AGR_TOTL_CN.csv has been created'"
      ]
     },
     "metadata": {},
     "output_type": "display_data"
    },
    {
     "data": {
      "text/plain": [
       "'the file data_NV_AGR_EMPL_KD.csv has been created'"
      ]
     },
     "metadata": {},
     "output_type": "display_data"
    },
    {
     "data": {
      "text/plain": [
       "'the file data_NY_GDP_DEFL_KD_ZG.csv has been created'"
      ]
     },
     "metadata": {},
     "output_type": "display_data"
    },
    {
     "data": {
      "text/plain": [
       "'the file data_SP_POP_4044_FE_5Y.csv has been created'"
      ]
     },
     "metadata": {},
     "output_type": "display_data"
    },
    {
     "data": {
      "text/plain": [
       "'the file data_NE_GDI_STKB_KN.csv has been created'"
      ]
     },
     "metadata": {},
     "output_type": "display_data"
    },
    {
     "data": {
      "text/plain": [
       "'the file data_BN_FIN_TOTL_CD.csv has been created'"
      ]
     },
     "metadata": {},
     "output_type": "display_data"
    },
    {
     "data": {
      "text/plain": [
       "'the file data_NE_GDI_STKB_CD.csv has been created'"
      ]
     },
     "metadata": {},
     "output_type": "display_data"
    },
    {
     "data": {
      "text/plain": [
       "'the file data_BN_CAB_XOKA_CD.csv has been created'"
      ]
     },
     "metadata": {},
     "output_type": "display_data"
    },
    {
     "data": {
      "text/plain": [
       "'the file data_NY_TTF_GNFS_KN.csv has been created'"
      ]
     },
     "metadata": {},
     "output_type": "display_data"
    },
    {
     "data": {
      "text/plain": [
       "'the file data_GC_DOD_TOTL_GD_ZS.csv has been created'"
      ]
     },
     "metadata": {},
     "output_type": "display_data"
    },
    {
     "data": {
      "text/plain": [
       "'the file data_BM_GSR_ROYL_CD.csv has been created'"
      ]
     },
     "metadata": {},
     "output_type": "display_data"
    },
    {
     "data": {
      "text/plain": [
       "'the file data_NY_TRF_NCTR_CN.csv has been created'"
      ]
     },
     "metadata": {},
     "output_type": "display_data"
    },
    {
     "data": {
      "text/plain": [
       "'the file data_DT_TDS_DECT_GN_ZS.csv has been created'"
      ]
     },
     "metadata": {},
     "output_type": "display_data"
    },
    {
     "data": {
      "text/plain": [
       "'the file data_SL_UEM_TOTL_MA_ZS.csv has been created'"
      ]
     },
     "metadata": {},
     "output_type": "display_data"
    },
    {
     "data": {
      "text/plain": [
       "'the file data_BX_GSR_ROYL_CD.csv has been created'"
      ]
     },
     "metadata": {},
     "output_type": "display_data"
    },
    {
     "data": {
      "text/plain": [
       "'the file data_NV_MNF_CHEM_ZS_UN.csv has been created'"
      ]
     },
     "metadata": {},
     "output_type": "display_data"
    },
    {
     "data": {
      "text/plain": [
       "'the file data_TX_VAL_FUEL_ZS_UN.csv has been created'"
      ]
     },
     "metadata": {},
     "output_type": "display_data"
    },
    {
     "data": {
      "text/plain": [
       "'the file data_BX_GSR_CMCP_ZS.csv has been created'"
      ]
     },
     "metadata": {},
     "output_type": "display_data"
    },
    {
     "data": {
      "text/plain": [
       "'the file data_BM_GSR_CMCP_ZS.csv has been created'"
      ]
     },
     "metadata": {},
     "output_type": "display_data"
    },
    {
     "data": {
      "text/plain": [
       "'the file data_BN_CAB_XOKA_GD_ZS.csv has been created'"
      ]
     },
     "metadata": {},
     "output_type": "display_data"
    },
    {
     "data": {
      "text/plain": [
       "'the file data_PA_NUS_ATLS.csv has been created'"
      ]
     },
     "metadata": {},
     "output_type": "display_data"
    },
    {
     "data": {
      "text/plain": [
       "'the file data_NY_GDP_DISC_KN.csv has been created'"
      ]
     },
     "metadata": {},
     "output_type": "display_data"
    },
    {
     "data": {
      "text/plain": [
       "'the file data_NY_GDP_DISC_CN.csv has been created'"
      ]
     },
     "metadata": {},
     "output_type": "display_data"
    },
    {
     "data": {
      "text/plain": [
       "'the file data_GC_XPN_TOTL_GD_ZS.csv has been created'"
      ]
     },
     "metadata": {},
     "output_type": "display_data"
    },
    {
     "data": {
      "text/plain": [
       "'the file data_NY_TRF_NCTR_CD.csv has been created'"
      ]
     },
     "metadata": {},
     "output_type": "display_data"
    },
    {
     "data": {
      "text/plain": [
       "'the file data_NY_EXP_CAPM_KN.csv has been created'"
      ]
     },
     "metadata": {},
     "output_type": "display_data"
    },
    {
     "data": {
      "text/plain": [
       "'the file data_NE_EXP_GNFS_ZS.csv has been created'"
      ]
     },
     "metadata": {},
     "output_type": "display_data"
    },
    {
     "data": {
      "text/plain": [
       "'the file data_SE_SEC_UNER_LO_FE_ZS.csv has been created'"
      ]
     },
     "metadata": {},
     "output_type": "display_data"
    },
    {
     "data": {
      "text/plain": [
       "'the file data_BN_GSR_GNFS_CD.csv has been created'"
      ]
     },
     "metadata": {},
     "output_type": "display_data"
    },
    {
     "data": {
      "text/plain": [
       "'the file data_DT_TDS_DECT_EX_ZS.csv has been created'"
      ]
     },
     "metadata": {},
     "output_type": "display_data"
    },
    {
     "data": {
      "text/plain": [
       "'the file data_BX_GSR_GNFS_CD.csv has been created'"
      ]
     },
     "metadata": {},
     "output_type": "display_data"
    },
    {
     "data": {
      "text/plain": [
       "'the file data_NE_EXP_GNFS_KD_ZG.csv has been created'"
      ]
     },
     "metadata": {},
     "output_type": "display_data"
    },
    {
     "data": {
      "text/plain": [
       "'the file data_SE_PRM_UNER.csv has been created'"
      ]
     },
     "metadata": {},
     "output_type": "display_data"
    },
    {
     "data": {
      "text/plain": [
       "'the file data_NE_EXP_GNFS_KD.csv has been created'"
      ]
     },
     "metadata": {},
     "output_type": "display_data"
    },
    {
     "data": {
      "text/plain": [
       "'the file data_NE_EXP_GNFS_KN.csv has been created'"
      ]
     },
     "metadata": {},
     "output_type": "display_data"
    },
    {
     "data": {
      "text/plain": [
       "'the file data_BX_GSR_TOTL_CD.csv has been created'"
      ]
     },
     "metadata": {},
     "output_type": "display_data"
    },
    {
     "data": {
      "text/plain": [
       "'the file data_NE_RSB_GNFS_KN.csv has been created'"
      ]
     },
     "metadata": {},
     "output_type": "display_data"
    },
    {
     "data": {
      "text/plain": [
       "'the file data_NE_RSB_GNFS_CN.csv has been created'"
      ]
     },
     "metadata": {},
     "output_type": "display_data"
    },
    {
     "data": {
      "text/plain": [
       "'the file data_NE_RSB_GNFS_CD.csv has been created'"
      ]
     },
     "metadata": {},
     "output_type": "display_data"
    },
    {
     "data": {
      "text/plain": [
       "'the file data_SE_PRM_UNER_MA.csv has been created'"
      ]
     },
     "metadata": {},
     "output_type": "display_data"
    },
    {
     "data": {
      "text/plain": [
       "'the file data_NE_EXP_GNFS_CN.csv has been created'"
      ]
     },
     "metadata": {},
     "output_type": "display_data"
    },
    {
     "data": {
      "text/plain": [
       "'the file data_NE_EXP_GNFS_CD.csv has been created'"
      ]
     },
     "metadata": {},
     "output_type": "display_data"
    },
    {
     "data": {
      "text/plain": [
       "'the file data_SP_POP_3539_FE_5Y.csv has been created'"
      ]
     },
     "metadata": {},
     "output_type": "display_data"
    },
    {
     "data": {
      "text/plain": [
       "'the file data_NE_RSB_GNFS_ZS.csv has been created'"
      ]
     },
     "metadata": {},
     "output_type": "display_data"
    },
    {
     "data": {
      "text/plain": [
       "'the file data_BX_TRF_PWKR_CD_DT.csv has been created'"
      ]
     },
     "metadata": {},
     "output_type": "display_data"
    },
    {
     "data": {
      "text/plain": [
       "'the file data_BX_PEF_TOTL_CD_WD.csv has been created'"
      ]
     },
     "metadata": {},
     "output_type": "display_data"
    },
    {
     "data": {
      "text/plain": [
       "'the file data_SE_TER_CUAT_BA_MA_ZS.csv has been created'"
      ]
     },
     "metadata": {},
     "output_type": "display_data"
    },
    {
     "data": {
      "text/plain": [
       "'the file data_SE_SEC_AGES.csv has been created'"
      ]
     },
     "metadata": {},
     "output_type": "display_data"
    },
    {
     "data": {
      "text/plain": [
       "'the file data_DT_DOD_DECT_GN_ZS.csv has been created'"
      ]
     },
     "metadata": {},
     "output_type": "display_data"
    },
    {
     "data": {
      "text/plain": [
       "'the file data_DT_DOD_DECT_CD.csv has been created'"
      ]
     },
     "metadata": {},
     "output_type": "display_data"
    },
    {
     "data": {
      "text/plain": [
       "'the file data_GC_REV_XGRT_GD_ZS.csv has been created'"
      ]
     },
     "metadata": {},
     "output_type": "display_data"
    },
    {
     "data": {
      "text/plain": [
       "'the file data_NE_CON_TOTL_ZS.csv has been created'"
      ]
     },
     "metadata": {},
     "output_type": "display_data"
    },
    {
     "data": {
      "text/plain": [
       "'the file data_NE_CON_TOTL_KD_ZG.csv has been created'"
      ]
     },
     "metadata": {},
     "output_type": "display_data"
    },
    {
     "data": {
      "text/plain": [
       "'the file data_DT_DOD_PVLX_GN_ZS.csv has been created'"
      ]
     },
     "metadata": {},
     "output_type": "display_data"
    },
    {
     "data": {
      "text/plain": [
       "'the file data_SE_SEC_CUAT_LO_ZS.csv has been created'"
      ]
     },
     "metadata": {},
     "output_type": "display_data"
    },
    {
     "data": {
      "text/plain": [
       "'the file data_BX_TRF_CURR_CD.csv has been created'"
      ]
     },
     "metadata": {},
     "output_type": "display_data"
    },
    {
     "data": {
      "text/plain": [
       "'the file data_NE_CON_TOTL_KD.csv has been created'"
      ]
     },
     "metadata": {},
     "output_type": "display_data"
    },
    {
     "data": {
      "text/plain": [
       "'the file data_NE_CON_TOTL_KN.csv has been created'"
      ]
     },
     "metadata": {},
     "output_type": "display_data"
    },
    {
     "data": {
      "text/plain": [
       "'the file data_DT_DOD_PVLX_EX_ZS.csv has been created'"
      ]
     },
     "metadata": {},
     "output_type": "display_data"
    },
    {
     "data": {
      "text/plain": [
       "'the file data_SE_PRM_NINT_ZS.csv has been created'"
      ]
     },
     "metadata": {},
     "output_type": "display_data"
    },
    {
     "data": {
      "text/plain": [
       "'the file data_NE_CON_TOTL_CN.csv has been created'"
      ]
     },
     "metadata": {},
     "output_type": "display_data"
    },
    {
     "data": {
      "text/plain": [
       "'the file data_NE_CON_TOTL_CD.csv has been created'"
      ]
     },
     "metadata": {},
     "output_type": "display_data"
    },
    {
     "data": {
      "text/plain": [
       "'the file data_DT_DOD_PVLX_CD.csv has been created'"
      ]
     },
     "metadata": {},
     "output_type": "display_data"
    },
    {
     "data": {
      "text/plain": [
       "'the file data_NV_FSM_TOTL_KN.csv has been created'"
      ]
     },
     "metadata": {},
     "output_type": "display_data"
    },
    {
     "data": {
      "text/plain": [
       "'the file data_NY_GDP_MKTP_CN.csv has been created'"
      ]
     },
     "metadata": {},
     "output_type": "display_data"
    },
    {
     "data": {
      "text/plain": [
       "'the file data_NE_GDI_FPRV_ZS.csv has been created'"
      ]
     },
     "metadata": {},
     "output_type": "display_data"
    },
    {
     "data": {
      "text/plain": [
       "'the file data_PA_NUS_PPPC_RF.csv has been created'"
      ]
     },
     "metadata": {},
     "output_type": "display_data"
    },
    {
     "data": {
      "text/plain": [
       "'the file data_BM_GSR_FCTY_CD.csv has been created'"
      ]
     },
     "metadata": {},
     "output_type": "display_data"
    },
    {
     "data": {
      "text/plain": [
       "'the file data_NV_FSM_TOTL_CN.csv has been created'"
      ]
     },
     "metadata": {},
     "output_type": "display_data"
    },
    {
     "data": {
      "text/plain": [
       "'the file data_NV_MNF_FBTO_ZS_UN.csv has been created'"
      ]
     },
     "metadata": {},
     "output_type": "display_data"
    },
    {
     "data": {
      "text/plain": [
       "'the file data_BX_GSR_FCTY_CD.csv has been created'"
      ]
     },
     "metadata": {},
     "output_type": "display_data"
    },
    {
     "data": {
      "text/plain": [
       "'the file data_BN_KLT_DINV_CD.csv has been created'"
      ]
     },
     "metadata": {},
     "output_type": "display_data"
    },
    {
     "data": {
      "text/plain": [
       "'the file data_NY_GDS_TOTL_CN.csv has been created'"
      ]
     },
     "metadata": {},
     "output_type": "display_data"
    },
    {
     "data": {
      "text/plain": [
       "'the file data_NE_DAB_TOTL_KD.csv has been created'"
      ]
     },
     "metadata": {},
     "output_type": "display_data"
    },
    {
     "data": {
      "text/plain": [
       "'the file data_NY_GNS_ICTR_GN_ZS.csv has been created'"
      ]
     },
     "metadata": {},
     "output_type": "display_data"
    },
    {
     "data": {
      "text/plain": [
       "'the file data_BN_RES_INCL_CD.csv has been created'"
      ]
     },
     "metadata": {},
     "output_type": "display_data"
    },
    {
     "data": {
      "text/plain": [
       "'the file data_BX_GSR_NFSV_CD.csv has been created'"
      ]
     },
     "metadata": {},
     "output_type": "display_data"
    },
    {
     "data": {
      "text/plain": [
       "'the file data_BX_KLT_DINV_CD_WD.csv has been created'"
      ]
     },
     "metadata": {},
     "output_type": "display_data"
    },
    {
     "data": {
      "text/plain": [
       "'the file data_NY_GNP_MKTP_CN.csv has been created'"
      ]
     },
     "metadata": {},
     "output_type": "display_data"
    },
    {
     "data": {
      "text/plain": [
       "'the file data_BM_GSR_NFSV_CD.csv has been created'"
      ]
     },
     "metadata": {},
     "output_type": "display_data"
    },
    {
     "data": {
      "text/plain": [
       "'the file data_NV_SRV_TOTL_KD.csv has been created'"
      ]
     },
     "metadata": {},
     "output_type": "display_data"
    },
    {
     "data": {
      "text/plain": [
       "'the file data_PX_REX_REER.csv has been created'"
      ]
     },
     "metadata": {},
     "output_type": "display_data"
    },
    {
     "data": {
      "text/plain": [
       "'the file data_BM_KLT_DINV_WD_GD_ZS.csv has been created'"
      ]
     },
     "metadata": {},
     "output_type": "display_data"
    },
    {
     "data": {
      "text/plain": [
       "'the file data_NY_GNP_MKTP_CD.csv has been created'"
      ]
     },
     "metadata": {},
     "output_type": "display_data"
    },
    {
     "data": {
      "text/plain": [
       "'the file data_NV_SRV_TOTL_KD_ZG.csv has been created'"
      ]
     },
     "metadata": {},
     "output_type": "display_data"
    },
    {
     "data": {
      "text/plain": [
       "'the file data_SE_PRM_NINT_FE_ZS.csv has been created'"
      ]
     },
     "metadata": {},
     "output_type": "display_data"
    },
    {
     "data": {
      "text/plain": [
       "'the file data_BM_KLT_DINV_CD_WD.csv has been created'"
      ]
     },
     "metadata": {},
     "output_type": "display_data"
    },
    {
     "data": {
      "text/plain": [
       "'the file data_NE_IMP_GNFS_KN.csv has been created'"
      ]
     },
     "metadata": {},
     "output_type": "display_data"
    },
    {
     "data": {
      "text/plain": [
       "'the file data_NV_SRV_TOTL_KN.csv has been created'"
      ]
     },
     "metadata": {},
     "output_type": "display_data"
    },
    {
     "data": {
      "text/plain": [
       "'the file data_NY_GDP_MKTP_KD.csv has been created'"
      ]
     },
     "metadata": {},
     "output_type": "display_data"
    },
    {
     "data": {
      "text/plain": [
       "'the file data_NE_IMP_GNFS_CN.csv has been created'"
      ]
     },
     "metadata": {},
     "output_type": "display_data"
    },
    {
     "data": {
      "text/plain": [
       "'the file data_SE_PRM_UNER_ZS.csv has been created'"
      ]
     },
     "metadata": {},
     "output_type": "display_data"
    },
    {
     "data": {
      "text/plain": [
       "'the file data_SE_PRM_NINT_MA_ZS.csv has been created'"
      ]
     },
     "metadata": {},
     "output_type": "display_data"
    },
    {
     "data": {
      "text/plain": [
       "'the file data_NY_GDP_MKTP_KN.csv has been created'"
      ]
     },
     "metadata": {},
     "output_type": "display_data"
    },
    {
     "data": {
      "text/plain": [
       "'the file data_NV_IND_EMPL_KD.csv has been created'"
      ]
     },
     "metadata": {},
     "output_type": "display_data"
    },
    {
     "data": {
      "text/plain": [
       "'the file data_SE_PRM_UNER_MA_ZS.csv has been created'"
      ]
     },
     "metadata": {},
     "output_type": "display_data"
    },
    {
     "data": {
      "text/plain": [
       "'the file data_SE_PRM_UNER_FE.csv has been created'"
      ]
     },
     "metadata": {},
     "output_type": "display_data"
    },
    {
     "data": {
      "text/plain": [
       "'the file data_SE_PRM_OENR_FE_ZS.csv has been created'"
      ]
     },
     "metadata": {},
     "output_type": "display_data"
    },
    {
     "data": {
      "text/plain": [
       "'the file data_FP_CPI_TOTL_ZG.csv has been created'"
      ]
     },
     "metadata": {},
     "output_type": "display_data"
    },
    {
     "data": {
      "text/plain": [
       "'the file data_NY_GDP_PCAP_PP_CD.csv has been created'"
      ]
     },
     "metadata": {},
     "output_type": "display_data"
    },
    {
     "data": {
      "text/plain": [
       "'the file data_NE_IMP_GNFS_CD.csv has been created'"
      ]
     },
     "metadata": {},
     "output_type": "display_data"
    },
    {
     "data": {
      "text/plain": [
       "'the file data_SE_COM_DURS.csv has been created'"
      ]
     },
     "metadata": {},
     "output_type": "display_data"
    },
    {
     "data": {
      "text/plain": [
       "'the file data_NY_GDP_MKTP_PP_KD.csv has been created'"
      ]
     },
     "metadata": {},
     "output_type": "display_data"
    },
    {
     "data": {
      "text/plain": [
       "'the file data_BM_GSR_TOTL_CD.csv has been created'"
      ]
     },
     "metadata": {},
     "output_type": "display_data"
    },
    {
     "data": {
      "text/plain": [
       "'the file data_SE_XPD_CPRM_ZS.csv has been created'"
      ]
     },
     "metadata": {},
     "output_type": "display_data"
    },
    {
     "data": {
      "text/plain": [
       "'the file data_NY_GDP_MKTP_PP_CD.csv has been created'"
      ]
     },
     "metadata": {},
     "output_type": "display_data"
    },
    {
     "data": {
      "text/plain": [
       "'the file data_BX_GSR_INSF_ZS.csv has been created'"
      ]
     },
     "metadata": {},
     "output_type": "display_data"
    },
    {
     "data": {
      "text/plain": [
       "'the file data_BM_GSR_INSF_ZS.csv has been created'"
      ]
     },
     "metadata": {},
     "output_type": "display_data"
    },
    {
     "data": {
      "text/plain": [
       "'the file data_NV_SRV_TOTL_ZS.csv has been created'"
      ]
     },
     "metadata": {},
     "output_type": "display_data"
    },
    {
     "data": {
      "text/plain": [
       "'the file data_SE_PRM_OENR_MA_ZS.csv has been created'"
      ]
     },
     "metadata": {},
     "output_type": "display_data"
    },
    {
     "data": {
      "text/plain": [
       "'the file data_NY_GDP_MKTP_CN_AD.csv has been created'"
      ]
     },
     "metadata": {},
     "output_type": "display_data"
    },
    {
     "data": {
      "text/plain": [
       "'the file data_NV_MNF_MTRN_ZS_UN.csv has been created'"
      ]
     },
     "metadata": {},
     "output_type": "display_data"
    },
    {
     "data": {
      "text/plain": [
       "'the file data_SE_SEC_CUAT_PO_FE_ZS.csv has been created'"
      ]
     },
     "metadata": {},
     "output_type": "display_data"
    },
    {
     "data": {
      "text/plain": [
       "'the file data_SE_TER_CUAT_ST_MA_ZS.csv has been created'"
      ]
     },
     "metadata": {},
     "output_type": "display_data"
    },
    {
     "data": {
      "text/plain": [
       "'the file data_SE_PRM_PRS5_FE_ZS.csv has been created'"
      ]
     },
     "metadata": {},
     "output_type": "display_data"
    },
    {
     "data": {
      "text/plain": [
       "'the file data_NY_GNP_MKTP_KD.csv has been created'"
      ]
     },
     "metadata": {},
     "output_type": "display_data"
    },
    {
     "data": {
      "text/plain": [
       "'the file data_NV_MNF_OTHR_ZS_UN.csv has been created'"
      ]
     },
     "metadata": {},
     "output_type": "display_data"
    },
    {
     "data": {
      "text/plain": [
       "'the file data_SE_PRM_PRS5_ZS.csv has been created'"
      ]
     },
     "metadata": {},
     "output_type": "display_data"
    },
    {
     "data": {
      "text/plain": [
       "'the file data_NY_GNP_MKTP_KN.csv has been created'"
      ]
     },
     "metadata": {},
     "output_type": "display_data"
    },
    {
     "data": {
      "text/plain": [
       "'the file data_NY_GNP_MKTP_KD_ZG.csv has been created'"
      ]
     },
     "metadata": {},
     "output_type": "display_data"
    },
    {
     "data": {
      "text/plain": [
       "'the file data_SE_TER_CUAT_ST_ZS.csv has been created'"
      ]
     },
     "metadata": {},
     "output_type": "display_data"
    },
    {
     "data": {
      "text/plain": [
       "'the file data_SE_PRM_PRSL_MA_ZS.csv has been created'"
      ]
     },
     "metadata": {},
     "output_type": "display_data"
    },
    {
     "data": {
      "text/plain": [
       "'the file data_NY_GNP_PCAP_KD.csv has been created'"
      ]
     },
     "metadata": {},
     "output_type": "display_data"
    },
    {
     "data": {
      "text/plain": [
       "'the file data_NY_GNP_PCAP_KN.csv has been created'"
      ]
     },
     "metadata": {},
     "output_type": "display_data"
    },
    {
     "data": {
      "text/plain": [
       "'the file data_NY_GNP_PCAP_CN.csv has been created'"
      ]
     },
     "metadata": {},
     "output_type": "display_data"
    },
    {
     "data": {
      "text/plain": [
       "'the file data_PA_NUS_PRVT_PP.csv has been created'"
      ]
     },
     "metadata": {},
     "output_type": "display_data"
    },
    {
     "data": {
      "text/plain": [
       "'the file data_SE_XPD_TOTL_GB_ZS.csv has been created'"
      ]
     },
     "metadata": {},
     "output_type": "display_data"
    },
    {
     "data": {
      "text/plain": [
       "'the file data_SH_HIV_INCD_ZS.csv has been created'"
      ]
     },
     "metadata": {},
     "output_type": "display_data"
    },
    {
     "data": {
      "text/plain": [
       "'the file data_NY_GNP_PCAP_KD_ZG.csv has been created'"
      ]
     },
     "metadata": {},
     "output_type": "display_data"
    },
    {
     "data": {
      "text/plain": [
       "'the file data_NV_IND_TOTL_ZS.csv has been created'"
      ]
     },
     "metadata": {},
     "output_type": "display_data"
    },
    {
     "data": {
      "text/plain": [
       "'the file data_NV_SRV_TOTL_CN.csv has been created'"
      ]
     },
     "metadata": {},
     "output_type": "display_data"
    },
    {
     "data": {
      "text/plain": [
       "'the file data_SE_PRM_PRSL_ZS.csv has been created'"
      ]
     },
     "metadata": {},
     "output_type": "display_data"
    },
    {
     "data": {
      "text/plain": [
       "'the file data_NV_IND_MANF_ZS.csv has been created'"
      ]
     },
     "metadata": {},
     "output_type": "display_data"
    },
    {
     "data": {
      "text/plain": [
       "'the file data_NV_SRV_TOTL_CD.csv has been created'"
      ]
     },
     "metadata": {},
     "output_type": "display_data"
    },
    {
     "data": {
      "text/plain": [
       "'the file data_NY_GNP_MKTP_CN_AD.csv has been created'"
      ]
     },
     "metadata": {},
     "output_type": "display_data"
    },
    {
     "data": {
      "text/plain": [
       "'the file data_SP_POP_0014_TO_ZS.csv has been created'"
      ]
     },
     "metadata": {},
     "output_type": "display_data"
    },
    {
     "data": {
      "text/plain": [
       "'the file data_NE_GDI_TOTL_KD_ZG.csv has been created'"
      ]
     },
     "metadata": {},
     "output_type": "display_data"
    },
    {
     "data": {
      "text/plain": [
       "'the file data_NE_GDI_FPRV_CN.csv has been created'"
      ]
     },
     "metadata": {},
     "output_type": "display_data"
    },
    {
     "data": {
      "text/plain": [
       "'the file data_SL_TLF_TOTL_FE_ZS.csv has been created'"
      ]
     },
     "metadata": {},
     "output_type": "display_data"
    },
    {
     "data": {
      "text/plain": [
       "'the file data_NE_GDI_TOTL_KD.csv has been created'"
      ]
     },
     "metadata": {},
     "output_type": "display_data"
    },
    {
     "data": {
      "text/plain": [
       "'the file data_NE_DAB_TOTL_KN.csv has been created'"
      ]
     },
     "metadata": {},
     "output_type": "display_data"
    },
    {
     "data": {
      "text/plain": [
       "'the file data_SP_POP_1564_TO_ZS.csv has been created'"
      ]
     },
     "metadata": {},
     "output_type": "display_data"
    },
    {
     "data": {
      "text/plain": [
       "'the file data_NE_GDI_TOTL_KN.csv has been created'"
      ]
     },
     "metadata": {},
     "output_type": "display_data"
    },
    {
     "data": {
      "text/plain": [
       "'the file data_NE_DAB_DEFL_ZS.csv has been created'"
      ]
     },
     "metadata": {},
     "output_type": "display_data"
    },
    {
     "data": {
      "text/plain": [
       "'the file data_SE_ADT_LITR_FE_ZS.csv has been created'"
      ]
     },
     "metadata": {},
     "output_type": "display_data"
    },
    {
     "data": {
      "text/plain": [
       "'the file data_SE_ADT_1524_LT_MA_ZS.csv has been created'"
      ]
     },
     "metadata": {},
     "output_type": "display_data"
    },
    {
     "data": {
      "text/plain": [
       "'the file data_NE_GDI_TOTL_CN.csv has been created'"
      ]
     },
     "metadata": {},
     "output_type": "display_data"
    },
    {
     "data": {
      "text/plain": [
       "'the file data_SE_ADT_1524_LT_ZS.csv has been created'"
      ]
     },
     "metadata": {},
     "output_type": "display_data"
    },
    {
     "data": {
      "text/plain": [
       "'the file data_SE_PRE_DURS.csv has been created'"
      ]
     },
     "metadata": {},
     "output_type": "display_data"
    },
    {
     "data": {
      "text/plain": [
       "'the file data_SE_XPD_CSEC_ZS.csv has been created'"
      ]
     },
     "metadata": {},
     "output_type": "display_data"
    },
    {
     "data": {
      "text/plain": [
       "'the file data_SP_POP_65UP_TO_ZS.csv has been created'"
      ]
     },
     "metadata": {},
     "output_type": "display_data"
    },
    {
     "data": {
      "text/plain": [
       "'the file data_NE_GDI_TOTL_CD.csv has been created'"
      ]
     },
     "metadata": {},
     "output_type": "display_data"
    },
    {
     "data": {
      "text/plain": [
       "'the file data_SP_POP_7579_MA_5Y.csv has been created'"
      ]
     },
     "metadata": {},
     "output_type": "display_data"
    },
    {
     "data": {
      "text/plain": [
       "'the file data_NE_GDI_FTOT_ZS.csv has been created'"
      ]
     },
     "metadata": {},
     "output_type": "display_data"
    },
    {
     "data": {
      "text/plain": [
       "'the file data_SE_SEC_CMPT_LO_FE_ZS.csv has been created'"
      ]
     },
     "metadata": {},
     "output_type": "display_data"
    },
    {
     "data": {
      "text/plain": [
       "'the file data_NE_GDI_FTOT_KD_ZG.csv has been created'"
      ]
     },
     "metadata": {},
     "output_type": "display_data"
    },
    {
     "data": {
      "text/plain": [
       "'the file data_BM_TRF_PWKR_CD_DT.csv has been created'"
      ]
     },
     "metadata": {},
     "output_type": "display_data"
    },
    {
     "data": {
      "text/plain": [
       "'the file data_SE_PRM_CMPT_FE_ZS.csv has been created'"
      ]
     },
     "metadata": {},
     "output_type": "display_data"
    },
    {
     "data": {
      "text/plain": [
       "'the file data_NE_GDI_FTOT_KD.csv has been created'"
      ]
     },
     "metadata": {},
     "output_type": "display_data"
    },
    {
     "data": {
      "text/plain": [
       "'the file data_NE_GDI_FTOT_KN.csv has been created'"
      ]
     },
     "metadata": {},
     "output_type": "display_data"
    },
    {
     "data": {
      "text/plain": [
       "'the file data_NE_GDI_FTOT_CN.csv has been created'"
      ]
     },
     "metadata": {},
     "output_type": "display_data"
    },
    {
     "data": {
      "text/plain": [
       "'the file data_NV_IND_TOTL_KD_ZG.csv has been created'"
      ]
     },
     "metadata": {},
     "output_type": "display_data"
    },
    {
     "data": {
      "text/plain": [
       "'the file data_SE_XPD_CTER_ZS.csv has been created'"
      ]
     },
     "metadata": {},
     "output_type": "display_data"
    },
    {
     "data": {
      "text/plain": [
       "'the file data_NE_DAB_TOTL_ZS.csv has been created'"
      ]
     },
     "metadata": {},
     "output_type": "display_data"
    },
    {
     "data": {
      "text/plain": [
       "'the file data_NE_GDI_FTOT_CD.csv has been created'"
      ]
     },
     "metadata": {},
     "output_type": "display_data"
    },
    {
     "data": {
      "text/plain": [
       "'the file data_BX_TRF_PWKR_DT_GD_ZS.csv has been created'"
      ]
     },
     "metadata": {},
     "output_type": "display_data"
    },
    {
     "data": {
      "text/plain": [
       "'the file data_NV_IND_MANF_KD_ZG.csv has been created'"
      ]
     },
     "metadata": {},
     "output_type": "display_data"
    },
    {
     "data": {
      "text/plain": [
       "'the file data_SH_HIV_INCD_YG.csv has been created'"
      ]
     },
     "metadata": {},
     "output_type": "display_data"
    },
    {
     "data": {
      "text/plain": [
       "'the file data_NE_DAB_TOTL_CN.csv has been created'"
      ]
     },
     "metadata": {},
     "output_type": "display_data"
    },
    {
     "data": {
      "text/plain": [
       "'the file data_NV_SRV_EMPL_KD.csv has been created'"
      ]
     },
     "metadata": {},
     "output_type": "display_data"
    },
    {
     "data": {
      "text/plain": [
       "'the file data_DT_DOD_DSTC_XP_ZS.csv has been created'"
      ]
     },
     "metadata": {},
     "output_type": "display_data"
    },
    {
     "data": {
      "text/plain": [
       "'the file data_SE_XPD_CTOT_ZS.csv has been created'"
      ]
     },
     "metadata": {},
     "output_type": "display_data"
    },
    {
     "data": {
      "text/plain": [
       "'the file data_IQ_WEF_PORT_XQ.csv has been created'"
      ]
     },
     "metadata": {},
     "output_type": "display_data"
    },
    {
     "data": {
      "text/plain": [
       "'the file data_NY_GNP_PCAP_CD.csv has been created'"
      ]
     },
     "metadata": {},
     "output_type": "display_data"
    },
    {
     "data": {
      "text/plain": [
       "'the file data_NY_TAX_NIND_KN.csv has been created'"
      ]
     },
     "metadata": {},
     "output_type": "display_data"
    },
    {
     "data": {
      "text/plain": [
       "'the file data_SE_TER_CUAT_DO_FE_ZS.csv has been created'"
      ]
     },
     "metadata": {},
     "output_type": "display_data"
    },
    {
     "data": {
      "text/plain": [
       "'the file data_SE_TER_CUAT_BA_ZS.csv has been created'"
      ]
     },
     "metadata": {},
     "output_type": "display_data"
    },
    {
     "data": {
      "text/plain": [
       "'the file data_SE_TER_CUAT_MS_FE_ZS.csv has been created'"
      ]
     },
     "metadata": {},
     "output_type": "display_data"
    },
    {
     "data": {
      "text/plain": [
       "'the file data_NY_GDP_MKTP_CD.csv has been created'"
      ]
     },
     "metadata": {},
     "output_type": "display_data"
    },
    {
     "data": {
      "text/plain": [
       "'the file data_NE_DAB_TOTL_CD.csv has been created'"
      ]
     },
     "metadata": {},
     "output_type": "display_data"
    },
    {
     "data": {
      "text/plain": [
       "'the file data_NY_GNS_ICTR_ZS.csv has been created'"
      ]
     },
     "metadata": {},
     "output_type": "display_data"
    },
    {
     "data": {
      "text/plain": [
       "'the file data_NY_GNS_ICTR_CN.csv has been created'"
      ]
     },
     "metadata": {},
     "output_type": "display_data"
    },
    {
     "data": {
      "text/plain": [
       "'the file data_NY_TAX_NIND_CN.csv has been created'"
      ]
     },
     "metadata": {},
     "output_type": "display_data"
    },
    {
     "data": {
      "text/plain": [
       "'the file data_SE_TER_CUAT_MS_MA_ZS.csv has been created'"
      ]
     },
     "metadata": {},
     "output_type": "display_data"
    },
    {
     "data": {
      "text/plain": [
       "'the file data_SE_TER_CUAT_MS_ZS.csv has been created'"
      ]
     },
     "metadata": {},
     "output_type": "display_data"
    },
    {
     "data": {
      "text/plain": [
       "'the file data_SE_SEC_CUAT_LO_FE_ZS.csv has been created'"
      ]
     },
     "metadata": {},
     "output_type": "display_data"
    },
    {
     "data": {
      "text/plain": [
       "'the file data_NY_GDP_FCST_KD.csv has been created'"
      ]
     },
     "metadata": {},
     "output_type": "display_data"
    },
    {
     "data": {
      "text/plain": [
       "'the file data_NY_GDP_DEFL_ZS.csv has been created'"
      ]
     },
     "metadata": {},
     "output_type": "display_data"
    },
    {
     "data": {
      "text/plain": [
       "'the file data_NY_GNP_PCAP_PP_KD.csv has been created'"
      ]
     },
     "metadata": {},
     "output_type": "display_data"
    },
    {
     "data": {
      "text/plain": [
       "'the file data_NY_GNP_PCAP_PP_CD.csv has been created'"
      ]
     },
     "metadata": {},
     "output_type": "display_data"
    },
    {
     "data": {
      "text/plain": [
       "'the file data_NY_TAX_NIND_CD.csv has been created'"
      ]
     },
     "metadata": {},
     "output_type": "display_data"
    },
    {
     "data": {
      "text/plain": [
       "'the file data_SE_SEC_CUAT_PO_MA_ZS.csv has been created'"
      ]
     },
     "metadata": {},
     "output_type": "display_data"
    },
    {
     "data": {
      "text/plain": [
       "'the file data_NY_GDP_FCST_KN.csv has been created'"
      ]
     },
     "metadata": {},
     "output_type": "display_data"
    },
    {
     "data": {
      "text/plain": [
       "'the file data_NY_GDP_FCST_CD.csv has been created'"
      ]
     },
     "metadata": {},
     "output_type": "display_data"
    },
    {
     "data": {
      "text/plain": [
       "'the file data_NV_IND_MANF_KD.csv has been created'"
      ]
     },
     "metadata": {},
     "output_type": "display_data"
    },
    {
     "data": {
      "text/plain": [
       "'the file data_SE_SEC_CUAT_PO_ZS.csv has been created'"
      ]
     },
     "metadata": {},
     "output_type": "display_data"
    },
    {
     "data": {
      "text/plain": [
       "'the file data_IQ_WEF_CUST_XQ.csv has been created'"
      ]
     },
     "metadata": {},
     "output_type": "display_data"
    },
    {
     "data": {
      "text/plain": [
       "'the file data_NY_GDP_MKTP_KD_ZG.csv has been created'"
      ]
     },
     "metadata": {},
     "output_type": "display_data"
    },
    {
     "data": {
      "text/plain": [
       "'the file data_NE_CON_PRVT_KD_ZG.csv has been created'"
      ]
     },
     "metadata": {},
     "output_type": "display_data"
    },
    {
     "data": {
      "text/plain": [
       "'the file data_NV_IND_MANF_KN.csv has been created'"
      ]
     },
     "metadata": {},
     "output_type": "display_data"
    },
    {
     "data": {
      "text/plain": [
       "'the file data_FI_RES_TOTL_CD.csv has been created'"
      ]
     },
     "metadata": {},
     "output_type": "display_data"
    },
    {
     "data": {
      "text/plain": [
       "'the file data_SE_TER_CUAT_ST_FE_ZS.csv has been created'"
      ]
     },
     "metadata": {},
     "output_type": "display_data"
    },
    {
     "data": {
      "text/plain": [
       "'the file data_SE_PRM_CMPT_MA_ZS.csv has been created'"
      ]
     },
     "metadata": {},
     "output_type": "display_data"
    },
    {
     "data": {
      "text/plain": [
       "'the file data_NY_GNP_ATLS_CD.csv has been created'"
      ]
     },
     "metadata": {},
     "output_type": "display_data"
    },
    {
     "data": {
      "text/plain": [
       "'the file data_NY_GNP_MKTP_PP_KD.csv has been created'"
      ]
     },
     "metadata": {},
     "output_type": "display_data"
    },
    {
     "data": {
      "text/plain": [
       "'the file data_NE_CON_PRVT_KD.csv has been created'"
      ]
     },
     "metadata": {},
     "output_type": "display_data"
    },
    {
     "data": {
      "text/plain": [
       "'the file data_NE_CON_PRVT_KN.csv has been created'"
      ]
     },
     "metadata": {},
     "output_type": "display_data"
    },
    {
     "data": {
      "text/plain": [
       "'the file data_SE_SEC_CUAT_UP_FE_ZS.csv has been created'"
      ]
     },
     "metadata": {},
     "output_type": "display_data"
    },
    {
     "data": {
      "text/plain": [
       "'the file data_NY_GNP_MKTP_PP_CD.csv has been created'"
      ]
     },
     "metadata": {},
     "output_type": "display_data"
    },
    {
     "data": {
      "text/plain": [
       "'the file data_NE_CON_PRVT_CN.csv has been created'"
      ]
     },
     "metadata": {},
     "output_type": "display_data"
    },
    {
     "data": {
      "text/plain": [
       "'the file data_SE_PRM_TCHR_FE_ZS.csv has been created'"
      ]
     },
     "metadata": {},
     "output_type": "display_data"
    },
    {
     "data": {
      "text/plain": [
       "'the file data_NY_GDP_PCAP_KD.csv has been created'"
      ]
     },
     "metadata": {},
     "output_type": "display_data"
    },
    {
     "data": {
      "text/plain": [
       "'the file data_NE_CON_GOVT_ZS.csv has been created'"
      ]
     },
     "metadata": {},
     "output_type": "display_data"
    },
    {
     "data": {
      "text/plain": [
       "'the file data_NV_IND_MANF_CN.csv has been created'"
      ]
     },
     "metadata": {},
     "output_type": "display_data"
    },
    {
     "data": {
      "text/plain": [
       "'the file data_FI_RES_XGLD_CD.csv has been created'"
      ]
     },
     "metadata": {},
     "output_type": "display_data"
    },
    {
     "data": {
      "text/plain": [
       "'the file data_BG_GSR_NFSV_GD_ZS.csv has been created'"
      ]
     },
     "metadata": {},
     "output_type": "display_data"
    },
    {
     "data": {
      "text/plain": [
       "'the file data_NV_IND_TOTL_KD.csv has been created'"
      ]
     },
     "metadata": {},
     "output_type": "display_data"
    },
    {
     "data": {
      "text/plain": [
       "'the file data_SE_SEC_CUAT_UP_MA_ZS.csv has been created'"
      ]
     },
     "metadata": {},
     "output_type": "display_data"
    },
    {
     "data": {
      "text/plain": [
       "'the file data_NE_CON_PRVT_CD.csv has been created'"
      ]
     },
     "metadata": {},
     "output_type": "display_data"
    },
    {
     "data": {
      "text/plain": [
       "'the file data_SE_SEC_CUAT_UP_ZS.csv has been created'"
      ]
     },
     "metadata": {},
     "output_type": "display_data"
    },
    {
     "data": {
      "text/plain": [
       "'the file data_SE_XPD_PRIM_ZS.csv has been created'"
      ]
     },
     "metadata": {},
     "output_type": "display_data"
    },
    {
     "data": {
      "text/plain": [
       "'the file data_SE_PRM_AGES.csv has been created'"
      ]
     },
     "metadata": {},
     "output_type": "display_data"
    },
    {
     "data": {
      "text/plain": [
       "'the file data_NE_CON_GOVT_KD_ZG.csv has been created'"
      ]
     },
     "metadata": {},
     "output_type": "display_data"
    },
    {
     "data": {
      "text/plain": [
       "'the file data_NV_IND_MANF_CD.csv has been created'"
      ]
     },
     "metadata": {},
     "output_type": "display_data"
    },
    {
     "data": {
      "text/plain": [
       "'the file data_SE_XPD_SECO_ZS.csv has been created'"
      ]
     },
     "metadata": {},
     "output_type": "display_data"
    },
    {
     "data": {
      "text/plain": [
       "'the file data_SH_DYN_1014.csv has been created'"
      ]
     },
     "metadata": {},
     "output_type": "display_data"
    },
    {
     "data": {
      "text/plain": [
       "'the file data_NY_GDP_PCAP_KN.csv has been created'"
      ]
     },
     "metadata": {},
     "output_type": "display_data"
    },
    {
     "data": {
      "text/plain": [
       "'the file data_NE_CON_GOVT_KN.csv has been created'"
      ]
     },
     "metadata": {},
     "output_type": "display_data"
    },
    {
     "data": {
      "text/plain": [
       "'the file data_NV_MNF_TECH_ZS_UN.csv has been created'"
      ]
     },
     "metadata": {},
     "output_type": "display_data"
    },
    {
     "data": {
      "text/plain": [
       "'the file data_SE_XPD_TERT_ZS.csv has been created'"
      ]
     },
     "metadata": {},
     "output_type": "display_data"
    },
    {
     "data": {
      "text/plain": [
       "'the file data_SE_XPD_TOTL_GD_ZS.csv has been created'"
      ]
     },
     "metadata": {},
     "output_type": "display_data"
    },
    {
     "data": {
      "text/plain": [
       "'the file data_BN_TRF_KOGT_CD.csv has been created'"
      ]
     },
     "metadata": {},
     "output_type": "display_data"
    },
    {
     "data": {
      "text/plain": [
       "'the file data_SH_DYN_1519.csv has been created'"
      ]
     },
     "metadata": {},
     "output_type": "display_data"
    },
    {
     "data": {
      "text/plain": [
       "'the file data_BN_GSR_FCTY_CD.csv has been created'"
      ]
     },
     "metadata": {},
     "output_type": "display_data"
    },
    {
     "data": {
      "text/plain": [
       "'the file data_SE_XPD_TERT_PC_ZS.csv has been created'"
      ]
     },
     "metadata": {},
     "output_type": "display_data"
    },
    {
     "data": {
      "text/plain": [
       "'the file data_SH_DYN_0509.csv has been created'"
      ]
     },
     "metadata": {},
     "output_type": "display_data"
    },
    {
     "data": {
      "text/plain": [
       "'the file data_NE_CON_GOVT_CN.csv has been created'"
      ]
     },
     "metadata": {},
     "output_type": "display_data"
    },
    {
     "data": {
      "text/plain": [
       "'the file data_NV_IND_TOTL_KN.csv has been created'"
      ]
     },
     "metadata": {},
     "output_type": "display_data"
    },
    {
     "data": {
      "text/plain": [
       "'the file data_SE_PRM_GINT_FE_ZS.csv has been created'"
      ]
     },
     "metadata": {},
     "output_type": "display_data"
    },
    {
     "data": {
      "text/plain": [
       "'the file data_SE_PRM_GINT_MA_ZS.csv has been created'"
      ]
     },
     "metadata": {},
     "output_type": "display_data"
    },
    {
     "data": {
      "text/plain": [
       "'the file data_SE_PRM_GINT_ZS.csv has been created'"
      ]
     },
     "metadata": {},
     "output_type": "display_data"
    },
    {
     "data": {
      "text/plain": [
       "'the file data_SE_SEC_CMPT_LO_ZS.csv has been created'"
      ]
     },
     "metadata": {},
     "output_type": "display_data"
    },
    {
     "data": {
      "text/plain": [
       "'the file data_NE_CON_PRVT_PC_KD.csv has been created'"
      ]
     },
     "metadata": {},
     "output_type": "display_data"
    },
    {
     "data": {
      "text/plain": [
       "'the file data_NY_GDP_PCAP_CN.csv has been created'"
      ]
     },
     "metadata": {},
     "output_type": "display_data"
    },
    {
     "data": {
      "text/plain": [
       "'the file data_NE_CON_PRVT_PC_KD_ZG.csv has been created'"
      ]
     },
     "metadata": {},
     "output_type": "display_data"
    },
    {
     "data": {
      "text/plain": [
       "'the file data_NE_CON_PRVT_PP_KD.csv has been created'"
      ]
     },
     "metadata": {},
     "output_type": "display_data"
    },
    {
     "data": {
      "text/plain": [
       "'the file data_SP_POP_3539_MA_5Y.csv has been created'"
      ]
     },
     "metadata": {},
     "output_type": "display_data"
    },
    {
     "data": {
      "text/plain": [
       "'the file data_NY_GDP_PCAP_CD.csv has been created'"
      ]
     },
     "metadata": {},
     "output_type": "display_data"
    },
    {
     "data": {
      "text/plain": [
       "'the file data_NE_CON_GOVT_CD.csv has been created'"
      ]
     },
     "metadata": {},
     "output_type": "display_data"
    },
    {
     "data": {
      "text/plain": [
       "'the file data_BX_GSR_MRCH_CD.csv has been created'"
      ]
     },
     "metadata": {},
     "output_type": "display_data"
    },
    {
     "data": {
      "text/plain": [
       "'the file data_BM_GSR_MRCH_CD.csv has been created'"
      ]
     },
     "metadata": {},
     "output_type": "display_data"
    },
    {
     "data": {
      "text/plain": [
       "'the file data_NY_GSR_NFCY_KN.csv has been created'"
      ]
     },
     "metadata": {},
     "output_type": "display_data"
    },
    {
     "data": {
      "text/plain": [
       "'the file data_NV_IND_TOTL_CN.csv has been created'"
      ]
     },
     "metadata": {},
     "output_type": "display_data"
    },
    {
     "data": {
      "text/plain": [
       "'the file data_SL_TLF_TOTL_IN.csv has been created'"
      ]
     },
     "metadata": {},
     "output_type": "display_data"
    },
    {
     "data": {
      "text/plain": [
       "'the file data_NY_GSR_NFCY_CN.csv has been created'"
      ]
     },
     "metadata": {},
     "output_type": "display_data"
    },
    {
     "data": {
      "text/plain": [
       "'the file data_SH_DYN_2024.csv has been created'"
      ]
     },
     "metadata": {},
     "output_type": "display_data"
    },
    {
     "data": {
      "text/plain": [
       "'the file data_VC_PKP_TOTL_UN.csv has been created'"
      ]
     },
     "metadata": {},
     "output_type": "display_data"
    },
    {
     "data": {
      "text/plain": [
       "'the file data_NE_CON_PRVT_CN_AD.csv has been created'"
      ]
     },
     "metadata": {},
     "output_type": "display_data"
    },
    {
     "data": {
      "text/plain": [
       "'the file data_NY_GSR_NFCY_CD.csv has been created'"
      ]
     },
     "metadata": {},
     "output_type": "display_data"
    },
    {
     "data": {
      "text/plain": [
       "'the file data_NY_GDP_PCAP_PP_KD.csv has been created'"
      ]
     },
     "metadata": {},
     "output_type": "display_data"
    },
    {
     "data": {
      "text/plain": [
       "'the file data_NE_CON_PRVT_PP_CD.csv has been created'"
      ]
     },
     "metadata": {},
     "output_type": "display_data"
    },
    {
     "data": {
      "text/plain": [
       "'the file data_BN_TRF_CURR_CD.csv has been created'"
      ]
     },
     "metadata": {},
     "output_type": "display_data"
    },
    {
     "data": {
      "text/plain": [
       "'the file data_SE_ADT_LITR_MA_ZS.csv has been created'"
      ]
     },
     "metadata": {},
     "output_type": "display_data"
    }
   ],
   "source": [
    "# for each distinct series_id from the metadata, filter the master data by \n",
    "# that series id and create a file with the name as data_<series_id>.csv\n",
    "# for ease of use the . in the series id is replaced by _ (underscore) character\n",
    "for series in wb_metadata_df['series_id'].sort_values(by='series_id'):\n",
    "    try:\n",
    "        csv_file_name = f\"data_{series.replace('''.''','''_''')}.csv\"\n",
    "        pd.DataFrame(wb_data_df[wb_data_df['series_id']==series]).to_csv(Path(f'../data/{csv_file_name}'),index=False,mode='x')\n",
    "        display(f\"the file {csv_file_name} has been created\")\n",
    "    except:\n",
    "        display(f\"Skipping creating the file {csv_file_name} because it already exists\")   \n"
   ]
  }
 ],
 "metadata": {
  "kernelspec": {
   "display_name": "Python 3 (ipykernel)",
   "language": "python",
   "name": "python3"
  },
  "language_info": {
   "codemirror_mode": {
    "name": "ipython",
    "version": 3
   },
   "file_extension": ".py",
   "mimetype": "text/x-python",
   "name": "python",
   "nbconvert_exporter": "python",
   "pygments_lexer": "ipython3",
   "version": "3.7.13"
  }
 },
 "nbformat": 4,
 "nbformat_minor": 5
}
