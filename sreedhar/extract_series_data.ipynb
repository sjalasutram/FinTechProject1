{
 "cells": [
  {
   "cell_type": "markdown",
   "id": "d9a85344-bfa2-4fcc-adde-ef730510bd66",
   "metadata": {},
   "source": [
    "# Extract series data extract the performance indicators that are being analyzed for the Project 1 coursework"
   ]
  },
  {
   "cell_type": "code",
   "execution_count": 1,
   "id": "754b0553-81f3-43c0-9c52-fb091a6bbbe9",
   "metadata": {},
   "outputs": [],
   "source": [
    "# import modules\n",
    "import pandas as pd\n",
    "from pathlib import Path"
   ]
  },
  {
   "cell_type": "code",
   "execution_count": 2,
   "id": "3d90ec1f-a253-4d70-924b-44073173578b",
   "metadata": {},
   "outputs": [],
   "source": [
    "#series_id_list = ['AG.LND.AGRI.ZS','EN.ATM.C02.KT','EG.ELC.RNWX.ZS','EG.ELC.RNWX.KH','AG.PRD.FOOD.XD','SE.XPD.TOTL.GD.ZS','IT.NET.UESR.ZS']"
   ]
  },
  {
   "cell_type": "code",
   "execution_count": 6,
   "id": "68279577-97a6-4d04-acad-d5bfae3d8a34",
   "metadata": {},
   "outputs": [],
   "source": [
    "wb_metadata_df = pd.read_csv(Path('../data/WB_METADATA.csv'))"
   ]
  },
  {
   "cell_type": "code",
   "execution_count": 7,
   "id": "bfd4a830-e3a0-4c0a-a440-8633c915e50e",
   "metadata": {},
   "outputs": [
    {
     "data": {
      "text/html": [
       "<div>\n",
       "<style scoped>\n",
       "    .dataframe tbody tr th:only-of-type {\n",
       "        vertical-align: middle;\n",
       "    }\n",
       "\n",
       "    .dataframe tbody tr th {\n",
       "        vertical-align: top;\n",
       "    }\n",
       "\n",
       "    .dataframe thead th {\n",
       "        text-align: right;\n",
       "    }\n",
       "</style>\n",
       "<table border=\"1\" class=\"dataframe\">\n",
       "  <thead>\n",
       "    <tr style=\"text-align: right;\">\n",
       "      <th></th>\n",
       "      <th>series_id</th>\n",
       "      <th>name</th>\n",
       "      <th>description</th>\n",
       "    </tr>\n",
       "  </thead>\n",
       "  <tbody>\n",
       "    <tr>\n",
       "      <th>0</th>\n",
       "      <td>AG.LND.IRIG.AG.ZS</td>\n",
       "      <td>Agricultural irrigated land (% of total agricu...</td>\n",
       "      <td>Agricultural irrigated land refers to agricult...</td>\n",
       "    </tr>\n",
       "    <tr>\n",
       "      <th>1</th>\n",
       "      <td>AG.LND.AGRI.ZS</td>\n",
       "      <td>Agricultural land (% of land area)</td>\n",
       "      <td>Agricultural land refers to the share of land ...</td>\n",
       "    </tr>\n",
       "    <tr>\n",
       "      <th>2</th>\n",
       "      <td>AG.LND.AGRI.K2</td>\n",
       "      <td>Agricultural land (sq. km)</td>\n",
       "      <td>Agricultural land refers to the share of land ...</td>\n",
       "    </tr>\n",
       "    <tr>\n",
       "      <th>3</th>\n",
       "      <td>SH.DYN.AIDS.ZS</td>\n",
       "      <td>Prevalence of HIV, total (% of population ages...</td>\n",
       "      <td>Prevalence of HIV refers to the percentage of ...</td>\n",
       "    </tr>\n",
       "    <tr>\n",
       "      <th>4</th>\n",
       "      <td>DC.DAC.CANL.CD</td>\n",
       "      <td>Net bilateral aid flows from DAC donors, Canad...</td>\n",
       "      <td>Net bilateral aid flows from DAC donors are th...</td>\n",
       "    </tr>\n",
       "  </tbody>\n",
       "</table>\n",
       "</div>"
      ],
      "text/plain": [
       "           series_id                                               name  \\\n",
       "0  AG.LND.IRIG.AG.ZS  Agricultural irrigated land (% of total agricu...   \n",
       "1     AG.LND.AGRI.ZS                 Agricultural land (% of land area)   \n",
       "2     AG.LND.AGRI.K2                         Agricultural land (sq. km)   \n",
       "3     SH.DYN.AIDS.ZS  Prevalence of HIV, total (% of population ages...   \n",
       "4     DC.DAC.CANL.CD  Net bilateral aid flows from DAC donors, Canad...   \n",
       "\n",
       "                                         description  \n",
       "0  Agricultural irrigated land refers to agricult...  \n",
       "1  Agricultural land refers to the share of land ...  \n",
       "2  Agricultural land refers to the share of land ...  \n",
       "3  Prevalence of HIV refers to the percentage of ...  \n",
       "4  Net bilateral aid flows from DAC donors are th...  "
      ]
     },
     "execution_count": 7,
     "metadata": {},
     "output_type": "execute_result"
    }
   ],
   "source": [
    "wb_metadata_df.head()"
   ]
  },
  {
   "cell_type": "code",
   "execution_count": 3,
   "id": "10b19e54-a194-40ed-9de0-b8dbbdecb5a5",
   "metadata": {},
   "outputs": [],
   "source": [
    "wb_data_df = pd.read_csv(Path('../data/WB_DATA.csv'))"
   ]
  },
  {
   "cell_type": "code",
   "execution_count": 4,
   "id": "85a24c59-1cec-46bf-9ff0-5a96ffd0f647",
   "metadata": {},
   "outputs": [
    {
     "data": {
      "text/html": [
       "<div>\n",
       "<style scoped>\n",
       "    .dataframe tbody tr th:only-of-type {\n",
       "        vertical-align: middle;\n",
       "    }\n",
       "\n",
       "    .dataframe tbody tr th {\n",
       "        vertical-align: top;\n",
       "    }\n",
       "\n",
       "    .dataframe thead th {\n",
       "        text-align: right;\n",
       "    }\n",
       "</style>\n",
       "<table border=\"1\" class=\"dataframe\">\n",
       "  <thead>\n",
       "    <tr style=\"text-align: right;\">\n",
       "      <th></th>\n",
       "      <th>series_id</th>\n",
       "      <th>country_code</th>\n",
       "      <th>country_name</th>\n",
       "      <th>year</th>\n",
       "      <th>value</th>\n",
       "    </tr>\n",
       "  </thead>\n",
       "  <tbody>\n",
       "    <tr>\n",
       "      <th>0</th>\n",
       "      <td>AG.LND.AGRI.ZS</td>\n",
       "      <td>ECA</td>\n",
       "      <td>Europe &amp; Central Asia (excluding high income)</td>\n",
       "      <td>1981</td>\n",
       "      <td>28.436899</td>\n",
       "    </tr>\n",
       "    <tr>\n",
       "      <th>1</th>\n",
       "      <td>TM.VAL.AGRI.ZS.UN</td>\n",
       "      <td>LKA</td>\n",
       "      <td>Sri Lanka</td>\n",
       "      <td>1985</td>\n",
       "      <td>1.879218</td>\n",
       "    </tr>\n",
       "    <tr>\n",
       "      <th>2</th>\n",
       "      <td>TM.VAL.AGRI.ZS.UN</td>\n",
       "      <td>LKA</td>\n",
       "      <td>Sri Lanka</td>\n",
       "      <td>1986</td>\n",
       "      <td>1.621166</td>\n",
       "    </tr>\n",
       "    <tr>\n",
       "      <th>3</th>\n",
       "      <td>TM.VAL.AGRI.ZS.UN</td>\n",
       "      <td>LKA</td>\n",
       "      <td>Sri Lanka</td>\n",
       "      <td>1987</td>\n",
       "      <td>1.856747</td>\n",
       "    </tr>\n",
       "    <tr>\n",
       "      <th>4</th>\n",
       "      <td>TM.VAL.AGRI.ZS.UN</td>\n",
       "      <td>LKA</td>\n",
       "      <td>Sri Lanka</td>\n",
       "      <td>1990</td>\n",
       "      <td>1.803669</td>\n",
       "    </tr>\n",
       "  </tbody>\n",
       "</table>\n",
       "</div>"
      ],
      "text/plain": [
       "           series_id country_code  \\\n",
       "0     AG.LND.AGRI.ZS          ECA   \n",
       "1  TM.VAL.AGRI.ZS.UN          LKA   \n",
       "2  TM.VAL.AGRI.ZS.UN          LKA   \n",
       "3  TM.VAL.AGRI.ZS.UN          LKA   \n",
       "4  TM.VAL.AGRI.ZS.UN          LKA   \n",
       "\n",
       "                                    country_name  year      value  \n",
       "0  Europe & Central Asia (excluding high income)  1981  28.436899  \n",
       "1                                      Sri Lanka  1985   1.879218  \n",
       "2                                      Sri Lanka  1986   1.621166  \n",
       "3                                      Sri Lanka  1987   1.856747  \n",
       "4                                      Sri Lanka  1990   1.803669  "
      ]
     },
     "execution_count": 4,
     "metadata": {},
     "output_type": "execute_result"
    }
   ],
   "source": [
    "wb_data_df.head()"
   ]
  },
  {
   "cell_type": "code",
   "execution_count": 8,
   "id": "d3dcebd6-136d-4309-b073-0a274ce62fb0",
   "metadata": {},
   "outputs": [
    {
     "data": {
      "text/plain": [
       "'the file data_AG_LND_IRIG_AG_ZS_df.csv has been created'"
      ]
     },
     "metadata": {},
     "output_type": "display_data"
    },
    {
     "data": {
      "text/plain": [
       "'Skipping creating the file data_AG_LND_AGRI_ZS_df.csv because it already exists'"
      ]
     },
     "metadata": {},
     "output_type": "display_data"
    },
    {
     "data": {
      "text/plain": [
       "'the file data_AG_LND_AGRI_K2_df.csv has been created'"
      ]
     },
     "metadata": {},
     "output_type": "display_data"
    },
    {
     "data": {
      "text/plain": [
       "'the file data_SH_DYN_AIDS_ZS_df.csv has been created'"
      ]
     },
     "metadata": {},
     "output_type": "display_data"
    },
    {
     "data": {
      "text/plain": [
       "'the file data_DC_DAC_CANL_CD_df.csv has been created'"
      ]
     },
     "metadata": {},
     "output_type": "display_data"
    },
    {
     "data": {
      "text/plain": [
       "'the file data_DC_DAC_CZEL_CD_df.csv has been created'"
      ]
     },
     "metadata": {},
     "output_type": "display_data"
    },
    {
     "data": {
      "text/plain": [
       "'the file data_AG_PRD_LVSK_XD_df.csv has been created'"
      ]
     },
     "metadata": {},
     "output_type": "display_data"
    },
    {
     "data": {
      "text/plain": [
       "'the file data_AG_LND_EL5M_RU_ZS_df.csv has been created'"
      ]
     },
     "metadata": {},
     "output_type": "display_data"
    },
    {
     "data": {
      "text/plain": [
       "'the file data_SH_STA_MMRT_df.csv has been created'"
      ]
     },
     "metadata": {},
     "output_type": "display_data"
    },
    {
     "data": {
      "text/plain": [
       "'the file data_SH_STA_ANVC_ZS_df.csv has been created'"
      ]
     },
     "metadata": {},
     "output_type": "display_data"
    },
    {
     "data": {
      "text/plain": [
       "'the file data_DC_DAC_DNKL_CD_df.csv has been created'"
      ]
     },
     "metadata": {},
     "output_type": "display_data"
    },
    {
     "data": {
      "text/plain": [
       "'the file data_DC_DAC_CECL_CD_df.csv has been created'"
      ]
     },
     "metadata": {},
     "output_type": "display_data"
    },
    {
     "data": {
      "text/plain": [
       "'the file data_SL_UEM_INTM_MA_ZS_df.csv has been created'"
      ]
     },
     "metadata": {},
     "output_type": "display_data"
    },
    {
     "data": {
      "text/plain": [
       "'the file data_SL_UEM_TOTL_FE_NE_ZS_df.csv has been created'"
      ]
     },
     "metadata": {},
     "output_type": "display_data"
    },
    {
     "data": {
      "text/plain": [
       "'the file data_BX_GRT_EXTA_CD_WD_df.csv has been created'"
      ]
     },
     "metadata": {},
     "output_type": "display_data"
    },
    {
     "data": {
      "text/plain": [
       "'the file data_AG_CON_FERT_ZS_df.csv has been created'"
      ]
     },
     "metadata": {},
     "output_type": "display_data"
    },
    {
     "data": {
      "text/plain": [
       "'the file data_DC_DAC_FINL_CD_df.csv has been created'"
      ]
     },
     "metadata": {},
     "output_type": "display_data"
    },
    {
     "data": {
      "text/plain": [
       "'the file data_DC_DAC_FRAL_CD_df.csv has been created'"
      ]
     },
     "metadata": {},
     "output_type": "display_data"
    },
    {
     "data": {
      "text/plain": [
       "'the file data_DC_DAC_DEUL_CD_df.csv has been created'"
      ]
     },
     "metadata": {},
     "output_type": "display_data"
    },
    {
     "data": {
      "text/plain": [
       "'the file data_SL_TLF_CACT_NE_ZS_df.csv has been created'"
      ]
     },
     "metadata": {},
     "output_type": "display_data"
    },
    {
     "data": {
      "text/plain": [
       "'the file data_NV_AGR_TOTL_CD_df.csv has been created'"
      ]
     },
     "metadata": {},
     "output_type": "display_data"
    },
    {
     "data": {
      "text/plain": [
       "'the file data_AG_LND_FRST_ZS_df.csv has been created'"
      ]
     },
     "metadata": {},
     "output_type": "display_data"
    },
    {
     "data": {
      "text/plain": [
       "'the file data_AG_LND_FRST_K2_df.csv has been created'"
      ]
     },
     "metadata": {},
     "output_type": "display_data"
    },
    {
     "data": {
      "text/plain": [
       "'the file data_DC_DAC_GRCL_CD_df.csv has been created'"
      ]
     },
     "metadata": {},
     "output_type": "display_data"
    },
    {
     "data": {
      "text/plain": [
       "'the file data_DC_DAC_HUNL_CD_df.csv has been created'"
      ]
     },
     "metadata": {},
     "output_type": "display_data"
    },
    {
     "data": {
      "text/plain": [
       "'the file data_DC_DAC_ISLL_CD_df.csv has been created'"
      ]
     },
     "metadata": {},
     "output_type": "display_data"
    },
    {
     "data": {
      "text/plain": [
       "'the file data_SL_UEM_TOTL_MA_NE_ZS_df.csv has been created'"
      ]
     },
     "metadata": {},
     "output_type": "display_data"
    },
    {
     "data": {
      "text/plain": [
       "'the file data_EN_ATM_METH_AG_KT_CE_df.csv has been created'"
      ]
     },
     "metadata": {},
     "output_type": "display_data"
    },
    {
     "data": {
      "text/plain": [
       "'the file data_ER_H2O_FWAG_ZS_df.csv has been created'"
      ]
     },
     "metadata": {},
     "output_type": "display_data"
    },
    {
     "data": {
      "text/plain": [
       "'the file data_AG_LND_ARBL_ZS_df.csv has been created'"
      ]
     },
     "metadata": {},
     "output_type": "display_data"
    },
    {
     "data": {
      "text/plain": [
       "'the file data_DC_DAC_IRLL_CD_df.csv has been created'"
      ]
     },
     "metadata": {},
     "output_type": "display_data"
    },
    {
     "data": {
      "text/plain": [
       "'the file data_DC_DAC_ITAL_CD_df.csv has been created'"
      ]
     },
     "metadata": {},
     "output_type": "display_data"
    },
    {
     "data": {
      "text/plain": [
       "'the file data_DC_DAC_JPNL_CD_df.csv has been created'"
      ]
     },
     "metadata": {},
     "output_type": "display_data"
    },
    {
     "data": {
      "text/plain": [
       "'the file data_SL_UEM_TOTL_NE_ZS_df.csv has been created'"
      ]
     },
     "metadata": {},
     "output_type": "display_data"
    },
    {
     "data": {
      "text/plain": [
       "'the file data_AG_AGR_TRAC_NO_df.csv has been created'"
      ]
     },
     "metadata": {},
     "output_type": "display_data"
    },
    {
     "data": {
      "text/plain": [
       "'the file data_AG_LND_ARBL_HA_PC_df.csv has been created'"
      ]
     },
     "metadata": {},
     "output_type": "display_data"
    },
    {
     "data": {
      "text/plain": [
       "'the file data_AG_LND_ARBL_HA_df.csv has been created'"
      ]
     },
     "metadata": {},
     "output_type": "display_data"
    },
    {
     "data": {
      "text/plain": [
       "'the file data_AG_LND_TOTL_K2_df.csv has been created'"
      ]
     },
     "metadata": {},
     "output_type": "display_data"
    },
    {
     "data": {
      "text/plain": [
       "'the file data_AG_LND_CREL_HA_df.csv has been created'"
      ]
     },
     "metadata": {},
     "output_type": "display_data"
    },
    {
     "data": {
      "text/plain": [
       "'the file data_DC_DAC_KORL_CD_df.csv has been created'"
      ]
     },
     "metadata": {},
     "output_type": "display_data"
    },
    {
     "data": {
      "text/plain": [
       "'the file data_DC_DAC_LUXL_CD_df.csv has been created'"
      ]
     },
     "metadata": {},
     "output_type": "display_data"
    },
    {
     "data": {
      "text/plain": [
       "'the file data_AG_LND_PRCP_MM_df.csv has been created'"
      ]
     },
     "metadata": {},
     "output_type": "display_data"
    },
    {
     "data": {
      "text/plain": [
       "'the file data_AG_PRD_CREL_MT_df.csv has been created'"
      ]
     },
     "metadata": {},
     "output_type": "display_data"
    },
    {
     "data": {
      "text/plain": [
       "'the file data_AG_LND_CROP_ZS_df.csv has been created'"
      ]
     },
     "metadata": {},
     "output_type": "display_data"
    },
    {
     "data": {
      "text/plain": [
       "'the file data_DC_DAC_NLDL_CD_df.csv has been created'"
      ]
     },
     "metadata": {},
     "output_type": "display_data"
    },
    {
     "data": {
      "text/plain": [
       "'the file data_DC_DAC_NZLL_CD_df.csv has been created'"
      ]
     },
     "metadata": {},
     "output_type": "display_data"
    },
    {
     "data": {
      "text/plain": [
       "'the file data_DC_DAC_NORL_CD_df.csv has been created'"
      ]
     },
     "metadata": {},
     "output_type": "display_data"
    },
    {
     "data": {
      "text/plain": [
       "'the file data_AG_YLD_CREL_KG_df.csv has been created'"
      ]
     },
     "metadata": {},
     "output_type": "display_data"
    },
    {
     "data": {
      "text/plain": [
       "'the file data_AG_LND_TOTL_RU_K2_df.csv has been created'"
      ]
     },
     "metadata": {},
     "output_type": "display_data"
    },
    {
     "data": {
      "text/plain": [
       "'the file data_DC_DAC_POLL_CD_df.csv has been created'"
      ]
     },
     "metadata": {},
     "output_type": "display_data"
    },
    {
     "data": {
      "text/plain": [
       "'the file data_DC_DAC_PRTL_CD_df.csv has been created'"
      ]
     },
     "metadata": {},
     "output_type": "display_data"
    },
    {
     "data": {
      "text/plain": [
       "'the file data_DC_DAC_SVKL_CD_df.csv has been created'"
      ]
     },
     "metadata": {},
     "output_type": "display_data"
    },
    {
     "data": {
      "text/plain": [
       "'the file data_DC_DAC_AUSL_CD_df.csv has been created'"
      ]
     },
     "metadata": {},
     "output_type": "display_data"
    },
    {
     "data": {
      "text/plain": [
       "'the file data_DC_DAC_SVNL_CD_df.csv has been created'"
      ]
     },
     "metadata": {},
     "output_type": "display_data"
    },
    {
     "data": {
      "text/plain": [
       "'the file data_DC_DAC_ESPL_CD_df.csv has been created'"
      ]
     },
     "metadata": {},
     "output_type": "display_data"
    },
    {
     "data": {
      "text/plain": [
       "'the file data_DC_DAC_SWEL_CD_df.csv has been created'"
      ]
     },
     "metadata": {},
     "output_type": "display_data"
    },
    {
     "data": {
      "text/plain": [
       "'the file data_AG_PRD_CROP_XD_df.csv has been created'"
      ]
     },
     "metadata": {},
     "output_type": "display_data"
    },
    {
     "data": {
      "text/plain": [
       "'the file data_AG_LND_EL5M_RU_K2_df.csv has been created'"
      ]
     },
     "metadata": {},
     "output_type": "display_data"
    },
    {
     "data": {
      "text/plain": [
       "'the file data_DC_DAC_CHEL_CD_df.csv has been created'"
      ]
     },
     "metadata": {},
     "output_type": "display_data"
    },
    {
     "data": {
      "text/plain": [
       "'the file data_DC_DAC_GBRL_CD_df.csv has been created'"
      ]
     },
     "metadata": {},
     "output_type": "display_data"
    },
    {
     "data": {
      "text/plain": [
       "'the file data_DC_DAC_USAL_CD_df.csv has been created'"
      ]
     },
     "metadata": {},
     "output_type": "display_data"
    },
    {
     "data": {
      "text/plain": [
       "'the file data_DT_ODA_OATL_CD_df.csv has been created'"
      ]
     },
     "metadata": {},
     "output_type": "display_data"
    },
    {
     "data": {
      "text/plain": [
       "'the file data_SL_UEM_1524_FE_NE_ZS_df.csv has been created'"
      ]
     },
     "metadata": {},
     "output_type": "display_data"
    },
    {
     "data": {
      "text/plain": [
       "'the file data_SP_RUR_TOTL_df.csv has been created'"
      ]
     },
     "metadata": {},
     "output_type": "display_data"
    },
    {
     "data": {
      "text/plain": [
       "'the file data_DT_ODA_ALLD_KD_df.csv has been created'"
      ]
     },
     "metadata": {},
     "output_type": "display_data"
    },
    {
     "data": {
      "text/plain": [
       "'the file data_SE_PRM_CMPT_ZS_df.csv has been created'"
      ]
     },
     "metadata": {},
     "output_type": "display_data"
    },
    {
     "data": {
      "text/plain": [
       "'the file data_SE_ENR_PRSC_FM_ZS_df.csv has been created'"
      ]
     },
     "metadata": {},
     "output_type": "display_data"
    },
    {
     "data": {
      "text/plain": [
       "'the file data_DT_ODA_ALLD_CD_df.csv has been created'"
      ]
     },
     "metadata": {},
     "output_type": "display_data"
    },
    {
     "data": {
      "text/plain": [
       "'the file data_DT_ODA_ODAT_KD_df.csv has been created'"
      ]
     },
     "metadata": {},
     "output_type": "display_data"
    },
    {
     "data": {
      "text/plain": [
       "'the file data_DT_NFL_FAOG_CD_df.csv has been created'"
      ]
     },
     "metadata": {},
     "output_type": "display_data"
    },
    {
     "data": {
      "text/plain": [
       "'the file data_SP_RUR_TOTL_ZS_df.csv has been created'"
      ]
     },
     "metadata": {},
     "output_type": "display_data"
    },
    {
     "data": {
      "text/plain": [
       "'the file data_DT_NFL_IAEA_CD_df.csv has been created'"
      ]
     },
     "metadata": {},
     "output_type": "display_data"
    },
    {
     "data": {
      "text/plain": [
       "'the file data_DT_NFL_IFAD_CD_df.csv has been created'"
      ]
     },
     "metadata": {},
     "output_type": "display_data"
    },
    {
     "data": {
      "text/plain": [
       "'the file data_DT_NFL_ILOG_CD_df.csv has been created'"
      ]
     },
     "metadata": {},
     "output_type": "display_data"
    },
    {
     "data": {
      "text/plain": [
       "'the file data_SL_TLF_CACT_FM_ZS_df.csv has been created'"
      ]
     },
     "metadata": {},
     "output_type": "display_data"
    },
    {
     "data": {
      "text/plain": [
       "'the file data_DT_NFL_UNAI_CD_df.csv has been created'"
      ]
     },
     "metadata": {},
     "output_type": "display_data"
    },
    {
     "data": {
      "text/plain": [
       "'the file data_DT_NFL_UNDP_CD_df.csv has been created'"
      ]
     },
     "metadata": {},
     "output_type": "display_data"
    },
    {
     "data": {
      "text/plain": [
       "'the file data_DT_NFL_UNEC_CD_df.csv has been created'"
      ]
     },
     "metadata": {},
     "output_type": "display_data"
    },
    {
     "data": {
      "text/plain": [
       "'the file data_DT_NFL_UNEP_CD_df.csv has been created'"
      ]
     },
     "metadata": {},
     "output_type": "display_data"
    },
    {
     "data": {
      "text/plain": [
       "'the file data_EN_POP_EL5M_RU_ZS_df.csv has been created'"
      ]
     },
     "metadata": {},
     "output_type": "display_data"
    },
    {
     "data": {
      "text/plain": [
       "'the file data_SH_TBS_INCD_df.csv has been created'"
      ]
     },
     "metadata": {},
     "output_type": "display_data"
    },
    {
     "data": {
      "text/plain": [
       "'the file data_DC_DAC_AUTL_CD_df.csv has been created'"
      ]
     },
     "metadata": {},
     "output_type": "display_data"
    },
    {
     "data": {
      "text/plain": [
       "'the file data_DT_NFL_UNFP_CD_df.csv has been created'"
      ]
     },
     "metadata": {},
     "output_type": "display_data"
    },
    {
     "data": {
      "text/plain": [
       "'the file data_SL_UEM_1524_MA_NE_ZS_df.csv has been created'"
      ]
     },
     "metadata": {},
     "output_type": "display_data"
    },
    {
     "data": {
      "text/plain": [
       "'the file data_SL_UEM_1524_ZS_df.csv has been created'"
      ]
     },
     "metadata": {},
     "output_type": "display_data"
    },
    {
     "data": {
      "text/plain": [
       "'the file data_EN_ATM_NOXE_AG_ZS_df.csv has been created'"
      ]
     },
     "metadata": {},
     "output_type": "display_data"
    },
    {
     "data": {
      "text/plain": [
       "'the file data_SL_AGR_EMPL_ZS_df.csv has been created'"
      ]
     },
     "metadata": {},
     "output_type": "display_data"
    },
    {
     "data": {
      "text/plain": [
       "'the file data_SI_DST_FRST_20_df.csv has been created'"
      ]
     },
     "metadata": {},
     "output_type": "display_data"
    },
    {
     "data": {
      "text/plain": [
       "'the file data_DT_NFL_UNCR_CD_df.csv has been created'"
      ]
     },
     "metadata": {},
     "output_type": "display_data"
    },
    {
     "data": {
      "text/plain": [
       "'the file data_DT_NFL_UNCF_CD_df.csv has been created'"
      ]
     },
     "metadata": {},
     "output_type": "display_data"
    },
    {
     "data": {
      "text/plain": [
       "'the file data_SL_UEM_1524_NE_ZS_df.csv has been created'"
      ]
     },
     "metadata": {},
     "output_type": "display_data"
    },
    {
     "data": {
      "text/plain": [
       "'the file data_SL_AGR_EMPL_FE_ZS_df.csv has been created'"
      ]
     },
     "metadata": {},
     "output_type": "display_data"
    },
    {
     "data": {
      "text/plain": [
       "'the file data_DT_ODA_ODAT_GN_ZS_df.csv has been created'"
      ]
     },
     "metadata": {},
     "output_type": "display_data"
    },
    {
     "data": {
      "text/plain": [
       "'the file data_DT_NFL_UNID_CD_df.csv has been created'"
      ]
     },
     "metadata": {},
     "output_type": "display_data"
    },
    {
     "data": {
      "text/plain": [
       "'the file data_DT_NFL_UNPB_CD_df.csv has been created'"
      ]
     },
     "metadata": {},
     "output_type": "display_data"
    },
    {
     "data": {
      "text/plain": [
       "'the file data_SL_EMP_WORK_ZS_df.csv has been created'"
      ]
     },
     "metadata": {},
     "output_type": "display_data"
    },
    {
     "data": {
      "text/plain": [
       "'the file data_EN_ATM_NOXE_AG_KT_CE_df.csv has been created'"
      ]
     },
     "metadata": {},
     "output_type": "display_data"
    },
    {
     "data": {
      "text/plain": [
       "'the file data_EN_CLC_DRSK_XQ_df.csv has been created'"
      ]
     },
     "metadata": {},
     "output_type": "display_data"
    },
    {
     "data": {
      "text/plain": [
       "'the file data_DT_NFL_UNRW_CD_df.csv has been created'"
      ]
     },
     "metadata": {},
     "output_type": "display_data"
    },
    {
     "data": {
      "text/plain": [
       "'the file data_EN_POP_EL5M_ZS_df.csv has been created'"
      ]
     },
     "metadata": {},
     "output_type": "display_data"
    },
    {
     "data": {
      "text/plain": [
       "'the file data_DT_NFL_UNTA_CD_df.csv has been created'"
      ]
     },
     "metadata": {},
     "output_type": "display_data"
    },
    {
     "data": {
      "text/plain": [
       "'the file data_EN_POP_DNST_df.csv has been created'"
      ]
     },
     "metadata": {},
     "output_type": "display_data"
    },
    {
     "data": {
      "text/plain": [
       "'the file data_EN_URB_LCTY_df.csv has been created'"
      ]
     },
     "metadata": {},
     "output_type": "display_data"
    },
    {
     "data": {
      "text/plain": [
       "'the file data_EN_URB_MCTY_df.csv has been created'"
      ]
     },
     "metadata": {},
     "output_type": "display_data"
    },
    {
     "data": {
      "text/plain": [
       "'the file data_DT_NFL_UNWT_CD_df.csv has been created'"
      ]
     },
     "metadata": {},
     "output_type": "display_data"
    },
    {
     "data": {
      "text/plain": [
       "'the file data_DT_NFL_WFPG_CD_df.csv has been created'"
      ]
     },
     "metadata": {},
     "output_type": "display_data"
    },
    {
     "data": {
      "text/plain": [
       "'the file data_DT_NFL_WHOL_CD_df.csv has been created'"
      ]
     },
     "metadata": {},
     "output_type": "display_data"
    },
    {
     "data": {
      "text/plain": [
       "'the file data_SI_POV_DDAY_df.csv has been created'"
      ]
     },
     "metadata": {},
     "output_type": "display_data"
    },
    {
     "data": {
      "text/plain": [
       "'the file data_ER_H2O_FWTL_ZS_df.csv has been created'"
      ]
     },
     "metadata": {},
     "output_type": "display_data"
    },
    {
     "data": {
      "text/plain": [
       "'the file data_DC_DAC_BELL_CD_df.csv has been created'"
      ]
     },
     "metadata": {},
     "output_type": "display_data"
    },
    {
     "data": {
      "text/plain": [
       "'the file data_ER_H2O_FWTL_K3_df.csv has been created'"
      ]
     },
     "metadata": {},
     "output_type": "display_data"
    },
    {
     "data": {
      "text/plain": [
       "'the file data_EN_ATM_CO2E_KT_df.csv has been created'"
      ]
     },
     "metadata": {},
     "output_type": "display_data"
    },
    {
     "data": {
      "text/plain": [
       "'the file data_EN_ATM_CO2E_PC_df.csv has been created'"
      ]
     },
     "metadata": {},
     "output_type": "display_data"
    },
    {
     "data": {
      "text/plain": [
       "'the file data_EN_ATM_CO2E_GF_ZS_df.csv has been created'"
      ]
     },
     "metadata": {},
     "output_type": "display_data"
    },
    {
     "data": {
      "text/plain": [
       "'the file data_EN_ATM_CO2E_GF_KT_df.csv has been created'"
      ]
     },
     "metadata": {},
     "output_type": "display_data"
    },
    {
     "data": {
      "text/plain": [
       "'the file data_EN_ATM_CO2E_SF_ZS_df.csv has been created'"
      ]
     },
     "metadata": {},
     "output_type": "display_data"
    },
    {
     "data": {
      "text/plain": [
       "'the file data_EN_ATM_CO2E_SF_KT_df.csv has been created'"
      ]
     },
     "metadata": {},
     "output_type": "display_data"
    },
    {
     "data": {
      "text/plain": [
       "'the file data_EN_ATM_CO2E_EG_ZS_df.csv has been created'"
      ]
     },
     "metadata": {},
     "output_type": "display_data"
    },
    {
     "data": {
      "text/plain": [
       "'the file data_SH_MED_CMHW_P3_df.csv has been created'"
      ]
     },
     "metadata": {},
     "output_type": "display_data"
    },
    {
     "data": {
      "text/plain": [
       "'the file data_DT_ODA_ODAT_MP_ZS_df.csv has been created'"
      ]
     },
     "metadata": {},
     "output_type": "display_data"
    },
    {
     "data": {
      "text/plain": [
       "'the file data_IQ_CPA_PUBS_XQ_df.csv has been created'"
      ]
     },
     "metadata": {},
     "output_type": "display_data"
    },
    {
     "data": {
      "text/plain": [
       "'the file data_EN_CLC_MDAT_ZS_df.csv has been created'"
      ]
     },
     "metadata": {},
     "output_type": "display_data"
    },
    {
     "data": {
      "text/plain": [
       "'the file data_EG_USE_ELEC_KH_PC_df.csv has been created'"
      ]
     },
     "metadata": {},
     "output_type": "display_data"
    },
    {
     "data": {
      "text/plain": [
       "'the file data_EG_ELC_COAL_ZS_df.csv has been created'"
      ]
     },
     "metadata": {},
     "output_type": "display_data"
    },
    {
     "data": {
      "text/plain": [
       "'the file data_EG_ELC_HYRO_ZS_df.csv has been created'"
      ]
     },
     "metadata": {},
     "output_type": "display_data"
    },
    {
     "data": {
      "text/plain": [
       "'the file data_EG_ELC_NGAS_ZS_df.csv has been created'"
      ]
     },
     "metadata": {},
     "output_type": "display_data"
    },
    {
     "data": {
      "text/plain": [
       "'the file data_EG_ELC_PETR_ZS_df.csv has been created'"
      ]
     },
     "metadata": {},
     "output_type": "display_data"
    },
    {
     "data": {
      "text/plain": [
       "'the file data_EG_USE_PCAP_KG_OE_df.csv has been created'"
      ]
     },
     "metadata": {},
     "output_type": "display_data"
    },
    {
     "data": {
      "text/plain": [
       "'the file data_SL_AGR_EMPL_MA_ZS_df.csv has been created'"
      ]
     },
     "metadata": {},
     "output_type": "display_data"
    },
    {
     "data": {
      "text/plain": [
       "'Skipping creating the file data_EG_ELC_RNWX_ZS_df.csv because it already exists'"
      ]
     },
     "metadata": {},
     "output_type": "display_data"
    },
    {
     "data": {
      "text/plain": [
       "'Skipping creating the file data_EG_ELC_RNWX_KH_df.csv because it already exists'"
      ]
     },
     "metadata": {},
     "output_type": "display_data"
    },
    {
     "data": {
      "text/plain": [
       "'the file data_EG_USE_COMM_GD_PP_KD_df.csv has been created'"
      ]
     },
     "metadata": {},
     "output_type": "display_data"
    },
    {
     "data": {
      "text/plain": [
       "'the file data_BX_KLT_DINV_WD_GD_ZS_df.csv has been created'"
      ]
     },
     "metadata": {},
     "output_type": "display_data"
    },
    {
     "data": {
      "text/plain": [
       "'the file data_EN_CLC_GHGR_MT_CE_df.csv has been created'"
      ]
     },
     "metadata": {},
     "output_type": "display_data"
    },
    {
     "data": {
      "text/plain": [
       "'the file data_ER_MRN_PTMR_ZS_df.csv has been created'"
      ]
     },
     "metadata": {},
     "output_type": "display_data"
    },
    {
     "data": {
      "text/plain": [
       "'the file data_EN_ATM_METH_KT_CE_df.csv has been created'"
      ]
     },
     "metadata": {},
     "output_type": "display_data"
    },
    {
     "data": {
      "text/plain": [
       "'the file data_EN_ATM_NOXE_ZG_df.csv has been created'"
      ]
     },
     "metadata": {},
     "output_type": "display_data"
    },
    {
     "data": {
      "text/plain": [
       "'the file data_EN_ATM_NOXE_KT_CE_df.csv has been created'"
      ]
     },
     "metadata": {},
     "output_type": "display_data"
    },
    {
     "data": {
      "text/plain": [
       "'the file data_TX_VAL_AGRI_ZS_UN_df.csv has been created'"
      ]
     },
     "metadata": {},
     "output_type": "display_data"
    },
    {
     "data": {
      "text/plain": [
       "'the file data_DT_ODA_ODAT_GI_ZS_df.csv has been created'"
      ]
     },
     "metadata": {},
     "output_type": "display_data"
    },
    {
     "data": {
      "text/plain": [
       "'the file data_EN_ATM_METH_ZG_df.csv has been created'"
      ]
     },
     "metadata": {},
     "output_type": "display_data"
    },
    {
     "data": {
      "text/plain": [
       "'the file data_EN_ATM_GHGO_ZG_df.csv has been created'"
      ]
     },
     "metadata": {},
     "output_type": "display_data"
    },
    {
     "data": {
      "text/plain": [
       "'the file data_EN_ATM_GHGO_KT_CE_df.csv has been created'"
      ]
     },
     "metadata": {},
     "output_type": "display_data"
    },
    {
     "data": {
      "text/plain": [
       "'the file data_EN_ATM_PFCG_KT_CE_df.csv has been created'"
      ]
     },
     "metadata": {},
     "output_type": "display_data"
    },
    {
     "data": {
      "text/plain": [
       "'the file data_SP_POP_GROW_df.csv has been created'"
      ]
     },
     "metadata": {},
     "output_type": "display_data"
    },
    {
     "data": {
      "text/plain": [
       "'the file data_SH_STA_MALN_ZS_df.csv has been created'"
      ]
     },
     "metadata": {},
     "output_type": "display_data"
    },
    {
     "data": {
      "text/plain": [
       "'the file data_EG_ELC_RNEW_ZS_df.csv has been created'"
      ]
     },
     "metadata": {},
     "output_type": "display_data"
    },
    {
     "data": {
      "text/plain": [
       "'the file data_EG_FEC_RNEW_ZS_df.csv has been created'"
      ]
     },
     "metadata": {},
     "output_type": "display_data"
    },
    {
     "data": {
      "text/plain": [
       "'the file data_SP_URB_GROW_df.csv has been created'"
      ]
     },
     "metadata": {},
     "output_type": "display_data"
    },
    {
     "data": {
      "text/plain": [
       "'the file data_NY_ADJ_DNGY_CD_df.csv has been created'"
      ]
     },
     "metadata": {},
     "output_type": "display_data"
    },
    {
     "data": {
      "text/plain": [
       "'the file data_EN_ATM_SF6G_KT_CE_df.csv has been created'"
      ]
     },
     "metadata": {},
     "output_type": "display_data"
    },
    {
     "data": {
      "text/plain": [
       "'the file data_ER_PTD_TOTL_ZS_df.csv has been created'"
      ]
     },
     "metadata": {},
     "output_type": "display_data"
    },
    {
     "data": {
      "text/plain": [
       "'the file data_EN_ATM_GHGT_ZG_df.csv has been created'"
      ]
     },
     "metadata": {},
     "output_type": "display_data"
    },
    {
     "data": {
      "text/plain": [
       "'the file data_EN_ATM_GHGT_KT_CE_df.csv has been created'"
      ]
     },
     "metadata": {},
     "output_type": "display_data"
    },
    {
     "data": {
      "text/plain": [
       "'the file data_AG_LND_EL5M_UR_ZS_df.csv has been created'"
      ]
     },
     "metadata": {},
     "output_type": "display_data"
    },
    {
     "data": {
      "text/plain": [
       "'the file data_AG_LND_EL5M_UR_K2_df.csv has been created'"
      ]
     },
     "metadata": {},
     "output_type": "display_data"
    },
    {
     "data": {
      "text/plain": [
       "'the file data_SP_URB_TOTL_df.csv has been created'"
      ]
     },
     "metadata": {},
     "output_type": "display_data"
    },
    {
     "data": {
      "text/plain": [
       "'the file data_SP_URB_TOTL_IN_ZS_df.csv has been created'"
      ]
     },
     "metadata": {},
     "output_type": "display_data"
    },
    {
     "data": {
      "text/plain": [
       "'the file data_NY_ADJ_NNTY_KD_ZG_df.csv has been created'"
      ]
     },
     "metadata": {},
     "output_type": "display_data"
    },
    {
     "data": {
      "text/plain": [
       "'the file data_NY_ADJ_NNTY_KD_df.csv has been created'"
      ]
     },
     "metadata": {},
     "output_type": "display_data"
    },
    {
     "data": {
      "text/plain": [
       "'the file data_NY_ADJ_NNTY_CD_df.csv has been created'"
      ]
     },
     "metadata": {},
     "output_type": "display_data"
    },
    {
     "data": {
      "text/plain": [
       "'the file data_AG_LND_TRAC_ZS_df.csv has been created'"
      ]
     },
     "metadata": {},
     "output_type": "display_data"
    },
    {
     "data": {
      "text/plain": [
       "'the file data_NV_AGR_TOTL_ZS_df.csv has been created'"
      ]
     },
     "metadata": {},
     "output_type": "display_data"
    },
    {
     "data": {
      "text/plain": [
       "'the file data_NY_ADJ_ICTR_GN_ZS_df.csv has been created'"
      ]
     },
     "metadata": {},
     "output_type": "display_data"
    },
    {
     "data": {
      "text/plain": [
       "'the file data_EN_POP_EL5M_UR_ZS_df.csv has been created'"
      ]
     },
     "metadata": {},
     "output_type": "display_data"
    },
    {
     "data": {
      "text/plain": [
       "'the file data_NY_ADJ_NNTY_PC_KD_df.csv has been created'"
      ]
     },
     "metadata": {},
     "output_type": "display_data"
    },
    {
     "data": {
      "text/plain": [
       "'the file data_NY_ADJ_NNTY_PC_CD_df.csv has been created'"
      ]
     },
     "metadata": {},
     "output_type": "display_data"
    },
    {
     "data": {
      "text/plain": [
       "'the file data_NY_ADJ_SVNX_GN_ZS_df.csv has been created'"
      ]
     },
     "metadata": {},
     "output_type": "display_data"
    },
    {
     "data": {
      "text/plain": [
       "'the file data_NY_ADJ_SVNX_CD_df.csv has been created'"
      ]
     },
     "metadata": {},
     "output_type": "display_data"
    },
    {
     "data": {
      "text/plain": [
       "'the file data_NY_ADJ_SVNG_GN_ZS_df.csv has been created'"
      ]
     },
     "metadata": {},
     "output_type": "display_data"
    },
    {
     "data": {
      "text/plain": [
       "'the file data_NY_ADJ_SVNG_CD_df.csv has been created'"
      ]
     },
     "metadata": {},
     "output_type": "display_data"
    },
    {
     "data": {
      "text/plain": [
       "'the file data_EN_ATM_METH_AG_ZS_df.csv has been created'"
      ]
     },
     "metadata": {},
     "output_type": "display_data"
    },
    {
     "data": {
      "text/plain": [
       "'the file data_TM_VAL_AGRI_ZS_UN_df.csv has been created'"
      ]
     },
     "metadata": {},
     "output_type": "display_data"
    },
    {
     "data": {
      "text/plain": [
       "'the file data_AG_CON_FERT_PT_ZS_df.csv has been created'"
      ]
     },
     "metadata": {},
     "output_type": "display_data"
    },
    {
     "data": {
      "text/plain": [
       "'the file data_NY_ADJ_DMIN_GN_ZS_df.csv has been created'"
      ]
     },
     "metadata": {},
     "output_type": "display_data"
    },
    {
     "data": {
      "text/plain": [
       "'the file data_NY_ADJ_DMIN_CD_df.csv has been created'"
      ]
     },
     "metadata": {},
     "output_type": "display_data"
    },
    {
     "data": {
      "text/plain": [
       "'the file data_NY_ADJ_DCO2_GN_ZS_df.csv has been created'"
      ]
     },
     "metadata": {},
     "output_type": "display_data"
    },
    {
     "data": {
      "text/plain": [
       "'the file data_NY_ADJ_DCO2_CD_df.csv has been created'"
      ]
     },
     "metadata": {},
     "output_type": "display_data"
    },
    {
     "data": {
      "text/plain": [
       "'the file data_NY_ADJ_AEDU_GN_ZS_df.csv has been created'"
      ]
     },
     "metadata": {},
     "output_type": "display_data"
    },
    {
     "data": {
      "text/plain": [
       "'the file data_NY_ADJ_AEDU_CD_df.csv has been created'"
      ]
     },
     "metadata": {},
     "output_type": "display_data"
    },
    {
     "data": {
      "text/plain": [
       "'the file data_EG_ELC_ACCS_RU_ZS_df.csv has been created'"
      ]
     },
     "metadata": {},
     "output_type": "display_data"
    },
    {
     "data": {
      "text/plain": [
       "'the file data_DT_ODA_ODAT_XP_ZS_df.csv has been created'"
      ]
     },
     "metadata": {},
     "output_type": "display_data"
    },
    {
     "data": {
      "text/plain": [
       "'the file data_NY_ADJ_DNGY_GN_ZS_df.csv has been created'"
      ]
     },
     "metadata": {},
     "output_type": "display_data"
    },
    {
     "data": {
      "text/plain": [
       "'the file data_NY_ADJ_DRES_GN_ZS_df.csv has been created'"
      ]
     },
     "metadata": {},
     "output_type": "display_data"
    },
    {
     "data": {
      "text/plain": [
       "'the file data_NY_ADJ_DFOR_CD_df.csv has been created'"
      ]
     },
     "metadata": {},
     "output_type": "display_data"
    },
    {
     "data": {
      "text/plain": [
       "'the file data_NY_ADJ_NNAT_GN_ZS_df.csv has been created'"
      ]
     },
     "metadata": {},
     "output_type": "display_data"
    },
    {
     "data": {
      "text/plain": [
       "'the file data_NY_ADJ_DPEM_GN_ZS_df.csv has been created'"
      ]
     },
     "metadata": {},
     "output_type": "display_data"
    },
    {
     "data": {
      "text/plain": [
       "'the file data_NY_ADJ_DPEM_CD_df.csv has been created'"
      ]
     },
     "metadata": {},
     "output_type": "display_data"
    },
    {
     "data": {
      "text/plain": [
       "'Skipping creating the file data_AG_PRD_FOOD_XD_df.csv because it already exists'"
      ]
     },
     "metadata": {},
     "output_type": "display_data"
    },
    {
     "data": {
      "text/plain": [
       "'the file data_DT_ODA_ODAT_PC_ZS_df.csv has been created'"
      ]
     },
     "metadata": {},
     "output_type": "display_data"
    },
    {
     "data": {
      "text/plain": [
       "'the file data_AG_SRF_TOTL_K2_df.csv has been created'"
      ]
     },
     "metadata": {},
     "output_type": "display_data"
    },
    {
     "data": {
      "text/plain": [
       "'the file data_SH_DYN_MORT_df.csv has been created'"
      ]
     },
     "metadata": {},
     "output_type": "display_data"
    },
    {
     "data": {
      "text/plain": [
       "'the file data_SP_RUR_TOTL_ZG_df.csv has been created'"
      ]
     },
     "metadata": {},
     "output_type": "display_data"
    },
    {
     "data": {
      "text/plain": [
       "'the file data_BX_GRT_TECH_CD_WD_df.csv has been created'"
      ]
     },
     "metadata": {},
     "output_type": "display_data"
    },
    {
     "data": {
      "text/plain": [
       "'the file data_DT_ODA_ODAT_CD_df.csv has been created'"
      ]
     },
     "metadata": {},
     "output_type": "display_data"
    },
    {
     "data": {
      "text/plain": [
       "'the file data_NV_AGR_TOTL_KD_ZG_df.csv has been created'"
      ]
     },
     "metadata": {},
     "output_type": "display_data"
    },
    {
     "data": {
      "text/plain": [
       "'the file data_DT_ODA_OATL_KD_df.csv has been created'"
      ]
     },
     "metadata": {},
     "output_type": "display_data"
    },
    {
     "data": {
      "text/plain": [
       "'the file data_DC_DAC_TOTL_CD_df.csv has been created'"
      ]
     },
     "metadata": {},
     "output_type": "display_data"
    },
    {
     "data": {
      "text/plain": [
       "'the file data_SP_POP_3034_MA_5Y_df.csv has been created'"
      ]
     },
     "metadata": {},
     "output_type": "display_data"
    },
    {
     "data": {
      "text/plain": [
       "'the file data_SL_EMP_VULN_ZS_df.csv has been created'"
      ]
     },
     "metadata": {},
     "output_type": "display_data"
    },
    {
     "data": {
      "text/plain": [
       "'the file data_SM_POP_NETM_df.csv has been created'"
      ]
     },
     "metadata": {},
     "output_type": "display_data"
    },
    {
     "data": {
      "text/plain": [
       "'the file data_EG_ELC_ACCS_ZS_df.csv has been created'"
      ]
     },
     "metadata": {},
     "output_type": "display_data"
    },
    {
     "data": {
      "text/plain": [
       "'the file data_NV_MNF_TXTL_ZS_UN_df.csv has been created'"
      ]
     },
     "metadata": {},
     "output_type": "display_data"
    },
    {
     "data": {
      "text/plain": [
       "'the file data_NE_GDI_STKB_CN_df.csv has been created'"
      ]
     },
     "metadata": {},
     "output_type": "display_data"
    },
    {
     "data": {
      "text/plain": [
       "'the file data_SH_STA_STNT_ZS_df.csv has been created'"
      ]
     },
     "metadata": {},
     "output_type": "display_data"
    },
    {
     "data": {
      "text/plain": [
       "'the file data_EN_ATM_CO2E_PP_GD_df.csv has been created'"
      ]
     },
     "metadata": {},
     "output_type": "display_data"
    },
    {
     "data": {
      "text/plain": [
       "'the file data_EN_ATM_CO2E_PP_GD_KD_df.csv has been created'"
      ]
     },
     "metadata": {},
     "output_type": "display_data"
    },
    {
     "data": {
      "text/plain": [
       "'the file data_EN_ATM_CO2E_LF_ZS_df.csv has been created'"
      ]
     },
     "metadata": {},
     "output_type": "display_data"
    },
    {
     "data": {
      "text/plain": [
       "'the file data_EN_ATM_CO2E_LF_KT_df.csv has been created'"
      ]
     },
     "metadata": {},
     "output_type": "display_data"
    },
    {
     "data": {
      "text/plain": [
       "'the file data_IC_BUS_EASE_XQ_df.csv has been created'"
      ]
     },
     "metadata": {},
     "output_type": "display_data"
    },
    {
     "data": {
      "text/plain": [
       "'the file data_EN_ATM_CO2E_KD_GD_df.csv has been created'"
      ]
     },
     "metadata": {},
     "output_type": "display_data"
    },
    {
     "data": {
      "text/plain": [
       "'the file data_EG_ELC_NUCL_ZS_df.csv has been created'"
      ]
     },
     "metadata": {},
     "output_type": "display_data"
    },
    {
     "data": {
      "text/plain": [
       "'the file data_AG_LND_EL5M_ZS_df.csv has been created'"
      ]
     },
     "metadata": {},
     "output_type": "display_data"
    },
    {
     "data": {
      "text/plain": [
       "'the file data_EN_ATM_HFCG_KT_CE_df.csv has been created'"
      ]
     },
     "metadata": {},
     "output_type": "display_data"
    },
    {
     "data": {
      "text/plain": [
       "'the file data_EN_URB_MCTY_TL_ZS_df.csv has been created'"
      ]
     },
     "metadata": {},
     "output_type": "display_data"
    },
    {
     "data": {
      "text/plain": [
       "'the file data_SP_POP_TOTL_df.csv has been created'"
      ]
     },
     "metadata": {},
     "output_type": "display_data"
    },
    {
     "data": {
      "text/plain": [
       "'the file data_ER_LND_PTLD_ZS_df.csv has been created'"
      ]
     },
     "metadata": {},
     "output_type": "display_data"
    },
    {
     "data": {
      "text/plain": [
       "'the file data_NY_ADJ_NNTY_PC_KD_ZG_df.csv has been created'"
      ]
     },
     "metadata": {},
     "output_type": "display_data"
    },
    {
     "data": {
      "text/plain": [
       "'the file data_NY_ADJ_DKAP_CD_df.csv has been created'"
      ]
     },
     "metadata": {},
     "output_type": "display_data"
    },
    {
     "data": {
      "text/plain": [
       "'the file data_NY_ADJ_DKAP_GN_ZS_df.csv has been created'"
      ]
     },
     "metadata": {},
     "output_type": "display_data"
    },
    {
     "data": {
      "text/plain": [
       "'the file data_NY_ADJ_DFOR_GN_ZS_df.csv has been created'"
      ]
     },
     "metadata": {},
     "output_type": "display_data"
    },
    {
     "data": {
      "text/plain": [
       "'the file data_NY_ADJ_NNAT_CD_df.csv has been created'"
      ]
     },
     "metadata": {},
     "output_type": "display_data"
    },
    {
     "data": {
      "text/plain": [
       "'the file data_SE_PRM_OENR_ZS_df.csv has been created'"
      ]
     },
     "metadata": {},
     "output_type": "display_data"
    },
    {
     "data": {
      "text/plain": [
       "'the file data_NV_AGR_TOTL_KD_df.csv has been created'"
      ]
     },
     "metadata": {},
     "output_type": "display_data"
    },
    {
     "data": {
      "text/plain": [
       "'the file data_NV_AGR_TOTL_KN_df.csv has been created'"
      ]
     },
     "metadata": {},
     "output_type": "display_data"
    },
    {
     "data": {
      "text/plain": [
       "'the file data_SE_SEC_CMPT_LO_MA_ZS_df.csv has been created'"
      ]
     },
     "metadata": {},
     "output_type": "display_data"
    },
    {
     "data": {
      "text/plain": [
       "'the file data_NV_AGR_TOTL_CN_df.csv has been created'"
      ]
     },
     "metadata": {},
     "output_type": "display_data"
    },
    {
     "data": {
      "text/plain": [
       "'the file data_NV_AGR_EMPL_KD_df.csv has been created'"
      ]
     },
     "metadata": {},
     "output_type": "display_data"
    },
    {
     "data": {
      "text/plain": [
       "'the file data_NY_GDP_DEFL_KD_ZG_df.csv has been created'"
      ]
     },
     "metadata": {},
     "output_type": "display_data"
    },
    {
     "data": {
      "text/plain": [
       "'the file data_SP_POP_4044_FE_5Y_df.csv has been created'"
      ]
     },
     "metadata": {},
     "output_type": "display_data"
    },
    {
     "data": {
      "text/plain": [
       "'the file data_NE_GDI_STKB_KN_df.csv has been created'"
      ]
     },
     "metadata": {},
     "output_type": "display_data"
    },
    {
     "data": {
      "text/plain": [
       "'the file data_BN_FIN_TOTL_CD_df.csv has been created'"
      ]
     },
     "metadata": {},
     "output_type": "display_data"
    },
    {
     "data": {
      "text/plain": [
       "'the file data_NE_GDI_STKB_CD_df.csv has been created'"
      ]
     },
     "metadata": {},
     "output_type": "display_data"
    },
    {
     "data": {
      "text/plain": [
       "'the file data_BN_CAB_XOKA_CD_df.csv has been created'"
      ]
     },
     "metadata": {},
     "output_type": "display_data"
    },
    {
     "data": {
      "text/plain": [
       "'the file data_NY_TTF_GNFS_KN_df.csv has been created'"
      ]
     },
     "metadata": {},
     "output_type": "display_data"
    },
    {
     "data": {
      "text/plain": [
       "'the file data_GC_DOD_TOTL_GD_ZS_df.csv has been created'"
      ]
     },
     "metadata": {},
     "output_type": "display_data"
    },
    {
     "data": {
      "text/plain": [
       "'the file data_BM_GSR_ROYL_CD_df.csv has been created'"
      ]
     },
     "metadata": {},
     "output_type": "display_data"
    },
    {
     "data": {
      "text/plain": [
       "'the file data_NY_TRF_NCTR_CN_df.csv has been created'"
      ]
     },
     "metadata": {},
     "output_type": "display_data"
    },
    {
     "data": {
      "text/plain": [
       "'the file data_DT_TDS_DECT_GN_ZS_df.csv has been created'"
      ]
     },
     "metadata": {},
     "output_type": "display_data"
    },
    {
     "data": {
      "text/plain": [
       "'the file data_SL_UEM_TOTL_MA_ZS_df.csv has been created'"
      ]
     },
     "metadata": {},
     "output_type": "display_data"
    },
    {
     "data": {
      "text/plain": [
       "'the file data_BX_GSR_ROYL_CD_df.csv has been created'"
      ]
     },
     "metadata": {},
     "output_type": "display_data"
    },
    {
     "data": {
      "text/plain": [
       "'the file data_NV_MNF_CHEM_ZS_UN_df.csv has been created'"
      ]
     },
     "metadata": {},
     "output_type": "display_data"
    },
    {
     "data": {
      "text/plain": [
       "'the file data_TX_VAL_FUEL_ZS_UN_df.csv has been created'"
      ]
     },
     "metadata": {},
     "output_type": "display_data"
    },
    {
     "data": {
      "text/plain": [
       "'the file data_BX_GSR_CMCP_ZS_df.csv has been created'"
      ]
     },
     "metadata": {},
     "output_type": "display_data"
    },
    {
     "data": {
      "text/plain": [
       "'the file data_BM_GSR_CMCP_ZS_df.csv has been created'"
      ]
     },
     "metadata": {},
     "output_type": "display_data"
    },
    {
     "data": {
      "text/plain": [
       "'the file data_BN_CAB_XOKA_GD_ZS_df.csv has been created'"
      ]
     },
     "metadata": {},
     "output_type": "display_data"
    },
    {
     "data": {
      "text/plain": [
       "'the file data_PA_NUS_ATLS_df.csv has been created'"
      ]
     },
     "metadata": {},
     "output_type": "display_data"
    },
    {
     "data": {
      "text/plain": [
       "'the file data_NY_GDP_DISC_KN_df.csv has been created'"
      ]
     },
     "metadata": {},
     "output_type": "display_data"
    },
    {
     "data": {
      "text/plain": [
       "'the file data_NY_GDP_DISC_CN_df.csv has been created'"
      ]
     },
     "metadata": {},
     "output_type": "display_data"
    },
    {
     "data": {
      "text/plain": [
       "'the file data_GC_XPN_TOTL_GD_ZS_df.csv has been created'"
      ]
     },
     "metadata": {},
     "output_type": "display_data"
    },
    {
     "data": {
      "text/plain": [
       "'the file data_NY_TRF_NCTR_CD_df.csv has been created'"
      ]
     },
     "metadata": {},
     "output_type": "display_data"
    },
    {
     "data": {
      "text/plain": [
       "'the file data_NY_EXP_CAPM_KN_df.csv has been created'"
      ]
     },
     "metadata": {},
     "output_type": "display_data"
    },
    {
     "data": {
      "text/plain": [
       "'the file data_NE_EXP_GNFS_ZS_df.csv has been created'"
      ]
     },
     "metadata": {},
     "output_type": "display_data"
    },
    {
     "data": {
      "text/plain": [
       "'the file data_SE_SEC_UNER_LO_FE_ZS_df.csv has been created'"
      ]
     },
     "metadata": {},
     "output_type": "display_data"
    },
    {
     "data": {
      "text/plain": [
       "'the file data_BN_GSR_GNFS_CD_df.csv has been created'"
      ]
     },
     "metadata": {},
     "output_type": "display_data"
    },
    {
     "data": {
      "text/plain": [
       "'the file data_DT_TDS_DECT_EX_ZS_df.csv has been created'"
      ]
     },
     "metadata": {},
     "output_type": "display_data"
    },
    {
     "data": {
      "text/plain": [
       "'the file data_BX_GSR_GNFS_CD_df.csv has been created'"
      ]
     },
     "metadata": {},
     "output_type": "display_data"
    },
    {
     "data": {
      "text/plain": [
       "'the file data_NE_EXP_GNFS_KD_ZG_df.csv has been created'"
      ]
     },
     "metadata": {},
     "output_type": "display_data"
    },
    {
     "data": {
      "text/plain": [
       "'the file data_SE_PRM_UNER_df.csv has been created'"
      ]
     },
     "metadata": {},
     "output_type": "display_data"
    },
    {
     "data": {
      "text/plain": [
       "'the file data_NE_EXP_GNFS_KD_df.csv has been created'"
      ]
     },
     "metadata": {},
     "output_type": "display_data"
    },
    {
     "data": {
      "text/plain": [
       "'the file data_NE_EXP_GNFS_KN_df.csv has been created'"
      ]
     },
     "metadata": {},
     "output_type": "display_data"
    },
    {
     "data": {
      "text/plain": [
       "'the file data_BX_GSR_TOTL_CD_df.csv has been created'"
      ]
     },
     "metadata": {},
     "output_type": "display_data"
    },
    {
     "data": {
      "text/plain": [
       "'the file data_NE_RSB_GNFS_KN_df.csv has been created'"
      ]
     },
     "metadata": {},
     "output_type": "display_data"
    },
    {
     "data": {
      "text/plain": [
       "'the file data_NE_RSB_GNFS_CN_df.csv has been created'"
      ]
     },
     "metadata": {},
     "output_type": "display_data"
    },
    {
     "data": {
      "text/plain": [
       "'the file data_NE_RSB_GNFS_CD_df.csv has been created'"
      ]
     },
     "metadata": {},
     "output_type": "display_data"
    },
    {
     "data": {
      "text/plain": [
       "'the file data_SE_PRM_UNER_MA_df.csv has been created'"
      ]
     },
     "metadata": {},
     "output_type": "display_data"
    },
    {
     "data": {
      "text/plain": [
       "'the file data_NE_EXP_GNFS_CN_df.csv has been created'"
      ]
     },
     "metadata": {},
     "output_type": "display_data"
    },
    {
     "data": {
      "text/plain": [
       "'the file data_NE_EXP_GNFS_CD_df.csv has been created'"
      ]
     },
     "metadata": {},
     "output_type": "display_data"
    },
    {
     "data": {
      "text/plain": [
       "'the file data_SP_POP_3539_FE_5Y_df.csv has been created'"
      ]
     },
     "metadata": {},
     "output_type": "display_data"
    },
    {
     "data": {
      "text/plain": [
       "'the file data_NE_RSB_GNFS_ZS_df.csv has been created'"
      ]
     },
     "metadata": {},
     "output_type": "display_data"
    },
    {
     "data": {
      "text/plain": [
       "'the file data_BX_TRF_PWKR_CD_DT_df.csv has been created'"
      ]
     },
     "metadata": {},
     "output_type": "display_data"
    },
    {
     "data": {
      "text/plain": [
       "'the file data_BX_PEF_TOTL_CD_WD_df.csv has been created'"
      ]
     },
     "metadata": {},
     "output_type": "display_data"
    },
    {
     "data": {
      "text/plain": [
       "'the file data_SE_TER_CUAT_BA_MA_ZS_df.csv has been created'"
      ]
     },
     "metadata": {},
     "output_type": "display_data"
    },
    {
     "data": {
      "text/plain": [
       "'the file data_SE_SEC_AGES_df.csv has been created'"
      ]
     },
     "metadata": {},
     "output_type": "display_data"
    },
    {
     "data": {
      "text/plain": [
       "'the file data_DT_DOD_DECT_GN_ZS_df.csv has been created'"
      ]
     },
     "metadata": {},
     "output_type": "display_data"
    },
    {
     "data": {
      "text/plain": [
       "'the file data_DT_DOD_DECT_CD_df.csv has been created'"
      ]
     },
     "metadata": {},
     "output_type": "display_data"
    },
    {
     "data": {
      "text/plain": [
       "'the file data_GC_REV_XGRT_GD_ZS_df.csv has been created'"
      ]
     },
     "metadata": {},
     "output_type": "display_data"
    },
    {
     "data": {
      "text/plain": [
       "'the file data_NE_CON_TOTL_ZS_df.csv has been created'"
      ]
     },
     "metadata": {},
     "output_type": "display_data"
    },
    {
     "data": {
      "text/plain": [
       "'the file data_NE_CON_TOTL_KD_ZG_df.csv has been created'"
      ]
     },
     "metadata": {},
     "output_type": "display_data"
    },
    {
     "data": {
      "text/plain": [
       "'the file data_DT_DOD_PVLX_GN_ZS_df.csv has been created'"
      ]
     },
     "metadata": {},
     "output_type": "display_data"
    },
    {
     "data": {
      "text/plain": [
       "'the file data_SE_SEC_CUAT_LO_ZS_df.csv has been created'"
      ]
     },
     "metadata": {},
     "output_type": "display_data"
    },
    {
     "data": {
      "text/plain": [
       "'the file data_BX_TRF_CURR_CD_df.csv has been created'"
      ]
     },
     "metadata": {},
     "output_type": "display_data"
    },
    {
     "data": {
      "text/plain": [
       "'the file data_NE_CON_TOTL_KD_df.csv has been created'"
      ]
     },
     "metadata": {},
     "output_type": "display_data"
    },
    {
     "data": {
      "text/plain": [
       "'the file data_NE_CON_TOTL_KN_df.csv has been created'"
      ]
     },
     "metadata": {},
     "output_type": "display_data"
    },
    {
     "data": {
      "text/plain": [
       "'the file data_DT_DOD_PVLX_EX_ZS_df.csv has been created'"
      ]
     },
     "metadata": {},
     "output_type": "display_data"
    },
    {
     "data": {
      "text/plain": [
       "'the file data_SE_PRM_NINT_ZS_df.csv has been created'"
      ]
     },
     "metadata": {},
     "output_type": "display_data"
    },
    {
     "data": {
      "text/plain": [
       "'the file data_NE_CON_TOTL_CN_df.csv has been created'"
      ]
     },
     "metadata": {},
     "output_type": "display_data"
    },
    {
     "data": {
      "text/plain": [
       "'the file data_NE_CON_TOTL_CD_df.csv has been created'"
      ]
     },
     "metadata": {},
     "output_type": "display_data"
    },
    {
     "data": {
      "text/plain": [
       "'the file data_DT_DOD_PVLX_CD_df.csv has been created'"
      ]
     },
     "metadata": {},
     "output_type": "display_data"
    },
    {
     "data": {
      "text/plain": [
       "'the file data_NV_FSM_TOTL_KN_df.csv has been created'"
      ]
     },
     "metadata": {},
     "output_type": "display_data"
    },
    {
     "data": {
      "text/plain": [
       "'the file data_NY_GDP_MKTP_CN_df.csv has been created'"
      ]
     },
     "metadata": {},
     "output_type": "display_data"
    },
    {
     "data": {
      "text/plain": [
       "'the file data_NE_GDI_FPRV_ZS_df.csv has been created'"
      ]
     },
     "metadata": {},
     "output_type": "display_data"
    },
    {
     "data": {
      "text/plain": [
       "'the file data_PA_NUS_PPPC_RF_df.csv has been created'"
      ]
     },
     "metadata": {},
     "output_type": "display_data"
    },
    {
     "data": {
      "text/plain": [
       "'the file data_BM_GSR_FCTY_CD_df.csv has been created'"
      ]
     },
     "metadata": {},
     "output_type": "display_data"
    },
    {
     "data": {
      "text/plain": [
       "'the file data_NV_FSM_TOTL_CN_df.csv has been created'"
      ]
     },
     "metadata": {},
     "output_type": "display_data"
    },
    {
     "data": {
      "text/plain": [
       "'the file data_NV_MNF_FBTO_ZS_UN_df.csv has been created'"
      ]
     },
     "metadata": {},
     "output_type": "display_data"
    },
    {
     "data": {
      "text/plain": [
       "'the file data_BX_GSR_FCTY_CD_df.csv has been created'"
      ]
     },
     "metadata": {},
     "output_type": "display_data"
    },
    {
     "data": {
      "text/plain": [
       "'the file data_BN_KLT_DINV_CD_df.csv has been created'"
      ]
     },
     "metadata": {},
     "output_type": "display_data"
    },
    {
     "data": {
      "text/plain": [
       "'the file data_NY_GDS_TOTL_CN_df.csv has been created'"
      ]
     },
     "metadata": {},
     "output_type": "display_data"
    },
    {
     "data": {
      "text/plain": [
       "'the file data_NE_DAB_TOTL_KD_df.csv has been created'"
      ]
     },
     "metadata": {},
     "output_type": "display_data"
    },
    {
     "data": {
      "text/plain": [
       "'the file data_NY_GNS_ICTR_GN_ZS_df.csv has been created'"
      ]
     },
     "metadata": {},
     "output_type": "display_data"
    },
    {
     "data": {
      "text/plain": [
       "'the file data_BN_RES_INCL_CD_df.csv has been created'"
      ]
     },
     "metadata": {},
     "output_type": "display_data"
    },
    {
     "data": {
      "text/plain": [
       "'the file data_BX_GSR_NFSV_CD_df.csv has been created'"
      ]
     },
     "metadata": {},
     "output_type": "display_data"
    },
    {
     "data": {
      "text/plain": [
       "'the file data_BX_KLT_DINV_CD_WD_df.csv has been created'"
      ]
     },
     "metadata": {},
     "output_type": "display_data"
    },
    {
     "data": {
      "text/plain": [
       "'the file data_NY_GNP_MKTP_CN_df.csv has been created'"
      ]
     },
     "metadata": {},
     "output_type": "display_data"
    },
    {
     "data": {
      "text/plain": [
       "'the file data_BM_GSR_NFSV_CD_df.csv has been created'"
      ]
     },
     "metadata": {},
     "output_type": "display_data"
    },
    {
     "data": {
      "text/plain": [
       "'the file data_NV_SRV_TOTL_KD_df.csv has been created'"
      ]
     },
     "metadata": {},
     "output_type": "display_data"
    },
    {
     "data": {
      "text/plain": [
       "'the file data_PX_REX_REER_df.csv has been created'"
      ]
     },
     "metadata": {},
     "output_type": "display_data"
    },
    {
     "data": {
      "text/plain": [
       "'the file data_BM_KLT_DINV_WD_GD_ZS_df.csv has been created'"
      ]
     },
     "metadata": {},
     "output_type": "display_data"
    },
    {
     "data": {
      "text/plain": [
       "'the file data_NY_GNP_MKTP_CD_df.csv has been created'"
      ]
     },
     "metadata": {},
     "output_type": "display_data"
    },
    {
     "data": {
      "text/plain": [
       "'the file data_NV_SRV_TOTL_KD_ZG_df.csv has been created'"
      ]
     },
     "metadata": {},
     "output_type": "display_data"
    },
    {
     "data": {
      "text/plain": [
       "'the file data_SE_PRM_NINT_FE_ZS_df.csv has been created'"
      ]
     },
     "metadata": {},
     "output_type": "display_data"
    },
    {
     "data": {
      "text/plain": [
       "'the file data_BM_KLT_DINV_CD_WD_df.csv has been created'"
      ]
     },
     "metadata": {},
     "output_type": "display_data"
    },
    {
     "data": {
      "text/plain": [
       "'the file data_NE_IMP_GNFS_KN_df.csv has been created'"
      ]
     },
     "metadata": {},
     "output_type": "display_data"
    },
    {
     "data": {
      "text/plain": [
       "'the file data_NV_SRV_TOTL_KN_df.csv has been created'"
      ]
     },
     "metadata": {},
     "output_type": "display_data"
    },
    {
     "data": {
      "text/plain": [
       "'the file data_NY_GDP_MKTP_KD_df.csv has been created'"
      ]
     },
     "metadata": {},
     "output_type": "display_data"
    },
    {
     "data": {
      "text/plain": [
       "'the file data_NE_IMP_GNFS_CN_df.csv has been created'"
      ]
     },
     "metadata": {},
     "output_type": "display_data"
    },
    {
     "data": {
      "text/plain": [
       "'the file data_SE_PRM_UNER_ZS_df.csv has been created'"
      ]
     },
     "metadata": {},
     "output_type": "display_data"
    },
    {
     "data": {
      "text/plain": [
       "'the file data_SE_PRM_NINT_MA_ZS_df.csv has been created'"
      ]
     },
     "metadata": {},
     "output_type": "display_data"
    },
    {
     "data": {
      "text/plain": [
       "'the file data_NY_GDP_MKTP_KN_df.csv has been created'"
      ]
     },
     "metadata": {},
     "output_type": "display_data"
    },
    {
     "data": {
      "text/plain": [
       "'the file data_NV_IND_EMPL_KD_df.csv has been created'"
      ]
     },
     "metadata": {},
     "output_type": "display_data"
    },
    {
     "data": {
      "text/plain": [
       "'the file data_SE_PRM_UNER_MA_ZS_df.csv has been created'"
      ]
     },
     "metadata": {},
     "output_type": "display_data"
    },
    {
     "data": {
      "text/plain": [
       "'the file data_SE_PRM_UNER_FE_df.csv has been created'"
      ]
     },
     "metadata": {},
     "output_type": "display_data"
    },
    {
     "data": {
      "text/plain": [
       "'the file data_SE_PRM_OENR_FE_ZS_df.csv has been created'"
      ]
     },
     "metadata": {},
     "output_type": "display_data"
    },
    {
     "data": {
      "text/plain": [
       "'the file data_FP_CPI_TOTL_ZG_df.csv has been created'"
      ]
     },
     "metadata": {},
     "output_type": "display_data"
    },
    {
     "data": {
      "text/plain": [
       "'the file data_NY_GDP_PCAP_PP_CD_df.csv has been created'"
      ]
     },
     "metadata": {},
     "output_type": "display_data"
    },
    {
     "data": {
      "text/plain": [
       "'the file data_NE_IMP_GNFS_CD_df.csv has been created'"
      ]
     },
     "metadata": {},
     "output_type": "display_data"
    },
    {
     "data": {
      "text/plain": [
       "'the file data_SE_COM_DURS_df.csv has been created'"
      ]
     },
     "metadata": {},
     "output_type": "display_data"
    },
    {
     "data": {
      "text/plain": [
       "'the file data_NY_GDP_MKTP_PP_KD_df.csv has been created'"
      ]
     },
     "metadata": {},
     "output_type": "display_data"
    },
    {
     "data": {
      "text/plain": [
       "'the file data_BM_GSR_TOTL_CD_df.csv has been created'"
      ]
     },
     "metadata": {},
     "output_type": "display_data"
    },
    {
     "data": {
      "text/plain": [
       "'the file data_SE_XPD_CPRM_ZS_df.csv has been created'"
      ]
     },
     "metadata": {},
     "output_type": "display_data"
    },
    {
     "data": {
      "text/plain": [
       "'the file data_NY_GDP_MKTP_PP_CD_df.csv has been created'"
      ]
     },
     "metadata": {},
     "output_type": "display_data"
    },
    {
     "data": {
      "text/plain": [
       "'the file data_BX_GSR_INSF_ZS_df.csv has been created'"
      ]
     },
     "metadata": {},
     "output_type": "display_data"
    },
    {
     "data": {
      "text/plain": [
       "'the file data_BM_GSR_INSF_ZS_df.csv has been created'"
      ]
     },
     "metadata": {},
     "output_type": "display_data"
    },
    {
     "data": {
      "text/plain": [
       "'the file data_NV_SRV_TOTL_ZS_df.csv has been created'"
      ]
     },
     "metadata": {},
     "output_type": "display_data"
    },
    {
     "data": {
      "text/plain": [
       "'the file data_SE_PRM_OENR_MA_ZS_df.csv has been created'"
      ]
     },
     "metadata": {},
     "output_type": "display_data"
    },
    {
     "data": {
      "text/plain": [
       "'the file data_NY_GDP_MKTP_CN_AD_df.csv has been created'"
      ]
     },
     "metadata": {},
     "output_type": "display_data"
    },
    {
     "data": {
      "text/plain": [
       "'the file data_NV_MNF_MTRN_ZS_UN_df.csv has been created'"
      ]
     },
     "metadata": {},
     "output_type": "display_data"
    },
    {
     "data": {
      "text/plain": [
       "'the file data_SE_SEC_CUAT_PO_FE_ZS_df.csv has been created'"
      ]
     },
     "metadata": {},
     "output_type": "display_data"
    },
    {
     "data": {
      "text/plain": [
       "'the file data_SE_TER_CUAT_ST_MA_ZS_df.csv has been created'"
      ]
     },
     "metadata": {},
     "output_type": "display_data"
    },
    {
     "data": {
      "text/plain": [
       "'the file data_SE_PRM_PRS5_FE_ZS_df.csv has been created'"
      ]
     },
     "metadata": {},
     "output_type": "display_data"
    },
    {
     "data": {
      "text/plain": [
       "'the file data_NY_GNP_MKTP_KD_df.csv has been created'"
      ]
     },
     "metadata": {},
     "output_type": "display_data"
    },
    {
     "data": {
      "text/plain": [
       "'the file data_NV_MNF_OTHR_ZS_UN_df.csv has been created'"
      ]
     },
     "metadata": {},
     "output_type": "display_data"
    },
    {
     "data": {
      "text/plain": [
       "'the file data_SE_PRM_PRS5_ZS_df.csv has been created'"
      ]
     },
     "metadata": {},
     "output_type": "display_data"
    },
    {
     "data": {
      "text/plain": [
       "'the file data_NY_GNP_MKTP_KN_df.csv has been created'"
      ]
     },
     "metadata": {},
     "output_type": "display_data"
    },
    {
     "data": {
      "text/plain": [
       "'the file data_NY_GNP_MKTP_KD_ZG_df.csv has been created'"
      ]
     },
     "metadata": {},
     "output_type": "display_data"
    },
    {
     "data": {
      "text/plain": [
       "'the file data_SE_TER_CUAT_ST_ZS_df.csv has been created'"
      ]
     },
     "metadata": {},
     "output_type": "display_data"
    },
    {
     "data": {
      "text/plain": [
       "'the file data_SE_PRM_PRSL_MA_ZS_df.csv has been created'"
      ]
     },
     "metadata": {},
     "output_type": "display_data"
    },
    {
     "data": {
      "text/plain": [
       "'the file data_NY_GNP_PCAP_KD_df.csv has been created'"
      ]
     },
     "metadata": {},
     "output_type": "display_data"
    },
    {
     "data": {
      "text/plain": [
       "'the file data_NY_GNP_PCAP_KN_df.csv has been created'"
      ]
     },
     "metadata": {},
     "output_type": "display_data"
    },
    {
     "data": {
      "text/plain": [
       "'the file data_NY_GNP_PCAP_CN_df.csv has been created'"
      ]
     },
     "metadata": {},
     "output_type": "display_data"
    },
    {
     "data": {
      "text/plain": [
       "'the file data_PA_NUS_PRVT_PP_df.csv has been created'"
      ]
     },
     "metadata": {},
     "output_type": "display_data"
    },
    {
     "data": {
      "text/plain": [
       "'the file data_SE_XPD_TOTL_GB_ZS_df.csv has been created'"
      ]
     },
     "metadata": {},
     "output_type": "display_data"
    },
    {
     "data": {
      "text/plain": [
       "'the file data_SH_HIV_INCD_ZS_df.csv has been created'"
      ]
     },
     "metadata": {},
     "output_type": "display_data"
    },
    {
     "data": {
      "text/plain": [
       "'the file data_NY_GNP_PCAP_KD_ZG_df.csv has been created'"
      ]
     },
     "metadata": {},
     "output_type": "display_data"
    },
    {
     "data": {
      "text/plain": [
       "'the file data_NV_IND_TOTL_ZS_df.csv has been created'"
      ]
     },
     "metadata": {},
     "output_type": "display_data"
    },
    {
     "data": {
      "text/plain": [
       "'the file data_NV_SRV_TOTL_CN_df.csv has been created'"
      ]
     },
     "metadata": {},
     "output_type": "display_data"
    },
    {
     "data": {
      "text/plain": [
       "'the file data_SE_PRM_PRSL_ZS_df.csv has been created'"
      ]
     },
     "metadata": {},
     "output_type": "display_data"
    },
    {
     "data": {
      "text/plain": [
       "'the file data_NV_IND_MANF_ZS_df.csv has been created'"
      ]
     },
     "metadata": {},
     "output_type": "display_data"
    },
    {
     "data": {
      "text/plain": [
       "'the file data_NV_SRV_TOTL_CD_df.csv has been created'"
      ]
     },
     "metadata": {},
     "output_type": "display_data"
    },
    {
     "data": {
      "text/plain": [
       "'the file data_NY_GNP_MKTP_CN_AD_df.csv has been created'"
      ]
     },
     "metadata": {},
     "output_type": "display_data"
    },
    {
     "data": {
      "text/plain": [
       "'the file data_SP_POP_0014_TO_ZS_df.csv has been created'"
      ]
     },
     "metadata": {},
     "output_type": "display_data"
    },
    {
     "data": {
      "text/plain": [
       "'the file data_NE_GDI_TOTL_KD_ZG_df.csv has been created'"
      ]
     },
     "metadata": {},
     "output_type": "display_data"
    },
    {
     "data": {
      "text/plain": [
       "'the file data_NE_GDI_FPRV_CN_df.csv has been created'"
      ]
     },
     "metadata": {},
     "output_type": "display_data"
    },
    {
     "data": {
      "text/plain": [
       "'the file data_SL_TLF_TOTL_FE_ZS_df.csv has been created'"
      ]
     },
     "metadata": {},
     "output_type": "display_data"
    },
    {
     "data": {
      "text/plain": [
       "'the file data_NE_GDI_TOTL_KD_df.csv has been created'"
      ]
     },
     "metadata": {},
     "output_type": "display_data"
    },
    {
     "data": {
      "text/plain": [
       "'the file data_NE_DAB_TOTL_KN_df.csv has been created'"
      ]
     },
     "metadata": {},
     "output_type": "display_data"
    },
    {
     "data": {
      "text/plain": [
       "'the file data_SP_POP_1564_TO_ZS_df.csv has been created'"
      ]
     },
     "metadata": {},
     "output_type": "display_data"
    },
    {
     "data": {
      "text/plain": [
       "'the file data_NE_GDI_TOTL_KN_df.csv has been created'"
      ]
     },
     "metadata": {},
     "output_type": "display_data"
    },
    {
     "data": {
      "text/plain": [
       "'the file data_NE_DAB_DEFL_ZS_df.csv has been created'"
      ]
     },
     "metadata": {},
     "output_type": "display_data"
    },
    {
     "data": {
      "text/plain": [
       "'the file data_SE_ADT_LITR_FE_ZS_df.csv has been created'"
      ]
     },
     "metadata": {},
     "output_type": "display_data"
    },
    {
     "data": {
      "text/plain": [
       "'the file data_SE_ADT_1524_LT_MA_ZS_df.csv has been created'"
      ]
     },
     "metadata": {},
     "output_type": "display_data"
    },
    {
     "data": {
      "text/plain": [
       "'the file data_NE_GDI_TOTL_CN_df.csv has been created'"
      ]
     },
     "metadata": {},
     "output_type": "display_data"
    },
    {
     "data": {
      "text/plain": [
       "'the file data_SE_ADT_1524_LT_ZS_df.csv has been created'"
      ]
     },
     "metadata": {},
     "output_type": "display_data"
    },
    {
     "data": {
      "text/plain": [
       "'the file data_SE_PRE_DURS_df.csv has been created'"
      ]
     },
     "metadata": {},
     "output_type": "display_data"
    },
    {
     "data": {
      "text/plain": [
       "'the file data_SE_XPD_CSEC_ZS_df.csv has been created'"
      ]
     },
     "metadata": {},
     "output_type": "display_data"
    },
    {
     "data": {
      "text/plain": [
       "'the file data_SP_POP_65UP_TO_ZS_df.csv has been created'"
      ]
     },
     "metadata": {},
     "output_type": "display_data"
    },
    {
     "data": {
      "text/plain": [
       "'the file data_NE_GDI_TOTL_CD_df.csv has been created'"
      ]
     },
     "metadata": {},
     "output_type": "display_data"
    },
    {
     "data": {
      "text/plain": [
       "'the file data_SP_POP_7579_MA_5Y_df.csv has been created'"
      ]
     },
     "metadata": {},
     "output_type": "display_data"
    },
    {
     "data": {
      "text/plain": [
       "'the file data_NE_GDI_FTOT_ZS_df.csv has been created'"
      ]
     },
     "metadata": {},
     "output_type": "display_data"
    },
    {
     "data": {
      "text/plain": [
       "'the file data_SE_SEC_CMPT_LO_FE_ZS_df.csv has been created'"
      ]
     },
     "metadata": {},
     "output_type": "display_data"
    },
    {
     "data": {
      "text/plain": [
       "'the file data_NE_GDI_FTOT_KD_ZG_df.csv has been created'"
      ]
     },
     "metadata": {},
     "output_type": "display_data"
    },
    {
     "data": {
      "text/plain": [
       "'the file data_BM_TRF_PWKR_CD_DT_df.csv has been created'"
      ]
     },
     "metadata": {},
     "output_type": "display_data"
    },
    {
     "data": {
      "text/plain": [
       "'the file data_SE_PRM_CMPT_FE_ZS_df.csv has been created'"
      ]
     },
     "metadata": {},
     "output_type": "display_data"
    },
    {
     "data": {
      "text/plain": [
       "'the file data_NE_GDI_FTOT_KD_df.csv has been created'"
      ]
     },
     "metadata": {},
     "output_type": "display_data"
    },
    {
     "data": {
      "text/plain": [
       "'the file data_NE_GDI_FTOT_KN_df.csv has been created'"
      ]
     },
     "metadata": {},
     "output_type": "display_data"
    },
    {
     "data": {
      "text/plain": [
       "'the file data_NE_GDI_FTOT_CN_df.csv has been created'"
      ]
     },
     "metadata": {},
     "output_type": "display_data"
    },
    {
     "data": {
      "text/plain": [
       "'the file data_NV_IND_TOTL_KD_ZG_df.csv has been created'"
      ]
     },
     "metadata": {},
     "output_type": "display_data"
    },
    {
     "data": {
      "text/plain": [
       "'the file data_SE_XPD_CTER_ZS_df.csv has been created'"
      ]
     },
     "metadata": {},
     "output_type": "display_data"
    },
    {
     "data": {
      "text/plain": [
       "'the file data_NE_DAB_TOTL_ZS_df.csv has been created'"
      ]
     },
     "metadata": {},
     "output_type": "display_data"
    },
    {
     "data": {
      "text/plain": [
       "'the file data_NE_GDI_FTOT_CD_df.csv has been created'"
      ]
     },
     "metadata": {},
     "output_type": "display_data"
    },
    {
     "data": {
      "text/plain": [
       "'the file data_BX_TRF_PWKR_DT_GD_ZS_df.csv has been created'"
      ]
     },
     "metadata": {},
     "output_type": "display_data"
    },
    {
     "data": {
      "text/plain": [
       "'the file data_NV_IND_MANF_KD_ZG_df.csv has been created'"
      ]
     },
     "metadata": {},
     "output_type": "display_data"
    },
    {
     "data": {
      "text/plain": [
       "'the file data_SH_HIV_INCD_YG_df.csv has been created'"
      ]
     },
     "metadata": {},
     "output_type": "display_data"
    },
    {
     "data": {
      "text/plain": [
       "'the file data_NE_DAB_TOTL_CN_df.csv has been created'"
      ]
     },
     "metadata": {},
     "output_type": "display_data"
    },
    {
     "data": {
      "text/plain": [
       "'the file data_NV_SRV_EMPL_KD_df.csv has been created'"
      ]
     },
     "metadata": {},
     "output_type": "display_data"
    },
    {
     "data": {
      "text/plain": [
       "'the file data_DT_DOD_DSTC_XP_ZS_df.csv has been created'"
      ]
     },
     "metadata": {},
     "output_type": "display_data"
    },
    {
     "data": {
      "text/plain": [
       "'the file data_SE_XPD_CTOT_ZS_df.csv has been created'"
      ]
     },
     "metadata": {},
     "output_type": "display_data"
    },
    {
     "data": {
      "text/plain": [
       "'the file data_IQ_WEF_PORT_XQ_df.csv has been created'"
      ]
     },
     "metadata": {},
     "output_type": "display_data"
    },
    {
     "data": {
      "text/plain": [
       "'the file data_NY_GNP_PCAP_CD_df.csv has been created'"
      ]
     },
     "metadata": {},
     "output_type": "display_data"
    },
    {
     "data": {
      "text/plain": [
       "'the file data_NY_TAX_NIND_KN_df.csv has been created'"
      ]
     },
     "metadata": {},
     "output_type": "display_data"
    },
    {
     "data": {
      "text/plain": [
       "'the file data_SE_TER_CUAT_DO_FE_ZS_df.csv has been created'"
      ]
     },
     "metadata": {},
     "output_type": "display_data"
    },
    {
     "data": {
      "text/plain": [
       "'the file data_SE_TER_CUAT_BA_ZS_df.csv has been created'"
      ]
     },
     "metadata": {},
     "output_type": "display_data"
    },
    {
     "data": {
      "text/plain": [
       "'the file data_SE_TER_CUAT_MS_FE_ZS_df.csv has been created'"
      ]
     },
     "metadata": {},
     "output_type": "display_data"
    },
    {
     "data": {
      "text/plain": [
       "'the file data_NY_GDP_MKTP_CD_df.csv has been created'"
      ]
     },
     "metadata": {},
     "output_type": "display_data"
    },
    {
     "data": {
      "text/plain": [
       "'the file data_NE_DAB_TOTL_CD_df.csv has been created'"
      ]
     },
     "metadata": {},
     "output_type": "display_data"
    },
    {
     "data": {
      "text/plain": [
       "'the file data_NY_GNS_ICTR_ZS_df.csv has been created'"
      ]
     },
     "metadata": {},
     "output_type": "display_data"
    },
    {
     "data": {
      "text/plain": [
       "'the file data_NY_GNS_ICTR_CN_df.csv has been created'"
      ]
     },
     "metadata": {},
     "output_type": "display_data"
    },
    {
     "data": {
      "text/plain": [
       "'the file data_NY_TAX_NIND_CN_df.csv has been created'"
      ]
     },
     "metadata": {},
     "output_type": "display_data"
    },
    {
     "data": {
      "text/plain": [
       "'the file data_SE_TER_CUAT_MS_MA_ZS_df.csv has been created'"
      ]
     },
     "metadata": {},
     "output_type": "display_data"
    },
    {
     "data": {
      "text/plain": [
       "'the file data_SE_TER_CUAT_MS_ZS_df.csv has been created'"
      ]
     },
     "metadata": {},
     "output_type": "display_data"
    },
    {
     "data": {
      "text/plain": [
       "'the file data_SE_SEC_CUAT_LO_FE_ZS_df.csv has been created'"
      ]
     },
     "metadata": {},
     "output_type": "display_data"
    },
    {
     "data": {
      "text/plain": [
       "'the file data_NY_GDP_FCST_KD_df.csv has been created'"
      ]
     },
     "metadata": {},
     "output_type": "display_data"
    },
    {
     "data": {
      "text/plain": [
       "'the file data_NY_GDP_DEFL_ZS_df.csv has been created'"
      ]
     },
     "metadata": {},
     "output_type": "display_data"
    },
    {
     "data": {
      "text/plain": [
       "'the file data_NY_GNP_PCAP_PP_KD_df.csv has been created'"
      ]
     },
     "metadata": {},
     "output_type": "display_data"
    },
    {
     "data": {
      "text/plain": [
       "'the file data_NY_GNP_PCAP_PP_CD_df.csv has been created'"
      ]
     },
     "metadata": {},
     "output_type": "display_data"
    },
    {
     "data": {
      "text/plain": [
       "'the file data_NY_TAX_NIND_CD_df.csv has been created'"
      ]
     },
     "metadata": {},
     "output_type": "display_data"
    },
    {
     "data": {
      "text/plain": [
       "'the file data_SE_SEC_CUAT_PO_MA_ZS_df.csv has been created'"
      ]
     },
     "metadata": {},
     "output_type": "display_data"
    },
    {
     "data": {
      "text/plain": [
       "'the file data_NY_GDP_FCST_KN_df.csv has been created'"
      ]
     },
     "metadata": {},
     "output_type": "display_data"
    },
    {
     "data": {
      "text/plain": [
       "'the file data_NY_GDP_FCST_CD_df.csv has been created'"
      ]
     },
     "metadata": {},
     "output_type": "display_data"
    },
    {
     "data": {
      "text/plain": [
       "'the file data_NV_IND_MANF_KD_df.csv has been created'"
      ]
     },
     "metadata": {},
     "output_type": "display_data"
    },
    {
     "data": {
      "text/plain": [
       "'the file data_SE_SEC_CUAT_PO_ZS_df.csv has been created'"
      ]
     },
     "metadata": {},
     "output_type": "display_data"
    },
    {
     "data": {
      "text/plain": [
       "'the file data_IQ_WEF_CUST_XQ_df.csv has been created'"
      ]
     },
     "metadata": {},
     "output_type": "display_data"
    },
    {
     "data": {
      "text/plain": [
       "'the file data_NY_GDP_MKTP_KD_ZG_df.csv has been created'"
      ]
     },
     "metadata": {},
     "output_type": "display_data"
    },
    {
     "data": {
      "text/plain": [
       "'the file data_NE_CON_PRVT_KD_ZG_df.csv has been created'"
      ]
     },
     "metadata": {},
     "output_type": "display_data"
    },
    {
     "data": {
      "text/plain": [
       "'the file data_NV_IND_MANF_KN_df.csv has been created'"
      ]
     },
     "metadata": {},
     "output_type": "display_data"
    },
    {
     "data": {
      "text/plain": [
       "'the file data_FI_RES_TOTL_CD_df.csv has been created'"
      ]
     },
     "metadata": {},
     "output_type": "display_data"
    },
    {
     "data": {
      "text/plain": [
       "'the file data_SE_TER_CUAT_ST_FE_ZS_df.csv has been created'"
      ]
     },
     "metadata": {},
     "output_type": "display_data"
    },
    {
     "data": {
      "text/plain": [
       "'the file data_SE_PRM_CMPT_MA_ZS_df.csv has been created'"
      ]
     },
     "metadata": {},
     "output_type": "display_data"
    },
    {
     "data": {
      "text/plain": [
       "'the file data_NY_GNP_ATLS_CD_df.csv has been created'"
      ]
     },
     "metadata": {},
     "output_type": "display_data"
    },
    {
     "data": {
      "text/plain": [
       "'the file data_NY_GNP_MKTP_PP_KD_df.csv has been created'"
      ]
     },
     "metadata": {},
     "output_type": "display_data"
    },
    {
     "data": {
      "text/plain": [
       "'the file data_NE_CON_PRVT_KD_df.csv has been created'"
      ]
     },
     "metadata": {},
     "output_type": "display_data"
    },
    {
     "data": {
      "text/plain": [
       "'the file data_NE_CON_PRVT_KN_df.csv has been created'"
      ]
     },
     "metadata": {},
     "output_type": "display_data"
    },
    {
     "data": {
      "text/plain": [
       "'the file data_SE_SEC_CUAT_UP_FE_ZS_df.csv has been created'"
      ]
     },
     "metadata": {},
     "output_type": "display_data"
    },
    {
     "data": {
      "text/plain": [
       "'the file data_NY_GNP_MKTP_PP_CD_df.csv has been created'"
      ]
     },
     "metadata": {},
     "output_type": "display_data"
    },
    {
     "data": {
      "text/plain": [
       "'the file data_NE_CON_PRVT_CN_df.csv has been created'"
      ]
     },
     "metadata": {},
     "output_type": "display_data"
    },
    {
     "data": {
      "text/plain": [
       "'the file data_SE_PRM_TCHR_FE_ZS_df.csv has been created'"
      ]
     },
     "metadata": {},
     "output_type": "display_data"
    },
    {
     "data": {
      "text/plain": [
       "'the file data_NY_GDP_PCAP_KD_df.csv has been created'"
      ]
     },
     "metadata": {},
     "output_type": "display_data"
    },
    {
     "data": {
      "text/plain": [
       "'the file data_NE_CON_GOVT_ZS_df.csv has been created'"
      ]
     },
     "metadata": {},
     "output_type": "display_data"
    },
    {
     "data": {
      "text/plain": [
       "'the file data_NV_IND_MANF_CN_df.csv has been created'"
      ]
     },
     "metadata": {},
     "output_type": "display_data"
    },
    {
     "data": {
      "text/plain": [
       "'the file data_FI_RES_XGLD_CD_df.csv has been created'"
      ]
     },
     "metadata": {},
     "output_type": "display_data"
    },
    {
     "data": {
      "text/plain": [
       "'the file data_BG_GSR_NFSV_GD_ZS_df.csv has been created'"
      ]
     },
     "metadata": {},
     "output_type": "display_data"
    },
    {
     "data": {
      "text/plain": [
       "'the file data_NV_IND_TOTL_KD_df.csv has been created'"
      ]
     },
     "metadata": {},
     "output_type": "display_data"
    },
    {
     "data": {
      "text/plain": [
       "'the file data_SE_SEC_CUAT_UP_MA_ZS_df.csv has been created'"
      ]
     },
     "metadata": {},
     "output_type": "display_data"
    },
    {
     "data": {
      "text/plain": [
       "'the file data_NE_CON_PRVT_CD_df.csv has been created'"
      ]
     },
     "metadata": {},
     "output_type": "display_data"
    },
    {
     "data": {
      "text/plain": [
       "'the file data_SE_SEC_CUAT_UP_ZS_df.csv has been created'"
      ]
     },
     "metadata": {},
     "output_type": "display_data"
    },
    {
     "data": {
      "text/plain": [
       "'the file data_SE_XPD_PRIM_ZS_df.csv has been created'"
      ]
     },
     "metadata": {},
     "output_type": "display_data"
    },
    {
     "data": {
      "text/plain": [
       "'the file data_SE_PRM_AGES_df.csv has been created'"
      ]
     },
     "metadata": {},
     "output_type": "display_data"
    },
    {
     "data": {
      "text/plain": [
       "'the file data_NE_CON_GOVT_KD_ZG_df.csv has been created'"
      ]
     },
     "metadata": {},
     "output_type": "display_data"
    },
    {
     "data": {
      "text/plain": [
       "'the file data_NV_IND_MANF_CD_df.csv has been created'"
      ]
     },
     "metadata": {},
     "output_type": "display_data"
    },
    {
     "data": {
      "text/plain": [
       "'the file data_SE_XPD_SECO_ZS_df.csv has been created'"
      ]
     },
     "metadata": {},
     "output_type": "display_data"
    },
    {
     "data": {
      "text/plain": [
       "'the file data_SH_DYN_1014_df.csv has been created'"
      ]
     },
     "metadata": {},
     "output_type": "display_data"
    },
    {
     "data": {
      "text/plain": [
       "'the file data_NY_GDP_PCAP_KN_df.csv has been created'"
      ]
     },
     "metadata": {},
     "output_type": "display_data"
    },
    {
     "data": {
      "text/plain": [
       "'the file data_NE_CON_GOVT_KN_df.csv has been created'"
      ]
     },
     "metadata": {},
     "output_type": "display_data"
    },
    {
     "data": {
      "text/plain": [
       "'the file data_NV_MNF_TECH_ZS_UN_df.csv has been created'"
      ]
     },
     "metadata": {},
     "output_type": "display_data"
    },
    {
     "data": {
      "text/plain": [
       "'the file data_SE_XPD_TERT_ZS_df.csv has been created'"
      ]
     },
     "metadata": {},
     "output_type": "display_data"
    },
    {
     "data": {
      "text/plain": [
       "'Skipping creating the file data_SE_XPD_TOTL_GD_ZS_df.csv because it already exists'"
      ]
     },
     "metadata": {},
     "output_type": "display_data"
    },
    {
     "data": {
      "text/plain": [
       "'the file data_BN_TRF_KOGT_CD_df.csv has been created'"
      ]
     },
     "metadata": {},
     "output_type": "display_data"
    },
    {
     "data": {
      "text/plain": [
       "'the file data_SH_DYN_1519_df.csv has been created'"
      ]
     },
     "metadata": {},
     "output_type": "display_data"
    },
    {
     "data": {
      "text/plain": [
       "'the file data_BN_GSR_FCTY_CD_df.csv has been created'"
      ]
     },
     "metadata": {},
     "output_type": "display_data"
    },
    {
     "data": {
      "text/plain": [
       "'the file data_SE_XPD_TERT_PC_ZS_df.csv has been created'"
      ]
     },
     "metadata": {},
     "output_type": "display_data"
    },
    {
     "data": {
      "text/plain": [
       "'the file data_SH_DYN_0509_df.csv has been created'"
      ]
     },
     "metadata": {},
     "output_type": "display_data"
    },
    {
     "data": {
      "text/plain": [
       "'the file data_NE_CON_GOVT_CN_df.csv has been created'"
      ]
     },
     "metadata": {},
     "output_type": "display_data"
    },
    {
     "data": {
      "text/plain": [
       "'the file data_NV_IND_TOTL_KN_df.csv has been created'"
      ]
     },
     "metadata": {},
     "output_type": "display_data"
    },
    {
     "data": {
      "text/plain": [
       "'the file data_SE_PRM_GINT_FE_ZS_df.csv has been created'"
      ]
     },
     "metadata": {},
     "output_type": "display_data"
    },
    {
     "data": {
      "text/plain": [
       "'the file data_SE_PRM_GINT_MA_ZS_df.csv has been created'"
      ]
     },
     "metadata": {},
     "output_type": "display_data"
    },
    {
     "data": {
      "text/plain": [
       "'the file data_SE_PRM_GINT_ZS_df.csv has been created'"
      ]
     },
     "metadata": {},
     "output_type": "display_data"
    },
    {
     "data": {
      "text/plain": [
       "'the file data_SE_SEC_CMPT_LO_ZS_df.csv has been created'"
      ]
     },
     "metadata": {},
     "output_type": "display_data"
    },
    {
     "data": {
      "text/plain": [
       "'the file data_NE_CON_PRVT_PC_KD_df.csv has been created'"
      ]
     },
     "metadata": {},
     "output_type": "display_data"
    },
    {
     "data": {
      "text/plain": [
       "'the file data_NY_GDP_PCAP_CN_df.csv has been created'"
      ]
     },
     "metadata": {},
     "output_type": "display_data"
    },
    {
     "data": {
      "text/plain": [
       "'the file data_NE_CON_PRVT_PC_KD_ZG_df.csv has been created'"
      ]
     },
     "metadata": {},
     "output_type": "display_data"
    },
    {
     "data": {
      "text/plain": [
       "'the file data_NE_CON_PRVT_PP_KD_df.csv has been created'"
      ]
     },
     "metadata": {},
     "output_type": "display_data"
    },
    {
     "data": {
      "text/plain": [
       "'the file data_SP_POP_3539_MA_5Y_df.csv has been created'"
      ]
     },
     "metadata": {},
     "output_type": "display_data"
    },
    {
     "data": {
      "text/plain": [
       "'the file data_NY_GDP_PCAP_CD_df.csv has been created'"
      ]
     },
     "metadata": {},
     "output_type": "display_data"
    },
    {
     "data": {
      "text/plain": [
       "'the file data_NE_CON_GOVT_CD_df.csv has been created'"
      ]
     },
     "metadata": {},
     "output_type": "display_data"
    },
    {
     "data": {
      "text/plain": [
       "'the file data_BX_GSR_MRCH_CD_df.csv has been created'"
      ]
     },
     "metadata": {},
     "output_type": "display_data"
    },
    {
     "data": {
      "text/plain": [
       "'the file data_BM_GSR_MRCH_CD_df.csv has been created'"
      ]
     },
     "metadata": {},
     "output_type": "display_data"
    },
    {
     "data": {
      "text/plain": [
       "'the file data_NY_GSR_NFCY_KN_df.csv has been created'"
      ]
     },
     "metadata": {},
     "output_type": "display_data"
    },
    {
     "data": {
      "text/plain": [
       "'the file data_NV_IND_TOTL_CN_df.csv has been created'"
      ]
     },
     "metadata": {},
     "output_type": "display_data"
    },
    {
     "data": {
      "text/plain": [
       "'the file data_SL_TLF_TOTL_IN_df.csv has been created'"
      ]
     },
     "metadata": {},
     "output_type": "display_data"
    },
    {
     "data": {
      "text/plain": [
       "'the file data_NY_GSR_NFCY_CN_df.csv has been created'"
      ]
     },
     "metadata": {},
     "output_type": "display_data"
    },
    {
     "data": {
      "text/plain": [
       "'the file data_SH_DYN_2024_df.csv has been created'"
      ]
     },
     "metadata": {},
     "output_type": "display_data"
    },
    {
     "data": {
      "text/plain": [
       "'the file data_VC_PKP_TOTL_UN_df.csv has been created'"
      ]
     },
     "metadata": {},
     "output_type": "display_data"
    },
    {
     "data": {
      "text/plain": [
       "'the file data_NE_CON_PRVT_CN_AD_df.csv has been created'"
      ]
     },
     "metadata": {},
     "output_type": "display_data"
    },
    {
     "data": {
      "text/plain": [
       "'the file data_NY_GSR_NFCY_CD_df.csv has been created'"
      ]
     },
     "metadata": {},
     "output_type": "display_data"
    },
    {
     "data": {
      "text/plain": [
       "'the file data_NY_GDP_PCAP_PP_KD_df.csv has been created'"
      ]
     },
     "metadata": {},
     "output_type": "display_data"
    },
    {
     "data": {
      "text/plain": [
       "'the file data_NE_CON_PRVT_PP_CD_df.csv has been created'"
      ]
     },
     "metadata": {},
     "output_type": "display_data"
    },
    {
     "data": {
      "text/plain": [
       "'the file data_BN_TRF_CURR_CD_df.csv has been created'"
      ]
     },
     "metadata": {},
     "output_type": "display_data"
    },
    {
     "data": {
      "text/plain": [
       "'the file data_SE_ADT_LITR_MA_ZS_df.csv has been created'"
      ]
     },
     "metadata": {},
     "output_type": "display_data"
    },
    {
     "data": {
      "text/plain": [
       "'the file data_BM_GSR_GNFS_CD_df.csv has been created'"
      ]
     },
     "metadata": {},
     "output_type": "display_data"
    },
    {
     "data": {
      "text/plain": [
       "'the file data_BX_GSR_TRAN_ZS_df.csv has been created'"
      ]
     },
     "metadata": {},
     "output_type": "display_data"
    },
    {
     "data": {
      "text/plain": [
       "'the file data_SE_ADT_LITR_ZS_df.csv has been created'"
      ]
     },
     "metadata": {},
     "output_type": "display_data"
    },
    {
     "data": {
      "text/plain": [
       "'the file data_IQ_CPA_TRAD_XQ_df.csv has been created'"
      ]
     },
     "metadata": {},
     "output_type": "display_data"
    },
    {
     "data": {
      "text/plain": [
       "'the file data_NY_GDP_PCAP_KD_ZG_df.csv has been created'"
      ]
     },
     "metadata": {},
     "output_type": "display_data"
    },
    {
     "data": {
      "text/plain": [
       "'the file data_NY_TRF_NCTR_KN_df.csv has been created'"
      ]
     },
     "metadata": {},
     "output_type": "display_data"
    },
    {
     "data": {
      "text/plain": [
       "'the file data_BM_GSR_TRAN_ZS_df.csv has been created'"
      ]
     },
     "metadata": {},
     "output_type": "display_data"
    },
    {
     "data": {
      "text/plain": [
       "'the file data_SE_ADT_1524_LT_FM_ZS_df.csv has been created'"
      ]
     },
     "metadata": {},
     "output_type": "display_data"
    },
    {
     "data": {
      "text/plain": [
       "'the file data_NE_CON_PRVT_ZS_df.csv has been created'"
      ]
     },
     "metadata": {},
     "output_type": "display_data"
    },
    {
     "data": {
      "text/plain": [
       "'the file data_NV_IND_TOTL_CD_df.csv has been created'"
      ]
     },
     "metadata": {},
     "output_type": "display_data"
    },
    {
     "data": {
      "text/plain": [
       "'the file data_SE_PRM_TENR_df.csv has been created'"
      ]
     },
     "metadata": {},
     "output_type": "display_data"
    },
    {
     "data": {
      "text/plain": [
       "'the file data_BX_GSR_TRVL_ZS_df.csv has been created'"
      ]
     },
     "metadata": {},
     "output_type": "display_data"
    },
    {
     "data": {
      "text/plain": [
       "'the file data_SE_ADT_1524_LT_FE_ZS_df.csv has been created'"
      ]
     },
     "metadata": {},
     "output_type": "display_data"
    },
    {
     "data": {
      "text/plain": [
       "'the file data_NE_GDI_TOTL_ZS_df.csv has been created'"
      ]
     },
     "metadata": {},
     "output_type": "display_data"
    },
    {
     "data": {
      "text/plain": [
       "'the file data_SE_PRM_TENR_FE_df.csv has been created'"
      ]
     },
     "metadata": {},
     "output_type": "display_data"
    },
    {
     "data": {
      "text/plain": [
       "'the file data_SE_PRM_TENR_MA_df.csv has been created'"
      ]
     },
     "metadata": {},
     "output_type": "display_data"
    },
    {
     "data": {
      "text/plain": [
       "'the file data_NE_IMP_GNFS_KD_ZG_df.csv has been created'"
      ]
     },
     "metadata": {},
     "output_type": "display_data"
    },
    {
     "data": {
      "text/plain": [
       "'the file data_IQ_CPA_IRAI_XQ_df.csv has been created'"
      ]
     },
     "metadata": {},
     "output_type": "display_data"
    },
    {
     "data": {
      "text/plain": [
       "'the file data_NY_GDS_TOTL_CD_df.csv has been created'"
      ]
     },
     "metadata": {},
     "output_type": "display_data"
    },
    {
     "data": {
      "text/plain": [
       "'the file data_NY_GNS_ICTR_CD_df.csv has been created'"
      ]
     },
     "metadata": {},
     "output_type": "display_data"
    },
    {
     "data": {
      "text/plain": [
       "'the file data_BX_GSR_CCIS_CD_df.csv has been created'"
      ]
     },
     "metadata": {},
     "output_type": "display_data"
    },
    {
     "data": {
      "text/plain": [
       "'the file data_NE_IMP_GNFS_KD_df.csv has been created'"
      ]
     },
     "metadata": {},
     "output_type": "display_data"
    },
    {
     "data": {
      "text/plain": [
       "'the file data_BX_TRF_PWKR_CD_df.csv has been created'"
      ]
     },
     "metadata": {},
     "output_type": "display_data"
    },
    {
     "data": {
      "text/plain": [
       "'the file data_SE_SEC_CUAT_LO_MA_ZS_df.csv has been created'"
      ]
     },
     "metadata": {},
     "output_type": "display_data"
    },
    {
     "data": {
      "text/plain": [
       "'the file data_SE_SEC_PROG_ZS_df.csv has been created'"
      ]
     },
     "metadata": {},
     "output_type": "display_data"
    },
    {
     "data": {
      "text/plain": [
       "'the file data_SE_SEC_PROG_FE_ZS_df.csv has been created'"
      ]
     },
     "metadata": {},
     "output_type": "display_data"
    },
    {
     "data": {
      "text/plain": [
       "'the file data_SE_SEC_PROG_MA_ZS_df.csv has been created'"
      ]
     },
     "metadata": {},
     "output_type": "display_data"
    },
    {
     "data": {
      "text/plain": [
       "'the file data_SE_PRE_ENRL_TC_ZS_df.csv has been created'"
      ]
     },
     "metadata": {},
     "output_type": "display_data"
    },
    {
     "data": {
      "text/plain": [
       "'the file data_SE_PRM_ENRL_TC_ZS_df.csv has been created'"
      ]
     },
     "metadata": {},
     "output_type": "display_data"
    },
    {
     "data": {
      "text/plain": [
       "'the file data_SE_SEC_ENRL_UP_TC_ZS_df.csv has been created'"
      ]
     },
     "metadata": {},
     "output_type": "display_data"
    },
    {
     "data": {
      "text/plain": [
       "'the file data_NE_CON_GOVT_KD_df.csv has been created'"
      ]
     },
     "metadata": {},
     "output_type": "display_data"
    },
    {
     "data": {
      "text/plain": [
       "'the file data_SH_DTH_0509_df.csv has been created'"
      ]
     },
     "metadata": {},
     "output_type": "display_data"
    },
    {
     "data": {
      "text/plain": [
       "'the file data_SE_PRM_REPT_FE_ZS_df.csv has been created'"
      ]
     },
     "metadata": {},
     "output_type": "display_data"
    },
    {
     "data": {
      "text/plain": [
       "'the file data_SE_PRM_REPT_MA_ZS_df.csv has been created'"
      ]
     },
     "metadata": {},
     "output_type": "display_data"
    },
    {
     "data": {
      "text/plain": [
       "'the file data_SE_PRM_REPT_ZS_df.csv has been created'"
      ]
     },
     "metadata": {},
     "output_type": "display_data"
    },
    {
     "data": {
      "text/plain": [
       "'the file data_SE_PRE_ENRR_df.csv has been created'"
      ]
     },
     "metadata": {},
     "output_type": "display_data"
    },
    {
     "data": {
      "text/plain": [
       "'the file data_SE_PRE_ENRR_FE_df.csv has been created'"
      ]
     },
     "metadata": {},
     "output_type": "display_data"
    },
    {
     "data": {
      "text/plain": [
       "'the file data_SE_PRE_ENRR_MA_df.csv has been created'"
      ]
     },
     "metadata": {},
     "output_type": "display_data"
    },
    {
     "data": {
      "text/plain": [
       "'the file data_SE_PRM_ENRR_df.csv has been created'"
      ]
     },
     "metadata": {},
     "output_type": "display_data"
    },
    {
     "data": {
      "text/plain": [
       "'the file data_SE_PRM_NENR_df.csv has been created'"
      ]
     },
     "metadata": {},
     "output_type": "display_data"
    },
    {
     "data": {
      "text/plain": [
       "'the file data_SE_PRM_ENRR_FE_df.csv has been created'"
      ]
     },
     "metadata": {},
     "output_type": "display_data"
    },
    {
     "data": {
      "text/plain": [
       "'the file data_SE_PRM_NENR_FE_df.csv has been created'"
      ]
     },
     "metadata": {},
     "output_type": "display_data"
    },
    {
     "data": {
      "text/plain": [
       "'the file data_SE_PRM_ENRR_MA_df.csv has been created'"
      ]
     },
     "metadata": {},
     "output_type": "display_data"
    },
    {
     "data": {
      "text/plain": [
       "'the file data_NY_GDS_TOTL_ZS_df.csv has been created'"
      ]
     },
     "metadata": {},
     "output_type": "display_data"
    },
    {
     "data": {
      "text/plain": [
       "'the file data_NY_GDP_FCST_CN_df.csv has been created'"
      ]
     },
     "metadata": {},
     "output_type": "display_data"
    },
    {
     "data": {
      "text/plain": [
       "'the file data_BM_TRF_PRVT_CD_df.csv has been created'"
      ]
     },
     "metadata": {},
     "output_type": "display_data"
    },
    {
     "data": {
      "text/plain": [
       "'the file data_SE_PRM_NENR_MA_df.csv has been created'"
      ]
     },
     "metadata": {},
     "output_type": "display_data"
    },
    {
     "data": {
      "text/plain": [
       "'the file data_SE_SEC_ENRR_df.csv has been created'"
      ]
     },
     "metadata": {},
     "output_type": "display_data"
    },
    {
     "data": {
      "text/plain": [
       "'the file data_SE_SEC_NENR_df.csv has been created'"
      ]
     },
     "metadata": {},
     "output_type": "display_data"
    },
    {
     "data": {
      "text/plain": [
       "'the file data_SE_SEC_ENRR_FE_df.csv has been created'"
      ]
     },
     "metadata": {},
     "output_type": "display_data"
    },
    {
     "data": {
      "text/plain": [
       "'the file data_SE_SEC_NENR_FE_df.csv has been created'"
      ]
     },
     "metadata": {},
     "output_type": "display_data"
    },
    {
     "data": {
      "text/plain": [
       "'the file data_SE_SEC_NENR_MA_df.csv has been created'"
      ]
     },
     "metadata": {},
     "output_type": "display_data"
    },
    {
     "data": {
      "text/plain": [
       "'the file data_SE_PRE_TCAQ_ZS_df.csv has been created'"
      ]
     },
     "metadata": {},
     "output_type": "display_data"
    },
    {
     "data": {
      "text/plain": [
       "'the file data_SE_SEC_PRIV_ZS_df.csv has been created'"
      ]
     },
     "metadata": {},
     "output_type": "display_data"
    },
    {
     "data": {
      "text/plain": [
       "'the file data_SE_TER_ENRR_df.csv has been created'"
      ]
     },
     "metadata": {},
     "output_type": "display_data"
    },
    {
     "data": {
      "text/plain": [
       "'the file data_NY_GDY_TOTL_KN_df.csv has been created'"
      ]
     },
     "metadata": {},
     "output_type": "display_data"
    },
    {
     "data": {
      "text/plain": [
       "'the file data_BN_KAC_EOMS_CD_df.csv has been created'"
      ]
     },
     "metadata": {},
     "output_type": "display_data"
    },
    {
     "data": {
      "text/plain": [
       "'the file data_SE_TER_ENRR_FE_df.csv has been created'"
      ]
     },
     "metadata": {},
     "output_type": "display_data"
    },
    {
     "data": {
      "text/plain": [
       "'the file data_SE_TER_ENRR_MA_df.csv has been created'"
      ]
     },
     "metadata": {},
     "output_type": "display_data"
    },
    {
     "data": {
      "text/plain": [
       "'the file data_SE_SEC_ENRL_FE_ZS_df.csv has been created'"
      ]
     },
     "metadata": {},
     "output_type": "display_data"
    },
    {
     "data": {
      "text/plain": [
       "'the file data_SE_SEC_TCHR_FE_ZS_df.csv has been created'"
      ]
     },
     "metadata": {},
     "output_type": "display_data"
    },
    {
     "data": {
      "text/plain": [
       "'the file data_SE_SEC_TCHR_FE_df.csv has been created'"
      ]
     },
     "metadata": {},
     "output_type": "display_data"
    },
    {
     "data": {
      "text/plain": [
       "'the file data_SE_SEC_ENRL_VO_df.csv has been created'"
      ]
     },
     "metadata": {},
     "output_type": "display_data"
    },
    {
     "data": {
      "text/plain": [
       "'the file data_SE_SEC_ENRL_VO_FE_ZS_df.csv has been created'"
      ]
     },
     "metadata": {},
     "output_type": "display_data"
    },
    {
     "data": {
      "text/plain": [
       "'the file data_SE_TER_TCHR_FE_ZS_df.csv has been created'"
      ]
     },
     "metadata": {},
     "output_type": "display_data"
    },
    {
     "data": {
      "text/plain": [
       "'the file data_SE_SEC_TCAQ_LO_ZS_df.csv has been created'"
      ]
     },
     "metadata": {},
     "output_type": "display_data"
    },
    {
     "data": {
      "text/plain": [
       "'the file data_SE_PRE_TCAQ_MA_ZS_df.csv has been created'"
      ]
     },
     "metadata": {},
     "output_type": "display_data"
    },
    {
     "data": {
      "text/plain": [
       "'the file data_SE_PRM_TCAQ_FE_ZS_df.csv has been created'"
      ]
     },
     "metadata": {},
     "output_type": "display_data"
    },
    {
     "data": {
      "text/plain": [
       "'the file data_SE_PRM_TCAQ_MA_ZS_df.csv has been created'"
      ]
     },
     "metadata": {},
     "output_type": "display_data"
    },
    {
     "data": {
      "text/plain": [
       "'the file data_SE_SEC_TCAQ_ZS_df.csv has been created'"
      ]
     },
     "metadata": {},
     "output_type": "display_data"
    },
    {
     "data": {
      "text/plain": [
       "'the file data_SE_SEC_TCAQ_FE_ZS_df.csv has been created'"
      ]
     },
     "metadata": {},
     "output_type": "display_data"
    },
    {
     "data": {
      "text/plain": [
       "'the file data_SE_SEC_UNER_LO_MA_ZS_df.csv has been created'"
      ]
     },
     "metadata": {},
     "output_type": "display_data"
    },
    {
     "data": {
      "text/plain": [
       "'the file data_BX_GSR_CCIS_ZS_df.csv has been created'"
      ]
     },
     "metadata": {},
     "output_type": "display_data"
    },
    {
     "data": {
      "text/plain": [
       "'the file data_PA_NUS_PPP_df.csv has been created'"
      ]
     },
     "metadata": {},
     "output_type": "display_data"
    },
    {
     "data": {
      "text/plain": [
       "'the file data_BM_GSR_TRVL_ZS_df.csv has been created'"
      ]
     },
     "metadata": {},
     "output_type": "display_data"
    },
    {
     "data": {
      "text/plain": [
       "'the file data_SE_PRM_CUAT_MA_ZS_df.csv has been created'"
      ]
     },
     "metadata": {},
     "output_type": "display_data"
    },
    {
     "data": {
      "text/plain": [
       "'the file data_SE_SEC_TCAQ_MA_ZS_df.csv has been created'"
      ]
     },
     "metadata": {},
     "output_type": "display_data"
    },
    {
     "data": {
      "text/plain": [
       "'the file data_SE_SEC_TCAQ_UP_ZS_df.csv has been created'"
      ]
     },
     "metadata": {},
     "output_type": "display_data"
    },
    {
     "data": {
      "text/plain": [
       "'the file data_SE_SEC_TCAQ_UP_FE_ZS_df.csv has been created'"
      ]
     },
     "metadata": {},
     "output_type": "display_data"
    },
    {
     "data": {
      "text/plain": [
       "'the file data_SE_SEC_TCAQ_UP_MA_ZS_df.csv has been created'"
      ]
     },
     "metadata": {},
     "output_type": "display_data"
    },
    {
     "data": {
      "text/plain": [
       "'the file data_SL_UEM_TOTL_ZS_df.csv has been created'"
      ]
     },
     "metadata": {},
     "output_type": "display_data"
    },
    {
     "data": {
      "text/plain": [
       "'the file data_EG_ELC_ACCS_UR_ZS_df.csv has been created'"
      ]
     },
     "metadata": {},
     "output_type": "display_data"
    },
    {
     "data": {
      "text/plain": [
       "'the file data_NE_IMP_GNFS_ZS_df.csv has been created'"
      ]
     },
     "metadata": {},
     "output_type": "display_data"
    },
    {
     "data": {
      "text/plain": [
       "'the file data_SE_TER_CUAT_DO_MA_ZS_df.csv has been created'"
      ]
     },
     "metadata": {},
     "output_type": "display_data"
    },
    {
     "data": {
      "text/plain": [
       "'the file data_SE_SEC_ENRL_GC_df.csv has been created'"
      ]
     },
     "metadata": {},
     "output_type": "display_data"
    },
    {
     "data": {
      "text/plain": [
       "'the file data_EG_USE_COMM_CL_ZS_df.csv has been created'"
      ]
     },
     "metadata": {},
     "output_type": "display_data"
    },
    {
     "data": {
      "text/plain": [
       "'the file data_EG_USE_CRNW_ZS_df.csv has been created'"
      ]
     },
     "metadata": {},
     "output_type": "display_data"
    },
    {
     "data": {
      "text/plain": [
       "'the file data_EG_ELC_LOSS_ZS_df.csv has been created'"
      ]
     },
     "metadata": {},
     "output_type": "display_data"
    },
    {
     "data": {
      "text/plain": [
       "'the file data_EG_ELC_FOSL_ZS_df.csv has been created'"
      ]
     },
     "metadata": {},
     "output_type": "display_data"
    },
    {
     "data": {
      "text/plain": [
       "'the file data_EG_IMP_CONS_ZS_df.csv has been created'"
      ]
     },
     "metadata": {},
     "output_type": "display_data"
    },
    {
     "data": {
      "text/plain": [
       "'the file data_EG_EGY_PRIM_PP_KD_df.csv has been created'"
      ]
     },
     "metadata": {},
     "output_type": "display_data"
    },
    {
     "data": {
      "text/plain": [
       "'the file data_EN_ATM_METH_EG_ZS_df.csv has been created'"
      ]
     },
     "metadata": {},
     "output_type": "display_data"
    },
    {
     "data": {
      "text/plain": [
       "'the file data_EG_GDP_PUSE_KO_PP_df.csv has been created'"
      ]
     },
     "metadata": {},
     "output_type": "display_data"
    },
    {
     "data": {
      "text/plain": [
       "'the file data_EG_GDP_PUSE_KO_PP_KD_df.csv has been created'"
      ]
     },
     "metadata": {},
     "output_type": "display_data"
    },
    {
     "data": {
      "text/plain": [
       "'the file data_SE_TER_CUAT_DO_ZS_df.csv has been created'"
      ]
     },
     "metadata": {},
     "output_type": "display_data"
    },
    {
     "data": {
      "text/plain": [
       "'the file data_SE_TER_CUAT_BA_FE_ZS_df.csv has been created'"
      ]
     },
     "metadata": {},
     "output_type": "display_data"
    },
    {
     "data": {
      "text/plain": [
       "'the file data_IE_PPI_ENGY_CD_df.csv has been created'"
      ]
     },
     "metadata": {},
     "output_type": "display_data"
    },
    {
     "data": {
      "text/plain": [
       "'the file data_NY_GDP_MINR_RT_ZS_df.csv has been created'"
      ]
     },
     "metadata": {},
     "output_type": "display_data"
    },
    {
     "data": {
      "text/plain": [
       "'the file data_EN_ATM_NOXE_EG_ZS_df.csv has been created'"
      ]
     },
     "metadata": {},
     "output_type": "display_data"
    },
    {
     "data": {
      "text/plain": [
       "'the file data_EN_ATM_NOXE_EG_KT_CE_df.csv has been created'"
      ]
     },
     "metadata": {},
     "output_type": "display_data"
    },
    {
     "data": {
      "text/plain": [
       "'the file data_TM_VAL_MMTL_ZS_UN_df.csv has been created'"
      ]
     },
     "metadata": {},
     "output_type": "display_data"
    },
    {
     "data": {
      "text/plain": [
       "'the file data_IC_ELC_TIME_df.csv has been created'"
      ]
     },
     "metadata": {},
     "output_type": "display_data"
    },
    {
     "data": {
      "text/plain": [
       "'the file data_IC_FRM_OUTG_ZS_df.csv has been created'"
      ]
     },
     "metadata": {},
     "output_type": "display_data"
    },
    {
     "data": {
      "text/plain": [
       "'the file data_EG_CFT_ACCS_ZS_df.csv has been created'"
      ]
     },
     "metadata": {},
     "output_type": "display_data"
    },
    {
     "data": {
      "text/plain": [
       "'the file data_EG_CFT_ACCS_RU_ZS_df.csv has been created'"
      ]
     },
     "metadata": {},
     "output_type": "display_data"
    },
    {
     "data": {
      "text/plain": [
       "'the file data_EG_CFT_ACCS_UR_ZS_df.csv has been created'"
      ]
     },
     "metadata": {},
     "output_type": "display_data"
    },
    {
     "data": {
      "text/plain": [
       "'the file data_ER_H2O_FWDM_ZS_df.csv has been created'"
      ]
     },
     "metadata": {},
     "output_type": "display_data"
    },
    {
     "data": {
      "text/plain": [
       "'the file data_BN_KLT_PTXL_CD_df.csv has been created'"
      ]
     },
     "metadata": {},
     "output_type": "display_data"
    },
    {
     "data": {
      "text/plain": [
       "'the file data_NE_TRD_GNFS_ZS_df.csv has been created'"
      ]
     },
     "metadata": {},
     "output_type": "display_data"
    },
    {
     "data": {
      "text/plain": [
       "'the file data_SH_DTH_1519_df.csv has been created'"
      ]
     },
     "metadata": {},
     "output_type": "display_data"
    },
    {
     "data": {
      "text/plain": [
       "'the file data_SE_PRM_PRSL_FE_ZS_df.csv has been created'"
      ]
     },
     "metadata": {},
     "output_type": "display_data"
    },
    {
     "data": {
      "text/plain": [
       "'the file data_SE_ENR_SECO_FM_ZS_df.csv has been created'"
      ]
     },
     "metadata": {},
     "output_type": "display_data"
    },
    {
     "data": {
      "text/plain": [
       "'the file data_TM_VAL_FUEL_ZS_UN_df.csv has been created'"
      ]
     },
     "metadata": {},
     "output_type": "display_data"
    },
    {
     "data": {
      "text/plain": [
       "'the file data_ER_H2O_FWIN_ZS_df.csv has been created'"
      ]
     },
     "metadata": {},
     "output_type": "display_data"
    },
    {
     "data": {
      "text/plain": [
       "'the file data_EN_BIR_THRD_NO_df.csv has been created'"
      ]
     },
     "metadata": {},
     "output_type": "display_data"
    },
    {
     "data": {
      "text/plain": [
       "'the file data_EN_CO2_ETOT_ZS_df.csv has been created'"
      ]
     },
     "metadata": {},
     "output_type": "display_data"
    },
    {
     "data": {
      "text/plain": [
       "'the file data_SE_PRM_UNER_FE_ZS_df.csv has been created'"
      ]
     },
     "metadata": {},
     "output_type": "display_data"
    },
    {
     "data": {
      "text/plain": [
       "'the file data_SE_PRM_TCHR_df.csv has been created'"
      ]
     },
     "metadata": {},
     "output_type": "display_data"
    },
    {
     "data": {
      "text/plain": [
       "'the file data_SE_SEC_ENRL_df.csv has been created'"
      ]
     },
     "metadata": {},
     "output_type": "display_data"
    },
    {
     "data": {
      "text/plain": [
       "'the file data_NY_GDP_PETR_RT_ZS_df.csv has been created'"
      ]
     },
     "metadata": {},
     "output_type": "display_data"
    },
    {
     "data": {
      "text/plain": [
       "'the file data_EN_CO2_MANF_ZS_df.csv has been created'"
      ]
     },
     "metadata": {},
     "output_type": "display_data"
    },
    {
     "data": {
      "text/plain": [
       "'the file data_EN_CO2_OTHX_ZS_df.csv has been created'"
      ]
     },
     "metadata": {},
     "output_type": "display_data"
    },
    {
     "data": {
      "text/plain": [
       "'the file data_EN_CO2_BLDG_ZS_df.csv has been created'"
      ]
     },
     "metadata": {},
     "output_type": "display_data"
    },
    {
     "data": {
      "text/plain": [
       "'the file data_EN_CO2_TRAN_ZS_df.csv has been created'"
      ]
     },
     "metadata": {},
     "output_type": "display_data"
    },
    {
     "data": {
      "text/plain": [
       "'the file data_ER_H2O_FWST_ZS_df.csv has been created'"
      ]
     },
     "metadata": {},
     "output_type": "display_data"
    },
    {
     "data": {
      "text/plain": [
       "'the file data_SH_STA_ODFC_UR_ZS_df.csv has been created'"
      ]
     },
     "metadata": {},
     "output_type": "display_data"
    },
    {
     "data": {
      "text/plain": [
       "'the file data_SP_POP_4044_MA_5Y_df.csv has been created'"
      ]
     },
     "metadata": {},
     "output_type": "display_data"
    },
    {
     "data": {
      "text/plain": [
       "'the file data_BN_GSR_MRCH_CD_df.csv has been created'"
      ]
     },
     "metadata": {},
     "output_type": "display_data"
    },
    {
     "data": {
      "text/plain": [
       "'the file data_SE_PRM_PRS5_MA_ZS_df.csv has been created'"
      ]
     },
     "metadata": {},
     "output_type": "display_data"
    },
    {
     "data": {
      "text/plain": [
       "'the file data_SE_SEC_ENRL_LO_TC_ZS_df.csv has been created'"
      ]
     },
     "metadata": {},
     "output_type": "display_data"
    },
    {
     "data": {
      "text/plain": [
       "'the file data_SE_PRM_PRIV_ZS_df.csv has been created'"
      ]
     },
     "metadata": {},
     "output_type": "display_data"
    },
    {
     "data": {
      "text/plain": [
       "'the file data_SH_STA_AIRP_P5_df.csv has been created'"
      ]
     },
     "metadata": {},
     "output_type": "display_data"
    },
    {
     "data": {
      "text/plain": [
       "'the file data_SH_STA_POIS_P5_FE_df.csv has been created'"
      ]
     },
     "metadata": {},
     "output_type": "display_data"
    },
    {
     "data": {
      "text/plain": [
       "'the file data_SH_STA_POIS_P5_MA_df.csv has been created'"
      ]
     },
     "metadata": {},
     "output_type": "display_data"
    },
    {
     "data": {
      "text/plain": [
       "'the file data_SH_STA_WASH_P5_df.csv has been created'"
      ]
     },
     "metadata": {},
     "output_type": "display_data"
    },
    {
     "data": {
      "text/plain": [
       "'the file data_EN_ATM_PM25_MC_M3_df.csv has been created'"
      ]
     },
     "metadata": {},
     "output_type": "display_data"
    },
    {
     "data": {
      "text/plain": [
       "'the file data_EN_ATM_PM25_MC_ZS_df.csv has been created'"
      ]
     },
     "metadata": {},
     "output_type": "display_data"
    },
    {
     "data": {
      "text/plain": [
       "'the file data_SH_DTH_2024_df.csv has been created'"
      ]
     },
     "metadata": {},
     "output_type": "display_data"
    },
    {
     "data": {
      "text/plain": [
       "'the file data_SE_TER_ENRL_TC_ZS_df.csv has been created'"
      ]
     },
     "metadata": {},
     "output_type": "display_data"
    },
    {
     "data": {
      "text/plain": [
       "'the file data_SE_ENR_PRIM_FM_ZS_df.csv has been created'"
      ]
     },
     "metadata": {},
     "output_type": "display_data"
    },
    {
     "data": {
      "text/plain": [
       "'the file data_EN_ATM_PM25_MC_T2_ZS_df.csv has been created'"
      ]
     },
     "metadata": {},
     "output_type": "display_data"
    },
    {
     "data": {
      "text/plain": [
       "'the file data_EN_ATM_PM25_MC_T3_ZS_df.csv has been created'"
      ]
     },
     "metadata": {},
     "output_type": "display_data"
    },
    {
     "data": {
      "text/plain": [
       "'the file data_SH_STA_ODFC_RU_ZS_df.csv has been created'"
      ]
     },
     "metadata": {},
     "output_type": "display_data"
    },
    {
     "data": {
      "text/plain": [
       "'the file data_DT_DOD_DPNG_CD_df.csv has been created'"
      ]
     },
     "metadata": {},
     "output_type": "display_data"
    },
    {
     "data": {
      "text/plain": [
       "'the file data_SH_H2O_BASW_ZS_df.csv has been created'"
      ]
     },
     "metadata": {},
     "output_type": "display_data"
    },
    {
     "data": {
      "text/plain": [
       "'the file data_SH_H2O_BASW_RU_ZS_df.csv has been created'"
      ]
     },
     "metadata": {},
     "output_type": "display_data"
    },
    {
     "data": {
      "text/plain": [
       "'the file data_SH_H2O_BASW_UR_ZS_df.csv has been created'"
      ]
     },
     "metadata": {},
     "output_type": "display_data"
    },
    {
     "data": {
      "text/plain": [
       "'the file data_SH_STA_BASS_ZS_df.csv has been created'"
      ]
     },
     "metadata": {},
     "output_type": "display_data"
    },
    {
     "data": {
      "text/plain": [
       "'the file data_SH_STA_BASS_RU_ZS_df.csv has been created'"
      ]
     },
     "metadata": {},
     "output_type": "display_data"
    },
    {
     "data": {
      "text/plain": [
       "'the file data_DT_DOD_DSTC_IR_ZS_df.csv has been created'"
      ]
     },
     "metadata": {},
     "output_type": "display_data"
    },
    {
     "data": {
      "text/plain": [
       "'the file data_SE_PRM_CUAT_FE_ZS_df.csv has been created'"
      ]
     },
     "metadata": {},
     "output_type": "display_data"
    },
    {
     "data": {
      "text/plain": [
       "'the file data_SE_PRM_CUAT_ZS_df.csv has been created'"
      ]
     },
     "metadata": {},
     "output_type": "display_data"
    },
    {
     "data": {
      "text/plain": [
       "'the file data_SH_DTH_1014_df.csv has been created'"
      ]
     },
     "metadata": {},
     "output_type": "display_data"
    },
    {
     "data": {
      "text/plain": [
       "'the file data_SE_PRM_ENRL_df.csv has been created'"
      ]
     },
     "metadata": {},
     "output_type": "display_data"
    },
    {
     "data": {
      "text/plain": [
       "'the file data_SE_PRM_TCAQ_ZS_df.csv has been created'"
      ]
     },
     "metadata": {},
     "output_type": "display_data"
    },
    {
     "data": {
      "text/plain": [
       "'the file data_SH_STA_BASS_UR_ZS_df.csv has been created'"
      ]
     },
     "metadata": {},
     "output_type": "display_data"
    },
    {
     "data": {
      "text/plain": [
       "'the file data_SH_H2O_SMDW_ZS_df.csv has been created'"
      ]
     },
     "metadata": {},
     "output_type": "display_data"
    },
    {
     "data": {
      "text/plain": [
       "'the file data_SH_H2O_SMDW_RU_ZS_df.csv has been created'"
      ]
     },
     "metadata": {},
     "output_type": "display_data"
    },
    {
     "data": {
      "text/plain": [
       "'the file data_SH_H2O_SMDW_UR_ZS_df.csv has been created'"
      ]
     },
     "metadata": {},
     "output_type": "display_data"
    },
    {
     "data": {
      "text/plain": [
       "'the file data_SH_STA_SMSS_ZS_df.csv has been created'"
      ]
     },
     "metadata": {},
     "output_type": "display_data"
    },
    {
     "data": {
      "text/plain": [
       "'the file data_SE_SEC_UNER_LO_ZS_df.csv has been created'"
      ]
     },
     "metadata": {},
     "output_type": "display_data"
    },
    {
     "data": {
      "text/plain": [
       "'the file data_SE_XPD_SECO_PC_ZS_df.csv has been created'"
      ]
     },
     "metadata": {},
     "output_type": "display_data"
    },
    {
     "data": {
      "text/plain": [
       "'the file data_SE_SEC_TCAQ_LO_MA_ZS_df.csv has been created'"
      ]
     },
     "metadata": {},
     "output_type": "display_data"
    },
    {
     "data": {
      "text/plain": [
       "'the file data_EG_USE_COMM_FO_ZS_df.csv has been created'"
      ]
     },
     "metadata": {},
     "output_type": "display_data"
    },
    {
     "data": {
      "text/plain": [
       "'the file data_SH_STA_SMSS_RU_ZS_df.csv has been created'"
      ]
     },
     "metadata": {},
     "output_type": "display_data"
    },
    {
     "data": {
      "text/plain": [
       "'the file data_SH_STA_SMSS_UR_ZS_df.csv has been created'"
      ]
     },
     "metadata": {},
     "output_type": "display_data"
    },
    {
     "data": {
      "text/plain": [
       "'the file data_SH_STA_HYGN_ZS_df.csv has been created'"
      ]
     },
     "metadata": {},
     "output_type": "display_data"
    },
    {
     "data": {
      "text/plain": [
       "'the file data_SH_STA_HYGN_RU_ZS_df.csv has been created'"
      ]
     },
     "metadata": {},
     "output_type": "display_data"
    },
    {
     "data": {
      "text/plain": [
       "'the file data_SH_STA_HYGN_UR_ZS_df.csv has been created'"
      ]
     },
     "metadata": {},
     "output_type": "display_data"
    },
    {
     "data": {
      "text/plain": [
       "'the file data_EN_HPT_THRD_NO_df.csv has been created'"
      ]
     },
     "metadata": {},
     "output_type": "display_data"
    },
    {
     "data": {
      "text/plain": [
       "'the file data_EN_POP_SLUM_UR_ZS_df.csv has been created'"
      ]
     },
     "metadata": {},
     "output_type": "display_data"
    },
    {
     "data": {
      "text/plain": [
       "'the file data_SE_SEC_ENRL_TC_ZS_df.csv has been created'"
      ]
     },
     "metadata": {},
     "output_type": "display_data"
    },
    {
     "data": {
      "text/plain": [
       "'the file data_NY_GDP_TOTL_RT_ZS_df.csv has been created'"
      ]
     },
     "metadata": {},
     "output_type": "display_data"
    },
    {
     "data": {
      "text/plain": [
       "'the file data_ER_H2O_INTR_PC_df.csv has been created'"
      ]
     },
     "metadata": {},
     "output_type": "display_data"
    },
    {
     "data": {
      "text/plain": [
       "'the file data_ER_FSH_PROD_MT_df.csv has been created'"
      ]
     },
     "metadata": {},
     "output_type": "display_data"
    },
    {
     "data": {
      "text/plain": [
       "'the file data_AG_LND_TOTL_UR_K2_df.csv has been created'"
      ]
     },
     "metadata": {},
     "output_type": "display_data"
    },
    {
     "data": {
      "text/plain": [
       "'the file data_DT_TDS_DPPF_XP_ZS_df.csv has been created'"
      ]
     },
     "metadata": {},
     "output_type": "display_data"
    },
    {
     "data": {
      "text/plain": [
       "'the file data_DT_TDS_DPPG_CD_df.csv has been created'"
      ]
     },
     "metadata": {},
     "output_type": "display_data"
    },
    {
     "data": {
      "text/plain": [
       "'the file data_DT_DOD_MWBG_CD_df.csv has been created'"
      ]
     },
     "metadata": {},
     "output_type": "display_data"
    },
    {
     "data": {
      "text/plain": [
       "'the file data_DT_NFL_NIFC_CD_df.csv has been created'"
      ]
     },
     "metadata": {},
     "output_type": "display_data"
    },
    {
     "data": {
      "text/plain": [
       "'the file data_DT_TDS_DIMF_CD_df.csv has been created'"
      ]
     },
     "metadata": {},
     "output_type": "display_data"
    },
    {
     "data": {
      "text/plain": [
       "'the file data_DT_TDS_MLAT_PG_ZS_df.csv has been created'"
      ]
     },
     "metadata": {},
     "output_type": "display_data"
    },
    {
     "data": {
      "text/plain": [
       "'the file data_DT_TDS_MLAT_CD_df.csv has been created'"
      ]
     },
     "metadata": {},
     "output_type": "display_data"
    },
    {
     "data": {
      "text/plain": [
       "'the file data_DT_NFL_MIBR_CD_df.csv has been created'"
      ]
     },
     "metadata": {},
     "output_type": "display_data"
    },
    {
     "data": {
      "text/plain": [
       "'the file data_DT_NFL_MIDA_CD_df.csv has been created'"
      ]
     },
     "metadata": {},
     "output_type": "display_data"
    },
    {
     "data": {
      "text/plain": [
       "'the file data_SE_XPD_PRIM_PC_ZS_df.csv has been created'"
      ]
     },
     "metadata": {},
     "output_type": "display_data"
    },
    {
     "data": {
      "text/plain": [
       "'the file data_SE_SEC_DURS_df.csv has been created'"
      ]
     },
     "metadata": {},
     "output_type": "display_data"
    },
    {
     "data": {
      "text/plain": [
       "'the file data_SH_STA_ODFC_ZS_df.csv has been created'"
      ]
     },
     "metadata": {},
     "output_type": "display_data"
    },
    {
     "data": {
      "text/plain": [
       "'the file data_DT_NFL_IMFC_CD_df.csv has been created'"
      ]
     },
     "metadata": {},
     "output_type": "display_data"
    },
    {
     "data": {
      "text/plain": [
       "'the file data_DT_NFL_IMFN_CD_df.csv has been created'"
      ]
     },
     "metadata": {},
     "output_type": "display_data"
    },
    {
     "data": {
      "text/plain": [
       "'the file data_DT_NFL_RDBC_CD_df.csv has been created'"
      ]
     },
     "metadata": {},
     "output_type": "display_data"
    },
    {
     "data": {
      "text/plain": [
       "'the file data_DT_NFL_RDBN_CD_df.csv has been created'"
      ]
     },
     "metadata": {},
     "output_type": "display_data"
    },
    {
     "data": {
      "text/plain": [
       "'the file data_DT_NFL_DPNG_CD_df.csv has been created'"
      ]
     },
     "metadata": {},
     "output_type": "display_data"
    },
    {
     "data": {
      "text/plain": [
       "'the file data_DT_NFL_PNGB_CD_df.csv has been created'"
      ]
     },
     "metadata": {},
     "output_type": "display_data"
    },
    {
     "data": {
      "text/plain": [
       "'the file data_DT_NFL_PNGC_CD_df.csv has been created'"
      ]
     },
     "metadata": {},
     "output_type": "display_data"
    },
    {
     "data": {
      "text/plain": [
       "'the file data_DT_DOD_MIBR_CD_df.csv has been created'"
      ]
     },
     "metadata": {},
     "output_type": "display_data"
    },
    {
     "data": {
      "text/plain": [
       "'the file data_DT_DOD_MIDA_CD_df.csv has been created'"
      ]
     },
     "metadata": {},
     "output_type": "display_data"
    },
    {
     "data": {
      "text/plain": [
       "'the file data_SE_PRM_ENRL_FE_ZS_df.csv has been created'"
      ]
     },
     "metadata": {},
     "output_type": "display_data"
    },
    {
     "data": {
      "text/plain": [
       "'the file data_SE_SEC_ENRR_MA_df.csv has been created'"
      ]
     },
     "metadata": {},
     "output_type": "display_data"
    },
    {
     "data": {
      "text/plain": [
       "'the file data_SE_SEC_ENRL_GC_FE_ZS_df.csv has been created'"
      ]
     },
     "metadata": {},
     "output_type": "display_data"
    },
    {
     "data": {
      "text/plain": [
       "'the file data_TX_VAL_MMTL_ZS_UN_df.csv has been created'"
      ]
     },
     "metadata": {},
     "output_type": "display_data"
    },
    {
     "data": {
      "text/plain": [
       "'the file data_SH_STA_POIS_P5_df.csv has been created'"
      ]
     },
     "metadata": {},
     "output_type": "display_data"
    },
    {
     "data": {
      "text/plain": [
       "'the file data_DT_DOD_DLXF_CD_df.csv has been created'"
      ]
     },
     "metadata": {},
     "output_type": "display_data"
    },
    {
     "data": {
      "text/plain": [
       "'the file data_DT_NFL_PCBK_CD_df.csv has been created'"
      ]
     },
     "metadata": {},
     "output_type": "display_data"
    },
    {
     "data": {
      "text/plain": [
       "'the file data_DT_NFL_OFFT_CD_df.csv has been created'"
      ]
     },
     "metadata": {},
     "output_type": "display_data"
    },
    {
     "data": {
      "text/plain": [
       "'the file data_DT_NFL_PROP_CD_df.csv has been created'"
      ]
     },
     "metadata": {},
     "output_type": "display_data"
    },
    {
     "data": {
      "text/plain": [
       "'the file data_DT_NFL_PRVT_CD_df.csv has been created'"
      ]
     },
     "metadata": {},
     "output_type": "display_data"
    },
    {
     "data": {
      "text/plain": [
       "'the file data_SE_PRM_DURS_df.csv has been created'"
      ]
     },
     "metadata": {},
     "output_type": "display_data"
    },
    {
     "data": {
      "text/plain": [
       "'the file data_SE_SEC_TCAQ_LO_FE_ZS_df.csv has been created'"
      ]
     },
     "metadata": {},
     "output_type": "display_data"
    },
    {
     "data": {
      "text/plain": [
       "'the file data_DT_NFL_BOND_CD_df.csv has been created'"
      ]
     },
     "metadata": {},
     "output_type": "display_data"
    },
    {
     "data": {
      "text/plain": [
       "'the file data_DT_TDS_DPPG_GN_ZS_df.csv has been created'"
      ]
     },
     "metadata": {},
     "output_type": "display_data"
    },
    {
     "data": {
      "text/plain": [
       "'the file data_DT_TDS_DPPG_XP_ZS_df.csv has been created'"
      ]
     },
     "metadata": {},
     "output_type": "display_data"
    },
    {
     "data": {
      "text/plain": [
       "'the file data_FI_RES_TOTL_DT_ZS_df.csv has been created'"
      ]
     },
     "metadata": {},
     "output_type": "display_data"
    },
    {
     "data": {
      "text/plain": [
       "'the file data_FI_RES_TOTL_MO_df.csv has been created'"
      ]
     },
     "metadata": {},
     "output_type": "display_data"
    },
    {
     "data": {
      "text/plain": [
       "'the file data_DT_DOD_DIMF_CD_df.csv has been created'"
      ]
     },
     "metadata": {},
     "output_type": "display_data"
    },
    {
     "data": {
      "text/plain": [
       "'the file data_FX_OWN_TOTL_ZS_df.csv has been created'"
      ]
     },
     "metadata": {},
     "output_type": "display_data"
    },
    {
     "data": {
      "text/plain": [
       "'the file data_FX_OWN_TOTL_FE_ZS_df.csv has been created'"
      ]
     },
     "metadata": {},
     "output_type": "display_data"
    },
    {
     "data": {
      "text/plain": [
       "'the file data_FX_OWN_TOTL_MA_ZS_df.csv has been created'"
      ]
     },
     "metadata": {},
     "output_type": "display_data"
    },
    {
     "data": {
      "text/plain": [
       "'the file data_FX_OWN_TOTL_OL_ZS_df.csv has been created'"
      ]
     },
     "metadata": {},
     "output_type": "display_data"
    },
    {
     "data": {
      "text/plain": [
       "'the file data_FX_OWN_TOTL_PL_ZS_df.csv has been created'"
      ]
     },
     "metadata": {},
     "output_type": "display_data"
    },
    {
     "data": {
      "text/plain": [
       "'the file data_SE_ENR_TERT_FM_ZS_df.csv has been created'"
      ]
     },
     "metadata": {},
     "output_type": "display_data"
    },
    {
     "data": {
      "text/plain": [
       "'the file data_SE_SEC_TCHR_df.csv has been created'"
      ]
     },
     "metadata": {},
     "output_type": "display_data"
    },
    {
     "data": {
      "text/plain": [
       "'the file data_NY_GDP_NGAS_RT_ZS_df.csv has been created'"
      ]
     },
     "metadata": {},
     "output_type": "display_data"
    },
    {
     "data": {
      "text/plain": [
       "'the file data_NY_GDP_FRST_RT_ZS_df.csv has been created'"
      ]
     },
     "metadata": {},
     "output_type": "display_data"
    },
    {
     "data": {
      "text/plain": [
       "'the file data_FX_OWN_TOTL_60_ZS_df.csv has been created'"
      ]
     },
     "metadata": {},
     "output_type": "display_data"
    },
    {
     "data": {
      "text/plain": [
       "'the file data_FX_OWN_TOTL_YG_ZS_df.csv has been created'"
      ]
     },
     "metadata": {},
     "output_type": "display_data"
    },
    {
     "data": {
      "text/plain": [
       "'the file data_SI_RMT_COST_OB_ZS_df.csv has been created'"
      ]
     },
     "metadata": {},
     "output_type": "display_data"
    },
    {
     "data": {
      "text/plain": [
       "'the file data_SI_RMT_COST_IB_ZS_df.csv has been created'"
      ]
     },
     "metadata": {},
     "output_type": "display_data"
    },
    {
     "data": {
      "text/plain": [
       "'the file data_FB_BNK_CAPA_ZS_df.csv has been created'"
      ]
     },
     "metadata": {},
     "output_type": "display_data"
    },
    {
     "data": {
      "text/plain": [
       "'the file data_FB_AST_NPER_ZS_df.csv has been created'"
      ]
     },
     "metadata": {},
     "output_type": "display_data"
    },
    {
     "data": {
      "text/plain": [
       "'the file data_FB_CBK_BRWR_P3_df.csv has been created'"
      ]
     },
     "metadata": {},
     "output_type": "display_data"
    },
    {
     "data": {
      "text/plain": [
       "'the file data_FM_LBL_BMNY_GD_ZS_df.csv has been created'"
      ]
     },
     "metadata": {},
     "output_type": "display_data"
    },
    {
     "data": {
      "text/plain": [
       "'the file data_FM_LBL_BMNY_CN_df.csv has been created'"
      ]
     },
     "metadata": {},
     "output_type": "display_data"
    },
    {
     "data": {
      "text/plain": [
       "'the file data_SE_PRE_TCAQ_FE_ZS_df.csv has been created'"
      ]
     },
     "metadata": {},
     "output_type": "display_data"
    },
    {
     "data": {
      "text/plain": [
       "'the file data_SL_UEM_TOTL_FE_ZS_df.csv has been created'"
      ]
     },
     "metadata": {},
     "output_type": "display_data"
    },
    {
     "data": {
      "text/plain": [
       "'the file data_IC_ELC_DURS_df.csv has been created'"
      ]
     },
     "metadata": {},
     "output_type": "display_data"
    },
    {
     "data": {
      "text/plain": [
       "'the file data_DT_NFL_PCBO_CD_df.csv has been created'"
      ]
     },
     "metadata": {},
     "output_type": "display_data"
    },
    {
     "data": {
      "text/plain": [
       "'the file data_DT_NFL_MOTH_CD_df.csv has been created'"
      ]
     },
     "metadata": {},
     "output_type": "display_data"
    },
    {
     "data": {
      "text/plain": [
       "'the file data_FM_LBL_BMNY_ZG_df.csv has been created'"
      ]
     },
     "metadata": {},
     "output_type": "display_data"
    },
    {
     "data": {
      "text/plain": [
       "'the file data_FM_LBL_BMNY_IR_ZS_df.csv has been created'"
      ]
     },
     "metadata": {},
     "output_type": "display_data"
    },
    {
     "data": {
      "text/plain": [
       "'the file data_FS_AST_CGOV_GD_ZS_df.csv has been created'"
      ]
     },
     "metadata": {},
     "output_type": "display_data"
    },
    {
     "data": {
      "text/plain": [
       "'the file data_FS_AST_DOMO_GD_ZS_df.csv has been created'"
      ]
     },
     "metadata": {},
     "output_type": "display_data"
    },
    {
     "data": {
      "text/plain": [
       "'the file data_FM_AST_DOMO_ZG_M3_df.csv has been created'"
      ]
     },
     "metadata": {},
     "output_type": "display_data"
    },
    {
     "data": {
      "text/plain": [
       "'the file data_FM_AST_PRVT_ZG_M3_df.csv has been created'"
      ]
     },
     "metadata": {},
     "output_type": "display_data"
    },
    {
     "data": {
      "text/plain": [
       "'the file data_FP_CPI_TOTL_df.csv has been created'"
      ]
     },
     "metadata": {},
     "output_type": "display_data"
    },
    {
     "data": {
      "text/plain": [
       "'the file data_FR_INR_DPST_df.csv has been created'"
      ]
     },
     "metadata": {},
     "output_type": "display_data"
    },
    {
     "data": {
      "text/plain": [
       "'the file data_IC_FRM_BNKS_ZS_df.csv has been created'"
      ]
     },
     "metadata": {},
     "output_type": "display_data"
    },
    {
     "data": {
      "text/plain": [
       "'the file data_DT_NFL_PBND_CD_df.csv has been created'"
      ]
     },
     "metadata": {},
     "output_type": "display_data"
    },
    {
     "data": {
      "text/plain": [
       "'the file data_FX_OWN_TOTL_40_ZS_df.csv has been created'"
      ]
     },
     "metadata": {},
     "output_type": "display_data"
    },
    {
     "data": {
      "text/plain": [
       "'the file data_FB_CBK_DPTR_P3_df.csv has been created'"
      ]
     },
     "metadata": {},
     "output_type": "display_data"
    },
    {
     "data": {
      "text/plain": [
       "'the file data_IC_CRD_INFO_XQ_df.csv has been created'"
      ]
     },
     "metadata": {},
     "output_type": "display_data"
    },
    {
     "data": {
      "text/plain": [
       "'the file data_FS_AST_DOMS_GD_ZS_df.csv has been created'"
      ]
     },
     "metadata": {},
     "output_type": "display_data"
    },
    {
     "data": {
      "text/plain": [
       "'the file data_FS_AST_PRVT_GD_ZS_df.csv has been created'"
      ]
     },
     "metadata": {},
     "output_type": "display_data"
    },
    {
     "data": {
      "text/plain": [
       "'the file data_FD_AST_PRVT_GD_ZS_df.csv has been created'"
      ]
     },
     "metadata": {},
     "output_type": "display_data"
    },
    {
     "data": {
      "text/plain": [
       "'the file data_NY_GDP_DEFL_ZS_AD_df.csv has been created'"
      ]
     },
     "metadata": {},
     "output_type": "display_data"
    },
    {
     "data": {
      "text/plain": [
       "'the file data_NY_GDP_DEFL_KD_ZG_AD_df.csv has been created'"
      ]
     },
     "metadata": {},
     "output_type": "display_data"
    },
    {
     "data": {
      "text/plain": [
       "'the file data_EP_PMP_SGAS_CD_df.csv has been created'"
      ]
     },
     "metadata": {},
     "output_type": "display_data"
    },
    {
     "data": {
      "text/plain": [
       "'the file data_NY_GDP_COAL_RT_ZS_df.csv has been created'"
      ]
     },
     "metadata": {},
     "output_type": "display_data"
    },
    {
     "data": {
      "text/plain": [
       "'the file data_EN_FSH_THRD_NO_df.csv has been created'"
      ]
     },
     "metadata": {},
     "output_type": "display_data"
    },
    {
     "data": {
      "text/plain": [
       "'the file data_FB_ATM_TOTL_P5_df.csv has been created'"
      ]
     },
     "metadata": {},
     "output_type": "display_data"
    },
    {
     "data": {
      "text/plain": [
       "'the file data_FB_CBK_BRCH_P5_df.csv has been created'"
      ]
     },
     "metadata": {},
     "output_type": "display_data"
    },
    {
     "data": {
      "text/plain": [
       "'the file data_SM_POP_TOTL_ZS_df.csv has been created'"
      ]
     },
     "metadata": {},
     "output_type": "display_data"
    },
    {
     "data": {
      "text/plain": [
       "'the file data_SM_POP_TOTL_df.csv has been created'"
      ]
     },
     "metadata": {},
     "output_type": "display_data"
    },
    {
     "data": {
      "text/plain": [
       "'the file data_CM_MKT_LCAP_CD_df.csv has been created'"
      ]
     },
     "metadata": {},
     "output_type": "display_data"
    },
    {
     "data": {
      "text/plain": [
       "'the file data_FM_AST_PRVT_GD_ZS_df.csv has been created'"
      ]
     },
     "metadata": {},
     "output_type": "display_data"
    },
    {
     "data": {
      "text/plain": [
       "'the file data_EN_ATM_METH_EG_KT_CE_df.csv has been created'"
      ]
     },
     "metadata": {},
     "output_type": "display_data"
    },
    {
     "data": {
      "text/plain": [
       "'the file data_EP_PMP_DESL_CD_df.csv has been created'"
      ]
     },
     "metadata": {},
     "output_type": "display_data"
    },
    {
     "data": {
      "text/plain": [
       "'the file data_ER_FSH_CAPT_MT_df.csv has been created'"
      ]
     },
     "metadata": {},
     "output_type": "display_data"
    },
    {
     "data": {
      "text/plain": [
       "'the file data_EN_ATM_PM25_MC_T1_ZS_df.csv has been created'"
      ]
     },
     "metadata": {},
     "output_type": "display_data"
    },
    {
     "data": {
      "text/plain": [
       "'the file data_IC_CRD_PRVT_ZS_df.csv has been created'"
      ]
     },
     "metadata": {},
     "output_type": "display_data"
    },
    {
     "data": {
      "text/plain": [
       "'the file data_IC_CRD_PUBL_ZS_df.csv has been created'"
      ]
     },
     "metadata": {},
     "output_type": "display_data"
    },
    {
     "data": {
      "text/plain": [
       "'the file data_FR_INR_RINR_df.csv has been created'"
      ]
     },
     "metadata": {},
     "output_type": "display_data"
    },
    {
     "data": {
      "text/plain": [
       "'the file data_CM_MKT_TRAD_GD_ZS_df.csv has been created'"
      ]
     },
     "metadata": {},
     "output_type": "display_data"
    },
    {
     "data": {
      "text/plain": [
       "'the file data_CM_MKT_TRAD_CD_df.csv has been created'"
      ]
     },
     "metadata": {},
     "output_type": "display_data"
    },
    {
     "data": {
      "text/plain": [
       "'the file data_CM_MKT_TRNR_df.csv has been created'"
      ]
     },
     "metadata": {},
     "output_type": "display_data"
    },
    {
     "data": {
      "text/plain": [
       "'the file data_IC_LGL_CRED_XQ_df.csv has been created'"
      ]
     },
     "metadata": {},
     "output_type": "display_data"
    },
    {
     "data": {
      "text/plain": [
       "'the file data_FP_WPI_TOTL_df.csv has been created'"
      ]
     },
     "metadata": {},
     "output_type": "display_data"
    },
    {
     "data": {
      "text/plain": [
       "'the file data_ER_FSH_AQUA_MT_df.csv has been created'"
      ]
     },
     "metadata": {},
     "output_type": "display_data"
    },
    {
     "data": {
      "text/plain": [
       "'the file data_FD_RES_LIQU_AS_ZS_df.csv has been created'"
      ]
     },
     "metadata": {},
     "output_type": "display_data"
    },
    {
     "data": {
      "text/plain": [
       "'the file data_CM_MKT_LCAP_GD_ZS_df.csv has been created'"
      ]
     },
     "metadata": {},
     "output_type": "display_data"
    },
    {
     "data": {
      "text/plain": [
       "'the file data_SL_AGR_0714_FE_ZS_df.csv has been created'"
      ]
     },
     "metadata": {},
     "output_type": "display_data"
    },
    {
     "data": {
      "text/plain": [
       "'the file data_SL_AGR_0714_MA_ZS_df.csv has been created'"
      ]
     },
     "metadata": {},
     "output_type": "display_data"
    },
    {
     "data": {
      "text/plain": [
       "'the file data_SL_MNF_0714_FE_ZS_df.csv has been created'"
      ]
     },
     "metadata": {},
     "output_type": "display_data"
    },
    {
     "data": {
      "text/plain": [
       "'the file data_SL_SRV_0714_FE_ZS_df.csv has been created'"
      ]
     },
     "metadata": {},
     "output_type": "display_data"
    },
    {
     "data": {
      "text/plain": [
       "'the file data_SL_SRV_0714_MA_ZS_df.csv has been created'"
      ]
     },
     "metadata": {},
     "output_type": "display_data"
    },
    {
     "data": {
      "text/plain": [
       "'the file data_SL_TLF_0714_SW_FE_ZS_df.csv has been created'"
      ]
     },
     "metadata": {},
     "output_type": "display_data"
    },
    {
     "data": {
      "text/plain": [
       "'the file data_SL_TLF_0714_SW_MA_ZS_df.csv has been created'"
      ]
     },
     "metadata": {},
     "output_type": "display_data"
    },
    {
     "data": {
      "text/plain": [
       "'the file data_SL_TLF_0714_MA_ZS_df.csv has been created'"
      ]
     },
     "metadata": {},
     "output_type": "display_data"
    },
    {
     "data": {
      "text/plain": [
       "'the file data_EN_MAM_THRD_NO_df.csv has been created'"
      ]
     },
     "metadata": {},
     "output_type": "display_data"
    },
    {
     "data": {
      "text/plain": [
       "'the file data_DT_TDS_DECT_CD_df.csv has been created'"
      ]
     },
     "metadata": {},
     "output_type": "display_data"
    },
    {
     "data": {
      "text/plain": [
       "'the file data_SL_TLF_0714_WK_FE_ZS_df.csv has been created'"
      ]
     },
     "metadata": {},
     "output_type": "display_data"
    },
    {
     "data": {
      "text/plain": [
       "'the file data_SL_TLF_0714_WK_MA_ZS_df.csv has been created'"
      ]
     },
     "metadata": {},
     "output_type": "display_data"
    },
    {
     "data": {
      "text/plain": [
       "'the file data_SH_CON_1524_FE_ZS_df.csv has been created'"
      ]
     },
     "metadata": {},
     "output_type": "display_data"
    },
    {
     "data": {
      "text/plain": [
       "'the file data_SH_CON_1524_MA_ZS_df.csv has been created'"
      ]
     },
     "metadata": {},
     "output_type": "display_data"
    },
    {
     "data": {
      "text/plain": [
       "'the file data_SP_DYN_CONU_ZS_df.csv has been created'"
      ]
     },
     "metadata": {},
     "output_type": "display_data"
    },
    {
     "data": {
      "text/plain": [
       "'the file data_SL_FAM_WORK_FE_ZS_df.csv has been created'"
      ]
     },
     "metadata": {},
     "output_type": "display_data"
    },
    {
     "data": {
      "text/plain": [
       "'the file data_SL_FAM_WORK_MA_ZS_df.csv has been created'"
      ]
     },
     "metadata": {},
     "output_type": "display_data"
    },
    {
     "data": {
      "text/plain": [
       "'the file data_SL_EMP_MPYR_FE_ZS_df.csv has been created'"
      ]
     },
     "metadata": {},
     "output_type": "display_data"
    },
    {
     "data": {
      "text/plain": [
       "'the file data_SL_EMP_MPYR_MA_ZS_df.csv has been created'"
      ]
     },
     "metadata": {},
     "output_type": "display_data"
    },
    {
     "data": {
      "text/plain": [
       "'the file data_SL_IND_EMPL_FE_ZS_df.csv has been created'"
      ]
     },
     "metadata": {},
     "output_type": "display_data"
    },
    {
     "data": {
      "text/plain": [
       "'the file data_ER_GDP_FWTL_M3_KD_df.csv has been created'"
      ]
     },
     "metadata": {},
     "output_type": "display_data"
    },
    {
     "data": {
      "text/plain": [
       "'the file data_DT_DOD_DPPG_CD_df.csv has been created'"
      ]
     },
     "metadata": {},
     "output_type": "display_data"
    },
    {
     "data": {
      "text/plain": [
       "'the file data_SL_IND_EMPL_MA_ZS_df.csv has been created'"
      ]
     },
     "metadata": {},
     "output_type": "display_data"
    },
    {
     "data": {
      "text/plain": [
       "'the file data_SL_SRV_EMPL_FE_ZS_df.csv has been created'"
      ]
     },
     "metadata": {},
     "output_type": "display_data"
    },
    {
     "data": {
      "text/plain": [
       "'the file data_SL_EMP_TOTL_SP_MA_ZS_df.csv has been created'"
      ]
     },
     "metadata": {},
     "output_type": "display_data"
    },
    {
     "data": {
      "text/plain": [
       "'the file data_SL_EMP_1524_SP_FE_ZS_df.csv has been created'"
      ]
     },
     "metadata": {},
     "output_type": "display_data"
    },
    {
     "data": {
      "text/plain": [
       "'the file data_SL_EMP_1524_SP_MA_ZS_df.csv has been created'"
      ]
     },
     "metadata": {},
     "output_type": "display_data"
    },
    {
     "data": {
      "text/plain": [
       "'the file data_SP_DYN_TFRT_IN_df.csv has been created'"
      ]
     },
     "metadata": {},
     "output_type": "display_data"
    },
    {
     "data": {
      "text/plain": [
       "'the file data_IC_FRM_FEMO_ZS_df.csv has been created'"
      ]
     },
     "metadata": {},
     "output_type": "display_data"
    },
    {
     "data": {
      "text/plain": [
       "'the file data_IC_FRM_FEMM_ZS_df.csv has been created'"
      ]
     },
     "metadata": {},
     "output_type": "display_data"
    },
    {
     "data": {
      "text/plain": [
       "'the file data_ER_H2O_INTR_K3_df.csv has been created'"
      ]
     },
     "metadata": {},
     "output_type": "display_data"
    },
    {
     "data": {
      "text/plain": [
       "'the file data_DT_NFL_BLAT_CD_df.csv has been created'"
      ]
     },
     "metadata": {},
     "output_type": "display_data"
    },
    {
     "data": {
      "text/plain": [
       "'the file data_FM_AST_DOMS_CN_df.csv has been created'"
      ]
     },
     "metadata": {},
     "output_type": "display_data"
    },
    {
     "data": {
      "text/plain": [
       "'the file data_SL_MNF_0714_MA_ZS_df.csv has been created'"
      ]
     },
     "metadata": {},
     "output_type": "display_data"
    },
    {
     "data": {
      "text/plain": [
       "'the file data_SL_TLF_CACT_MA_ZS_df.csv has been created'"
      ]
     },
     "metadata": {},
     "output_type": "display_data"
    },
    {
     "data": {
      "text/plain": [
       "'the file data_SP_DYN_LE00_FE_IN_df.csv has been created'"
      ]
     },
     "metadata": {},
     "output_type": "display_data"
    },
    {
     "data": {
      "text/plain": [
       "'the file data_SH_MMR_RISK_ZS_df.csv has been created'"
      ]
     },
     "metadata": {},
     "output_type": "display_data"
    },
    {
     "data": {
      "text/plain": [
       "'the file data_SH_MMR_RISK_df.csv has been created'"
      ]
     },
     "metadata": {},
     "output_type": "display_data"
    },
    {
     "data": {
      "text/plain": [
       "'the file data_SH_STA_MMRT_NE_df.csv has been created'"
      ]
     },
     "metadata": {},
     "output_type": "display_data"
    },
    {
     "data": {
      "text/plain": [
       "'the file data_SP_DYN_AMRT_FE_df.csv has been created'"
      ]
     },
     "metadata": {},
     "output_type": "display_data"
    },
    {
     "data": {
      "text/plain": [
       "'the file data_SP_DYN_AMRT_MA_df.csv has been created'"
      ]
     },
     "metadata": {},
     "output_type": "display_data"
    },
    {
     "data": {
      "text/plain": [
       "'the file data_DT_DOD_DSTC_CD_df.csv has been created'"
      ]
     },
     "metadata": {},
     "output_type": "display_data"
    },
    {
     "data": {
      "text/plain": [
       "'the file data_FR_INR_LNDP_df.csv has been created'"
      ]
     },
     "metadata": {},
     "output_type": "display_data"
    },
    {
     "data": {
      "text/plain": [
       "'the file data_SL_EMP_TOTL_SP_FE_ZS_df.csv has been created'"
      ]
     },
     "metadata": {},
     "output_type": "display_data"
    },
    {
     "data": {
      "text/plain": [
       "'the file data_SH_HIV_1524_FE_ZS_df.csv has been created'"
      ]
     },
     "metadata": {},
     "output_type": "display_data"
    },
    {
     "data": {
      "text/plain": [
       "'the file data_SH_HIV_1524_MA_ZS_df.csv has been created'"
      ]
     },
     "metadata": {},
     "output_type": "display_data"
    },
    {
     "data": {
      "text/plain": [
       "'the file data_SH_PRV_SMOK_FE_df.csv has been created'"
      ]
     },
     "metadata": {},
     "output_type": "display_data"
    },
    {
     "data": {
      "text/plain": [
       "'the file data_SH_PRV_SMOK_MA_df.csv has been created'"
      ]
     },
     "metadata": {},
     "output_type": "display_data"
    },
    {
     "data": {
      "text/plain": [
       "'the file data_SH_STA_MALN_FE_ZS_df.csv has been created'"
      ]
     },
     "metadata": {},
     "output_type": "display_data"
    },
    {
     "data": {
      "text/plain": [
       "'the file data_SP_POP_2024_FE_5Y_df.csv has been created'"
      ]
     },
     "metadata": {},
     "output_type": "display_data"
    },
    {
     "data": {
      "text/plain": [
       "'the file data_SG_TIM_UWRK_FE_df.csv has been created'"
      ]
     },
     "metadata": {},
     "output_type": "display_data"
    },
    {
     "data": {
      "text/plain": [
       "'the file data_DT_NFL_MLAT_CD_df.csv has been created'"
      ]
     },
     "metadata": {},
     "output_type": "display_data"
    },
    {
     "data": {
      "text/plain": [
       "'the file data_FX_OWN_TOTL_SO_ZS_df.csv has been created'"
      ]
     },
     "metadata": {},
     "output_type": "display_data"
    },
    {
     "data": {
      "text/plain": [
       "'the file data_SL_TLF_0714_FE_ZS_df.csv has been created'"
      ]
     },
     "metadata": {},
     "output_type": "display_data"
    },
    {
     "data": {
      "text/plain": [
       "'the file data_SG_TIM_UWRK_MA_df.csv has been created'"
      ]
     },
     "metadata": {},
     "output_type": "display_data"
    },
    {
     "data": {
      "text/plain": [
       "'the file data_SL_EMP_SELF_FE_ZS_df.csv has been created'"
      ]
     },
     "metadata": {},
     "output_type": "display_data"
    },
    {
     "data": {
      "text/plain": [
       "'the file data_SL_EMP_SELF_MA_ZS_df.csv has been created'"
      ]
     },
     "metadata": {},
     "output_type": "display_data"
    },
    {
     "data": {
      "text/plain": [
       "'the file data_SP_DYN_TO65_FE_ZS_df.csv has been created'"
      ]
     },
     "metadata": {},
     "output_type": "display_data"
    },
    {
     "data": {
      "text/plain": [
       "'the file data_SP_DYN_TO65_MA_ZS_df.csv has been created'"
      ]
     },
     "metadata": {},
     "output_type": "display_data"
    },
    {
     "data": {
      "text/plain": [
       "'the file data_SL_UEM_1524_MA_ZS_df.csv has been created'"
      ]
     },
     "metadata": {},
     "output_type": "display_data"
    },
    {
     "data": {
      "text/plain": [
       "'the file data_SL_EMP_VULN_FE_ZS_df.csv has been created'"
      ]
     },
     "metadata": {},
     "output_type": "display_data"
    },
    {
     "data": {
      "text/plain": [
       "'the file data_SL_EMP_VULN_MA_ZS_df.csv has been created'"
      ]
     },
     "metadata": {},
     "output_type": "display_data"
    },
    {
     "data": {
      "text/plain": [
       "'the file data_DT_DOD_DSTC_ZS_df.csv has been created'"
      ]
     },
     "metadata": {},
     "output_type": "display_data"
    },
    {
     "data": {
      "text/plain": [
       "'the file data_FM_AST_CGOV_ZG_M3_df.csv has been created'"
      ]
     },
     "metadata": {},
     "output_type": "display_data"
    },
    {
     "data": {
      "text/plain": [
       "'the file data_SP_ADO_TFRT_df.csv has been created'"
      ]
     },
     "metadata": {},
     "output_type": "display_data"
    },
    {
     "data": {
      "text/plain": [
       "'the file data_SL_TLF_PART_MA_ZS_df.csv has been created'"
      ]
     },
     "metadata": {},
     "output_type": "display_data"
    },
    {
     "data": {
      "text/plain": [
       "'the file data_SL_EMP_WORK_FE_ZS_df.csv has been created'"
      ]
     },
     "metadata": {},
     "output_type": "display_data"
    },
    {
     "data": {
      "text/plain": [
       "'the file data_SL_EMP_WORK_MA_ZS_df.csv has been created'"
      ]
     },
     "metadata": {},
     "output_type": "display_data"
    },
    {
     "data": {
      "text/plain": [
       "'the file data_SP_POP_2024_MA_5Y_df.csv has been created'"
      ]
     },
     "metadata": {},
     "output_type": "display_data"
    },
    {
     "data": {
      "text/plain": [
       "'the file data_SG_LAW_INDX_df.csv has been created'"
      ]
     },
     "metadata": {},
     "output_type": "display_data"
    },
    {
     "data": {
      "text/plain": [
       "'the file data_SG_DMK_SRCR_FN_ZS_df.csv has been created'"
      ]
     },
     "metadata": {},
     "output_type": "display_data"
    },
    {
     "data": {
      "text/plain": [
       "'the file data_SG_VAW_REAS_ZS_df.csv has been created'"
      ]
     },
     "metadata": {},
     "output_type": "display_data"
    },
    {
     "data": {
      "text/plain": [
       "'the file data_SG_VAW_ARGU_ZS_df.csv has been created'"
      ]
     },
     "metadata": {},
     "output_type": "display_data"
    },
    {
     "data": {
      "text/plain": [
       "'the file data_SG_VAW_BURN_ZS_df.csv has been created'"
      ]
     },
     "metadata": {},
     "output_type": "display_data"
    },
    {
     "data": {
      "text/plain": [
       "'the file data_SG_VAW_NEGL_ZS_df.csv has been created'"
      ]
     },
     "metadata": {},
     "output_type": "display_data"
    },
    {
     "data": {
      "text/plain": [
       "'the file data_SG_VAW_REFU_ZS_df.csv has been created'"
      ]
     },
     "metadata": {},
     "output_type": "display_data"
    },
    {
     "data": {
      "text/plain": [
       "'the file data_SG_GEN_PARL_ZS_df.csv has been created'"
      ]
     },
     "metadata": {},
     "output_type": "display_data"
    },
    {
     "data": {
      "text/plain": [
       "'the file data_FM_AST_NFRG_CN_df.csv has been created'"
      ]
     },
     "metadata": {},
     "output_type": "display_data"
    },
    {
     "data": {
      "text/plain": [
       "'the file data_PA_NUS_FCRF_df.csv has been created'"
      ]
     },
     "metadata": {},
     "output_type": "display_data"
    },
    {
     "data": {
      "text/plain": [
       "'the file data_SP_M15_2024_FE_ZS_df.csv has been created'"
      ]
     },
     "metadata": {},
     "output_type": "display_data"
    },
    {
     "data": {
      "text/plain": [
       "'the file data_SP_M18_2024_FE_ZS_df.csv has been created'"
      ]
     },
     "metadata": {},
     "output_type": "display_data"
    },
    {
     "data": {
      "text/plain": [
       "'the file data_SH_STA_ARIC_ZS_df.csv has been created'"
      ]
     },
     "metadata": {},
     "output_type": "display_data"
    },
    {
     "data": {
      "text/plain": [
       "'the file data_SP_POP_DPND_df.csv has been created'"
      ]
     },
     "metadata": {},
     "output_type": "display_data"
    },
    {
     "data": {
      "text/plain": [
       "'the file data_SP_POP_DPND_OL_df.csv has been created'"
      ]
     },
     "metadata": {},
     "output_type": "display_data"
    },
    {
     "data": {
      "text/plain": [
       "'the file data_SP_POP_DPND_YG_df.csv has been created'"
      ]
     },
     "metadata": {},
     "output_type": "display_data"
    },
    {
     "data": {
      "text/plain": [
       "'the file data_SP_DYN_CBRT_IN_df.csv has been created'"
      ]
     },
     "metadata": {},
     "output_type": "display_data"
    },
    {
     "data": {
      "text/plain": [
       "'the file data_SH_DTH_COMM_ZS_df.csv has been created'"
      ]
     },
     "metadata": {},
     "output_type": "display_data"
    },
    {
     "data": {
      "text/plain": [
       "'the file data_SH_DTH_INJR_ZS_df.csv has been created'"
      ]
     },
     "metadata": {},
     "output_type": "display_data"
    },
    {
     "data": {
      "text/plain": [
       "'the file data_SH_DTH_NCOM_ZS_df.csv has been created'"
      ]
     },
     "metadata": {},
     "output_type": "display_data"
    },
    {
     "data": {
      "text/plain": [
       "'the file data_FR_INR_LEND_df.csv has been created'"
      ]
     },
     "metadata": {},
     "output_type": "display_data"
    },
    {
     "data": {
      "text/plain": [
       "'the file data_CM_MKT_LDOM_NO_df.csv has been created'"
      ]
     },
     "metadata": {},
     "output_type": "display_data"
    },
    {
     "data": {
      "text/plain": [
       "'the file data_SP_DYN_WFRT_df.csv has been created'"
      ]
     },
     "metadata": {},
     "output_type": "display_data"
    },
    {
     "data": {
      "text/plain": [
       "'the file data_SH_HIV_INCD_df.csv has been created'"
      ]
     },
     "metadata": {},
     "output_type": "display_data"
    },
    {
     "data": {
      "text/plain": [
       "'the file data_SP_REG_BRTH_RU_ZS_df.csv has been created'"
      ]
     },
     "metadata": {},
     "output_type": "display_data"
    },
    {
     "data": {
      "text/plain": [
       "'the file data_SP_REG_BRTH_UR_ZS_df.csv has been created'"
      ]
     },
     "metadata": {},
     "output_type": "display_data"
    },
    {
     "data": {
      "text/plain": [
       "'the file data_SP_REG_DTHS_ZS_df.csv has been created'"
      ]
     },
     "metadata": {},
     "output_type": "display_data"
    },
    {
     "data": {
      "text/plain": [
       "'the file data_SN_ITK_SALT_ZS_df.csv has been created'"
      ]
     },
     "metadata": {},
     "output_type": "display_data"
    },
    {
     "data": {
      "text/plain": [
       "'the file data_SP_DYN_CONM_ZS_df.csv has been created'"
      ]
     },
     "metadata": {},
     "output_type": "display_data"
    },
    {
     "data": {
      "text/plain": [
       "'the file data_SP_POP_2529_FE_5Y_df.csv has been created'"
      ]
     },
     "metadata": {},
     "output_type": "display_data"
    },
    {
     "data": {
      "text/plain": [
       "'the file data_SH_XPD_CHEX_GD_ZS_df.csv has been created'"
      ]
     },
     "metadata": {},
     "output_type": "display_data"
    },
    {
     "data": {
      "text/plain": [
       "'the file data_SH_XPD_CHEX_PC_CD_df.csv has been created'"
      ]
     },
     "metadata": {},
     "output_type": "display_data"
    },
    {
     "data": {
      "text/plain": [
       "'the file data_SH_XPD_CHEX_PP_CD_df.csv has been created'"
      ]
     },
     "metadata": {},
     "output_type": "display_data"
    },
    {
     "data": {
      "text/plain": [
       "'the file data_CM_MKT_INDX_ZG_df.csv has been created'"
      ]
     },
     "metadata": {},
     "output_type": "display_data"
    },
    {
     "data": {
      "text/plain": [
       "'the file data_FR_INR_RISK_df.csv has been created'"
      ]
     },
     "metadata": {},
     "output_type": "display_data"
    },
    {
     "data": {
      "text/plain": [
       "'the file data_SH_STA_BRTC_ZS_df.csv has been created'"
      ]
     },
     "metadata": {},
     "output_type": "display_data"
    },
    {
     "data": {
      "text/plain": [
       "'the file data_SL_TLF_PART_FE_ZS_df.csv has been created'"
      ]
     },
     "metadata": {},
     "output_type": "display_data"
    },
    {
     "data": {
      "text/plain": [
       "'the file data_SH_HIV_ARTC_ZS_df.csv has been created'"
      ]
     },
     "metadata": {},
     "output_type": "display_data"
    },
    {
     "data": {
      "text/plain": [
       "'the file data_SH_MLR_TRET_ZS_df.csv has been created'"
      ]
     },
     "metadata": {},
     "output_type": "display_data"
    },
    {
     "data": {
      "text/plain": [
       "'the file data_SP_DYN_CDRT_IN_df.csv has been created'"
      ]
     },
     "metadata": {},
     "output_type": "display_data"
    },
    {
     "data": {
      "text/plain": [
       "'the file data_SH_STA_DIAB_ZS_df.csv has been created'"
      ]
     },
     "metadata": {},
     "output_type": "display_data"
    },
    {
     "data": {
      "text/plain": [
       "'the file data_SH_STA_ORCF_ZS_df.csv has been created'"
      ]
     },
     "metadata": {},
     "output_type": "display_data"
    },
    {
     "data": {
      "text/plain": [
       "'the file data_SH_STA_ORTH_df.csv has been created'"
      ]
     },
     "metadata": {},
     "output_type": "display_data"
    },
    {
     "data": {
      "text/plain": [
       "'the file data_SH_XPD_GHED_GD_ZS_df.csv has been created'"
      ]
     },
     "metadata": {},
     "output_type": "display_data"
    },
    {
     "data": {
      "text/plain": [
       "'the file data_SP_HOU_FEMA_ZS_df.csv has been created'"
      ]
     },
     "metadata": {},
     "output_type": "display_data"
    },
    {
     "data": {
      "text/plain": [
       "'the file data_SL_TLF_CACT_FE_ZS_df.csv has been created'"
      ]
     },
     "metadata": {},
     "output_type": "display_data"
    },
    {
     "data": {
      "text/plain": [
       "'the file data_SG_VAW_1549_ZS_df.csv has been created'"
      ]
     },
     "metadata": {},
     "output_type": "display_data"
    },
    {
     "data": {
      "text/plain": [
       "'the file data_SP_REG_BRTH_FE_ZS_df.csv has been created'"
      ]
     },
     "metadata": {},
     "output_type": "display_data"
    },
    {
     "data": {
      "text/plain": [
       "'the file data_SH_XPD_GHED_CH_ZS_df.csv has been created'"
      ]
     },
     "metadata": {},
     "output_type": "display_data"
    },
    {
     "data": {
      "text/plain": [
       "'the file data_SH_XPD_GHED_GE_ZS_df.csv has been created'"
      ]
     },
     "metadata": {},
     "output_type": "display_data"
    },
    {
     "data": {
      "text/plain": [
       "'the file data_SH_XPD_GHED_PC_CD_df.csv has been created'"
      ]
     },
     "metadata": {},
     "output_type": "display_data"
    },
    {
     "data": {
      "text/plain": [
       "'the file data_SH_XPD_GHED_PP_CD_df.csv has been created'"
      ]
     },
     "metadata": {},
     "output_type": "display_data"
    },
    {
     "data": {
      "text/plain": [
       "'the file data_SH_XPD_PVTD_CH_ZS_df.csv has been created'"
      ]
     },
     "metadata": {},
     "output_type": "display_data"
    },
    {
     "data": {
      "text/plain": [
       "'the file data_SH_XPD_PVTD_PC_CD_df.csv has been created'"
      ]
     },
     "metadata": {},
     "output_type": "display_data"
    },
    {
     "data": {
      "text/plain": [
       "'the file data_SH_XPD_EHEX_CH_ZS_df.csv has been created'"
      ]
     },
     "metadata": {},
     "output_type": "display_data"
    },
    {
     "data": {
      "text/plain": [
       "'the file data_SH_XPD_EHEX_PC_CD_df.csv has been created'"
      ]
     },
     "metadata": {},
     "output_type": "display_data"
    },
    {
     "data": {
      "text/plain": [
       "'the file data_SL_SRV_EMPL_MA_ZS_df.csv has been created'"
      ]
     },
     "metadata": {},
     "output_type": "display_data"
    },
    {
     "data": {
      "text/plain": [
       "'the file data_SP_MTR_1519_ZS_df.csv has been created'"
      ]
     },
     "metadata": {},
     "output_type": "display_data"
    },
    {
     "data": {
      "text/plain": [
       "'the file data_SP_REG_BRTH_ZS_df.csv has been created'"
      ]
     },
     "metadata": {},
     "output_type": "display_data"
    },
    {
     "data": {
      "text/plain": [
       "'the file data_SH_FPL_SATM_ZS_df.csv has been created'"
      ]
     },
     "metadata": {},
     "output_type": "display_data"
    },
    {
     "data": {
      "text/plain": [
       "'the file data_SH_XPD_EHEX_PP_CD_df.csv has been created'"
      ]
     },
     "metadata": {},
     "output_type": "display_data"
    },
    {
     "data": {
      "text/plain": [
       "'the file data_SH_STA_FGMS_ZS_df.csv has been created'"
      ]
     },
     "metadata": {},
     "output_type": "display_data"
    },
    {
     "data": {
      "text/plain": [
       "'the file data_SH_MED_BEDS_ZS_df.csv has been created'"
      ]
     },
     "metadata": {},
     "output_type": "display_data"
    },
    {
     "data": {
      "text/plain": [
       "'the file data_SH_IMM_IDPT_df.csv has been created'"
      ]
     },
     "metadata": {},
     "output_type": "display_data"
    },
    {
     "data": {
      "text/plain": [
       "'the file data_SH_IMM_HEPB_df.csv has been created'"
      ]
     },
     "metadata": {},
     "output_type": "display_data"
    },
    {
     "data": {
      "text/plain": [
       "'the file data_SH_HIV_INCD_YG_P3_df.csv has been created'"
      ]
     },
     "metadata": {},
     "output_type": "display_data"
    },
    {
     "data": {
      "text/plain": [
       "'the file data_SH_HIV_INCD_TL_P3_df.csv has been created'"
      ]
     },
     "metadata": {},
     "output_type": "display_data"
    },
    {
     "data": {
      "text/plain": [
       "'the file data_SP_DYN_LE00_MA_IN_df.csv has been created'"
      ]
     },
     "metadata": {},
     "output_type": "display_data"
    },
    {
     "data": {
      "text/plain": [
       "'the file data_SG_DMK_ALLD_FN_ZS_df.csv has been created'"
      ]
     },
     "metadata": {},
     "output_type": "display_data"
    },
    {
     "data": {
      "text/plain": [
       "'the file data_SH_XPD_PVTD_PP_CD_df.csv has been created'"
      ]
     },
     "metadata": {},
     "output_type": "display_data"
    },
    {
     "data": {
      "text/plain": [
       "'the file data_SH_UHC_NOP1_ZG_df.csv has been created'"
      ]
     },
     "metadata": {},
     "output_type": "display_data"
    },
    {
     "data": {
      "text/plain": [
       "'the file data_SH_UHC_NOP1_CG_df.csv has been created'"
      ]
     },
     "metadata": {},
     "output_type": "display_data"
    },
    {
     "data": {
      "text/plain": [
       "'the file data_SH_UHC_NOP2_ZG_df.csv has been created'"
      ]
     },
     "metadata": {},
     "output_type": "display_data"
    },
    {
     "data": {
      "text/plain": [
       "'the file data_SH_STA_MALN_MA_ZS_df.csv has been created'"
      ]
     },
     "metadata": {},
     "output_type": "display_data"
    },
    {
     "data": {
      "text/plain": [
       "'the file data_SL_UEM_1524_FE_ZS_df.csv has been created'"
      ]
     },
     "metadata": {},
     "output_type": "display_data"
    },
    {
     "data": {
      "text/plain": [
       "'the file data_SH_DYN_AIDS_FE_ZS_df.csv has been created'"
      ]
     },
     "metadata": {},
     "output_type": "display_data"
    },
    {
     "data": {
      "text/plain": [
       "'the file data_SH_HIV_0014_df.csv has been created'"
      ]
     },
     "metadata": {},
     "output_type": "display_data"
    },
    {
     "data": {
      "text/plain": [
       "'the file data_SH_HIV_INCD_14_df.csv has been created'"
      ]
     },
     "metadata": {},
     "output_type": "display_data"
    },
    {
     "data": {
      "text/plain": [
       "'the file data_SH_STA_BFED_ZS_df.csv has been created'"
      ]
     },
     "metadata": {},
     "output_type": "display_data"
    },
    {
     "data": {
      "text/plain": [
       "'the file data_SH_MLR_INCD_P3_df.csv has been created'"
      ]
     },
     "metadata": {},
     "output_type": "display_data"
    },
    {
     "data": {
      "text/plain": [
       "'the file data_SH_UHC_NOP2_CG_df.csv has been created'"
      ]
     },
     "metadata": {},
     "output_type": "display_data"
    },
    {
     "data": {
      "text/plain": [
       "'the file data_SP_DYN_LE00_IN_df.csv has been created'"
      ]
     },
     "metadata": {},
     "output_type": "display_data"
    },
    {
     "data": {
      "text/plain": [
       "'the file data_SH_STA_TRAF_P5_df.csv has been created'"
      ]
     },
     "metadata": {},
     "output_type": "display_data"
    },
    {
     "data": {
      "text/plain": [
       "'the file data_SH_DYN_NCOM_ZS_df.csv has been created'"
      ]
     },
     "metadata": {},
     "output_type": "display_data"
    },
    {
     "data": {
      "text/plain": [
       "'the file data_SG_VAW_GOES_ZS_df.csv has been created'"
      ]
     },
     "metadata": {},
     "output_type": "display_data"
    },
    {
     "data": {
      "text/plain": [
       "'the file data_SH_HIV_INCD_TL_df.csv has been created'"
      ]
     },
     "metadata": {},
     "output_type": "display_data"
    },
    {
     "data": {
      "text/plain": [
       "'the file data_SH_DYN_NCOM_FE_ZS_df.csv has been created'"
      ]
     },
     "metadata": {},
     "output_type": "display_data"
    },
    {
     "data": {
      "text/plain": [
       "'the file data_SH_DYN_NCOM_MA_ZS_df.csv has been created'"
      ]
     },
     "metadata": {},
     "output_type": "display_data"
    },
    {
     "data": {
      "text/plain": [
       "'the file data_SH_STA_AIRP_FE_P5_df.csv has been created'"
      ]
     },
     "metadata": {},
     "output_type": "display_data"
    },
    {
     "data": {
      "text/plain": [
       "'the file data_SH_STA_AIRP_MA_P5_df.csv has been created'"
      ]
     },
     "metadata": {},
     "output_type": "display_data"
    },
    {
     "data": {
      "text/plain": [
       "'the file data_SP_DYN_IMRT_IN_df.csv has been created'"
      ]
     },
     "metadata": {},
     "output_type": "display_data"
    },
    {
     "data": {
      "text/plain": [
       "'the file data_SP_DYN_IMRT_MA_IN_df.csv has been created'"
      ]
     },
     "metadata": {},
     "output_type": "display_data"
    },
    {
     "data": {
      "text/plain": [
       "'the file data_SH_DYN_NMRT_df.csv has been created'"
      ]
     },
     "metadata": {},
     "output_type": "display_data"
    },
    {
     "data": {
      "text/plain": [
       "'the file data_SH_DYN_MORT_FE_df.csv has been created'"
      ]
     },
     "metadata": {},
     "output_type": "display_data"
    },
    {
     "data": {
      "text/plain": [
       "'the file data_SH_DYN_MORT_MA_df.csv has been created'"
      ]
     },
     "metadata": {},
     "output_type": "display_data"
    },
    {
     "data": {
      "text/plain": [
       "'the file data_SH_VAC_TTNS_ZS_df.csv has been created'"
      ]
     },
     "metadata": {},
     "output_type": "display_data"
    },
    {
     "data": {
      "text/plain": [
       "'the file data_SH_DTH_IMRT_df.csv has been created'"
      ]
     },
     "metadata": {},
     "output_type": "display_data"
    },
    {
     "data": {
      "text/plain": [
       "'the file data_SH_MMR_DTHS_df.csv has been created'"
      ]
     },
     "metadata": {},
     "output_type": "display_data"
    },
    {
     "data": {
      "text/plain": [
       "'the file data_SH_DTH_NMRT_df.csv has been created'"
      ]
     },
     "metadata": {},
     "output_type": "display_data"
    },
    {
     "data": {
      "text/plain": [
       "'the file data_SH_HIV_PMTC_ZS_df.csv has been created'"
      ]
     },
     "metadata": {},
     "output_type": "display_data"
    },
    {
     "data": {
      "text/plain": [
       "'the file data_SP_REG_BRTH_MA_ZS_df.csv has been created'"
      ]
     },
     "metadata": {},
     "output_type": "display_data"
    },
    {
     "data": {
      "text/plain": [
       "'the file data_SP_DYN_IMRT_FE_IN_df.csv has been created'"
      ]
     },
     "metadata": {},
     "output_type": "display_data"
    },
    {
     "data": {
      "text/plain": [
       "'the file data_SH_UHC_NOP1_TO_df.csv has been created'"
      ]
     },
     "metadata": {},
     "output_type": "display_data"
    },
    {
     "data": {
      "text/plain": [
       "'the file data_SH_UHC_NOP2_TO_df.csv has been created'"
      ]
     },
     "metadata": {},
     "output_type": "display_data"
    },
    {
     "data": {
      "text/plain": [
       "'the file data_SH_UHC_OOPC_10_TO_df.csv has been created'"
      ]
     },
     "metadata": {},
     "output_type": "display_data"
    },
    {
     "data": {
      "text/plain": [
       "'the file data_SH_UHC_OOPC_25_TO_df.csv has been created'"
      ]
     },
     "metadata": {},
     "output_type": "display_data"
    },
    {
     "data": {
      "text/plain": [
       "'the file data_SH_SGR_PROC_P5_df.csv has been created'"
      ]
     },
     "metadata": {},
     "output_type": "display_data"
    },
    {
     "data": {
      "text/plain": [
       "'the file data_SH_XPD_OOPC_PP_CD_df.csv has been created'"
      ]
     },
     "metadata": {},
     "output_type": "display_data"
    },
    {
     "data": {
      "text/plain": [
       "'the file data_SP_POP_0014_FE_IN_df.csv has been created'"
      ]
     },
     "metadata": {},
     "output_type": "display_data"
    },
    {
     "data": {
      "text/plain": [
       "'the file data_SP_POP_0014_FE_ZS_df.csv has been created'"
      ]
     },
     "metadata": {},
     "output_type": "display_data"
    },
    {
     "data": {
      "text/plain": [
       "'the file data_SP_POP_3034_FE_5Y_df.csv has been created'"
      ]
     },
     "metadata": {},
     "output_type": "display_data"
    },
    {
     "data": {
      "text/plain": [
       "'the file data_SP_POP_2529_MA_5Y_df.csv has been created'"
      ]
     },
     "metadata": {},
     "output_type": "display_data"
    },
    {
     "data": {
      "text/plain": [
       "'the file data_SP_POP_0014_MA_IN_df.csv has been created'"
      ]
     },
     "metadata": {},
     "output_type": "display_data"
    },
    {
     "data": {
      "text/plain": [
       "'the file data_SP_POP_0014_MA_ZS_df.csv has been created'"
      ]
     },
     "metadata": {},
     "output_type": "display_data"
    },
    {
     "data": {
      "text/plain": [
       "'the file data_SP_POP_0014_TO_df.csv has been created'"
      ]
     },
     "metadata": {},
     "output_type": "display_data"
    },
    {
     "data": {
      "text/plain": [
       "'the file data_SP_POP_0004_MA_5Y_df.csv has been created'"
      ]
     },
     "metadata": {},
     "output_type": "display_data"
    },
    {
     "data": {
      "text/plain": [
       "'the file data_SP_POP_0509_FE_5Y_df.csv has been created'"
      ]
     },
     "metadata": {},
     "output_type": "display_data"
    },
    {
     "data": {
      "text/plain": [
       "'the file data_SP_POP_1014_FE_5Y_df.csv has been created'"
      ]
     },
     "metadata": {},
     "output_type": "display_data"
    },
    {
     "data": {
      "text/plain": [
       "'the file data_SP_POP_1014_MA_5Y_df.csv has been created'"
      ]
     },
     "metadata": {},
     "output_type": "display_data"
    },
    {
     "data": {
      "text/plain": [
       "'the file data_SP_POP_1519_FE_5Y_df.csv has been created'"
      ]
     },
     "metadata": {},
     "output_type": "display_data"
    },
    {
     "data": {
      "text/plain": [
       "'the file data_SP_POP_1519_MA_5Y_df.csv has been created'"
      ]
     },
     "metadata": {},
     "output_type": "display_data"
    },
    {
     "data": {
      "text/plain": [
       "'the file data_SP_POP_1564_FE_IN_df.csv has been created'"
      ]
     },
     "metadata": {},
     "output_type": "display_data"
    },
    {
     "data": {
      "text/plain": [
       "'the file data_SP_POP_1564_FE_ZS_df.csv has been created'"
      ]
     },
     "metadata": {},
     "output_type": "display_data"
    },
    {
     "data": {
      "text/plain": [
       "'the file data_SP_POP_1564_MA_IN_df.csv has been created'"
      ]
     },
     "metadata": {},
     "output_type": "display_data"
    },
    {
     "data": {
      "text/plain": [
       "'the file data_SP_POP_1564_MA_ZS_df.csv has been created'"
      ]
     },
     "metadata": {},
     "output_type": "display_data"
    },
    {
     "data": {
      "text/plain": [
       "'the file data_SP_POP_1564_TO_df.csv has been created'"
      ]
     },
     "metadata": {},
     "output_type": "display_data"
    },
    {
     "data": {
      "text/plain": [
       "'the file data_SP_POP_4549_FE_5Y_df.csv has been created'"
      ]
     },
     "metadata": {},
     "output_type": "display_data"
    },
    {
     "data": {
      "text/plain": [
       "'the file data_SP_POP_4549_MA_5Y_df.csv has been created'"
      ]
     },
     "metadata": {},
     "output_type": "display_data"
    },
    {
     "data": {
      "text/plain": [
       "'the file data_SP_POP_5054_FE_5Y_df.csv has been created'"
      ]
     },
     "metadata": {},
     "output_type": "display_data"
    },
    {
     "data": {
      "text/plain": [
       "'the file data_SP_POP_5054_MA_5Y_df.csv has been created'"
      ]
     },
     "metadata": {},
     "output_type": "display_data"
    },
    {
     "data": {
      "text/plain": [
       "'the file data_SP_POP_5559_FE_5Y_df.csv has been created'"
      ]
     },
     "metadata": {},
     "output_type": "display_data"
    },
    {
     "data": {
      "text/plain": [
       "'the file data_SH_IMM_MEAS_df.csv has been created'"
      ]
     },
     "metadata": {},
     "output_type": "display_data"
    },
    {
     "data": {
      "text/plain": [
       "'the file data_SP_POP_0004_FE_5Y_df.csv has been created'"
      ]
     },
     "metadata": {},
     "output_type": "display_data"
    },
    {
     "data": {
      "text/plain": [
       "'the file data_SP_POP_5559_MA_5Y_df.csv has been created'"
      ]
     },
     "metadata": {},
     "output_type": "display_data"
    },
    {
     "data": {
      "text/plain": [
       "'the file data_SP_POP_65UP_FE_IN_df.csv has been created'"
      ]
     },
     "metadata": {},
     "output_type": "display_data"
    },
    {
     "data": {
      "text/plain": [
       "'the file data_SP_POP_65UP_MA_IN_df.csv has been created'"
      ]
     },
     "metadata": {},
     "output_type": "display_data"
    },
    {
     "data": {
      "text/plain": [
       "'the file data_SP_POP_65UP_TO_df.csv has been created'"
      ]
     },
     "metadata": {},
     "output_type": "display_data"
    },
    {
     "data": {
      "text/plain": [
       "'the file data_SP_POP_6569_MA_5Y_df.csv has been created'"
      ]
     },
     "metadata": {},
     "output_type": "display_data"
    },
    {
     "data": {
      "text/plain": [
       "'the file data_SP_POP_7074_MA_5Y_df.csv has been created'"
      ]
     },
     "metadata": {},
     "output_type": "display_data"
    },
    {
     "data": {
      "text/plain": [
       "'the file data_SP_POP_7579_FE_5Y_df.csv has been created'"
      ]
     },
     "metadata": {},
     "output_type": "display_data"
    },
    {
     "data": {
      "text/plain": [
       "'the file data_SP_POP_80UP_FE_5Y_df.csv has been created'"
      ]
     },
     "metadata": {},
     "output_type": "display_data"
    },
    {
     "data": {
      "text/plain": [
       "'the file data_SP_POP_80UP_MA_5Y_df.csv has been created'"
      ]
     },
     "metadata": {},
     "output_type": "display_data"
    },
    {
     "data": {
      "text/plain": [
       "'the file data_SP_POP_TOTL_FE_IN_df.csv has been created'"
      ]
     },
     "metadata": {},
     "output_type": "display_data"
    },
    {
     "data": {
      "text/plain": [
       "'the file data_SH_ANM_NPRG_ZS_df.csv has been created'"
      ]
     },
     "metadata": {},
     "output_type": "display_data"
    },
    {
     "data": {
      "text/plain": [
       "'the file data_SH_PRG_ANEM_df.csv has been created'"
      ]
     },
     "metadata": {},
     "output_type": "display_data"
    },
    {
     "data": {
      "text/plain": [
       "'the file data_SH_ANM_ALLW_ZS_df.csv has been created'"
      ]
     },
     "metadata": {},
     "output_type": "display_data"
    },
    {
     "data": {
      "text/plain": [
       "'the file data_SH_PRV_SMOK_df.csv has been created'"
      ]
     },
     "metadata": {},
     "output_type": "display_data"
    },
    {
     "data": {
      "text/plain": [
       "'the file data_SN_ITK_MSFI_ZS_df.csv has been created'"
      ]
     },
     "metadata": {},
     "output_type": "display_data"
    },
    {
     "data": {
      "text/plain": [
       "'the file data_SH_STA_BRTW_ZS_df.csv has been created'"
      ]
     },
     "metadata": {},
     "output_type": "display_data"
    },
    {
     "data": {
      "text/plain": [
       "'the file data_SP_POP_65UP_FE_ZS_df.csv has been created'"
      ]
     },
     "metadata": {},
     "output_type": "display_data"
    },
    {
     "data": {
      "text/plain": [
       "'the file data_SP_POP_7074_FE_5Y_df.csv has been created'"
      ]
     },
     "metadata": {},
     "output_type": "display_data"
    },
    {
     "data": {
      "text/plain": [
       "'the file data_SH_STA_OWGH_ME_ZS_df.csv has been created'"
      ]
     },
     "metadata": {},
     "output_type": "display_data"
    },
    {
     "data": {
      "text/plain": [
       "'the file data_SH_STA_OWGH_ZS_df.csv has been created'"
      ]
     },
     "metadata": {},
     "output_type": "display_data"
    },
    {
     "data": {
      "text/plain": [
       "'the file data_SN_ITK_SVFI_ZS_df.csv has been created'"
      ]
     },
     "metadata": {},
     "output_type": "display_data"
    },
    {
     "data": {
      "text/plain": [
       "'the file data_SH_SVR_WAST_FE_ZS_df.csv has been created'"
      ]
     },
     "metadata": {},
     "output_type": "display_data"
    },
    {
     "data": {
      "text/plain": [
       "'the file data_SH_DTH_0514_df.csv has been created'"
      ]
     },
     "metadata": {},
     "output_type": "display_data"
    },
    {
     "data": {
      "text/plain": [
       "'the file data_SH_SVR_WAST_MA_ZS_df.csv has been created'"
      ]
     },
     "metadata": {},
     "output_type": "display_data"
    },
    {
     "data": {
      "text/plain": [
       "'the file data_SH_STA_STNT_ME_ZS_df.csv has been created'"
      ]
     },
     "metadata": {},
     "output_type": "display_data"
    },
    {
     "data": {
      "text/plain": [
       "'the file data_SH_STA_STNT_FE_ZS_df.csv has been created'"
      ]
     },
     "metadata": {},
     "output_type": "display_data"
    },
    {
     "data": {
      "text/plain": [
       "'the file data_SH_STA_STNT_MA_ZS_df.csv has been created'"
      ]
     },
     "metadata": {},
     "output_type": "display_data"
    },
    {
     "data": {
      "text/plain": [
       "'the file data_SN_ITK_DEFC_ZS_df.csv has been created'"
      ]
     },
     "metadata": {},
     "output_type": "display_data"
    },
    {
     "data": {
      "text/plain": [
       "'the file data_SH_DTH_MORT_df.csv has been created'"
      ]
     },
     "metadata": {},
     "output_type": "display_data"
    },
    {
     "data": {
      "text/plain": [
       "'the file data_SH_XPD_OOPC_CH_ZS_df.csv has been created'"
      ]
     },
     "metadata": {},
     "output_type": "display_data"
    },
    {
     "data": {
      "text/plain": [
       "'the file data_SH_STA_WAST_ZS_df.csv has been created'"
      ]
     },
     "metadata": {},
     "output_type": "display_data"
    },
    {
     "data": {
      "text/plain": [
       "'the file data_SH_STA_WAST_FE_ZS_df.csv has been created'"
      ]
     },
     "metadata": {},
     "output_type": "display_data"
    },
    {
     "data": {
      "text/plain": [
       "'the file data_SH_UHC_NOP1_ZS_df.csv has been created'"
      ]
     },
     "metadata": {},
     "output_type": "display_data"
    },
    {
     "data": {
      "text/plain": [
       "'the file data_SH_UHC_NOP2_ZS_df.csv has been created'"
      ]
     },
     "metadata": {},
     "output_type": "display_data"
    },
    {
     "data": {
      "text/plain": [
       "'the file data_SH_UHC_OOPC_25_ZS_df.csv has been created'"
      ]
     },
     "metadata": {},
     "output_type": "display_data"
    },
    {
     "data": {
      "text/plain": [
       "'the file data_SM_POP_REFG_OR_df.csv has been created'"
      ]
     },
     "metadata": {},
     "output_type": "display_data"
    },
    {
     "data": {
      "text/plain": [
       "'the file data_SH_MED_SAOP_P5_df.csv has been created'"
      ]
     },
     "metadata": {},
     "output_type": "display_data"
    },
    {
     "data": {
      "text/plain": [
       "'the file data_SH_STA_SUIC_MA_P5_df.csv has been created'"
      ]
     },
     "metadata": {},
     "output_type": "display_data"
    },
    {
     "data": {
      "text/plain": [
       "'the file data_SH_MED_NUMW_P3_df.csv has been created'"
      ]
     },
     "metadata": {},
     "output_type": "display_data"
    },
    {
     "data": {
      "text/plain": [
       "'the file data_SH_XPD_OOPC_PC_CD_df.csv has been created'"
      ]
     },
     "metadata": {},
     "output_type": "display_data"
    },
    {
     "data": {
      "text/plain": [
       "'the file data_SH_MED_PHYS_ZS_df.csv has been created'"
      ]
     },
     "metadata": {},
     "output_type": "display_data"
    },
    {
     "data": {
      "text/plain": [
       "'the file data_SP_POP_0509_MA_5Y_df.csv has been created'"
      ]
     },
     "metadata": {},
     "output_type": "display_data"
    },
    {
     "data": {
      "text/plain": [
       "'the file data_SH_UHC_OOPC_10_ZS_df.csv has been created'"
      ]
     },
     "metadata": {},
     "output_type": "display_data"
    },
    {
     "data": {
      "text/plain": [
       "'the file data_SH_ALC_PCAP_LI_df.csv has been created'"
      ]
     },
     "metadata": {},
     "output_type": "display_data"
    },
    {
     "data": {
      "text/plain": [
       "'the file data_SH_ALC_PCAP_FE_LI_df.csv has been created'"
      ]
     },
     "metadata": {},
     "output_type": "display_data"
    },
    {
     "data": {
      "text/plain": [
       "'the file data_SH_ALC_PCAP_MA_LI_df.csv has been created'"
      ]
     },
     "metadata": {},
     "output_type": "display_data"
    },
    {
     "data": {
      "text/plain": [
       "'the file data_SH_TBS_DTEC_ZS_df.csv has been created'"
      ]
     },
     "metadata": {},
     "output_type": "display_data"
    },
    {
     "data": {
      "text/plain": [
       "'the file data_SH_TBS_CURE_ZS_df.csv has been created'"
      ]
     },
     "metadata": {},
     "output_type": "display_data"
    },
    {
     "data": {
      "text/plain": [
       "'the file data_SH_UHC_SRVS_CV_XD_df.csv has been created'"
      ]
     },
     "metadata": {},
     "output_type": "display_data"
    },
    {
     "data": {
      "text/plain": [
       "'the file data_SP_UWT_TFRT_df.csv has been created'"
      ]
     },
     "metadata": {},
     "output_type": "display_data"
    },
    {
     "data": {
      "text/plain": [
       "'the file data_SP_POP_65UP_MA_ZS_df.csv has been created'"
      ]
     },
     "metadata": {},
     "output_type": "display_data"
    },
    {
     "data": {
      "text/plain": [
       "'the file data_SM_POP_REFG_df.csv has been created'"
      ]
     },
     "metadata": {},
     "output_type": "display_data"
    },
    {
     "data": {
      "text/plain": [
       "'the file data_SH_SGR_IRSK_ZS_df.csv has been created'"
      ]
     },
     "metadata": {},
     "output_type": "display_data"
    },
    {
     "data": {
      "text/plain": [
       "'the file data_SN_ITK_VITA_ZS_df.csv has been created'"
      ]
     },
     "metadata": {},
     "output_type": "display_data"
    },
    {
     "data": {
      "text/plain": [
       "'the file data_IS_AIR_PSGR_df.csv has been created'"
      ]
     },
     "metadata": {},
     "output_type": "display_data"
    },
    {
     "data": {
      "text/plain": [
       "'the file data_IS_AIR_DPRT_df.csv has been created'"
      ]
     },
     "metadata": {},
     "output_type": "display_data"
    },
    {
     "data": {
      "text/plain": [
       "'the file data_IS_SHP_GOOD_TU_df.csv has been created'"
      ]
     },
     "metadata": {},
     "output_type": "display_data"
    },
    {
     "data": {
      "text/plain": [
       "'the file data_IT_NET_BBND_df.csv has been created'"
      ]
     },
     "metadata": {},
     "output_type": "display_data"
    },
    {
     "data": {
      "text/plain": [
       "'the file data_IT_NET_BBND_P2_df.csv has been created'"
      ]
     },
     "metadata": {},
     "output_type": "display_data"
    },
    {
     "data": {
      "text/plain": [
       "'the file data_IT_MLT_MAIN_df.csv has been created'"
      ]
     },
     "metadata": {},
     "output_type": "display_data"
    },
    {
     "data": {
      "text/plain": [
       "'the file data_SP_POP_6064_FE_5Y_df.csv has been created'"
      ]
     },
     "metadata": {},
     "output_type": "display_data"
    },
    {
     "data": {
      "text/plain": [
       "'the file data_SP_POP_6064_MA_5Y_df.csv has been created'"
      ]
     },
     "metadata": {},
     "output_type": "display_data"
    },
    {
     "data": {
      "text/plain": [
       "'the file data_SP_POP_6569_FE_5Y_df.csv has been created'"
      ]
     },
     "metadata": {},
     "output_type": "display_data"
    },
    {
     "data": {
      "text/plain": [
       "'the file data_IT_MLT_MAIN_P2_df.csv has been created'"
      ]
     },
     "metadata": {},
     "output_type": "display_data"
    },
    {
     "data": {
      "text/plain": [
       "'the file data_TX_VAL_ICTG_ZS_UN_df.csv has been created'"
      ]
     },
     "metadata": {},
     "output_type": "display_data"
    },
    {
     "data": {
      "text/plain": [
       "'the file data_IP_IDS_NRCT_df.csv has been created'"
      ]
     },
     "metadata": {},
     "output_type": "display_data"
    },
    {
     "data": {
      "text/plain": [
       "'the file data_IP_IDS_RSCT_df.csv has been created'"
      ]
     },
     "metadata": {},
     "output_type": "display_data"
    },
    {
     "data": {
      "text/plain": [
       "'the file data_IE_PPI_TRAN_CD_df.csv has been created'"
      ]
     },
     "metadata": {},
     "output_type": "display_data"
    },
    {
     "data": {
      "text/plain": [
       "'the file data_SH_DYN_0514_df.csv has been created'"
      ]
     },
     "metadata": {},
     "output_type": "display_data"
    },
    {
     "data": {
      "text/plain": [
       "'the file data_SP_POP_TOTL_FE_ZS_df.csv has been created'"
      ]
     },
     "metadata": {},
     "output_type": "display_data"
    },
    {
     "data": {
      "text/plain": [
       "'the file data_SP_POP_TOTL_MA_IN_df.csv has been created'"
      ]
     },
     "metadata": {},
     "output_type": "display_data"
    },
    {
     "data": {
      "text/plain": [
       "'the file data_SP_POP_TOTL_MA_ZS_df.csv has been created'"
      ]
     },
     "metadata": {},
     "output_type": "display_data"
    },
    {
     "data": {
      "text/plain": [
       "'the file data_SH_ANM_CHLD_ZS_df.csv has been created'"
      ]
     },
     "metadata": {},
     "output_type": "display_data"
    },
    {
     "data": {
      "text/plain": [
       "'the file data_IT_NET_USER_ZS_df.csv has been created'"
      ]
     },
     "metadata": {},
     "output_type": "display_data"
    },
    {
     "data": {
      "text/plain": [
       "'the file data_SI_POV_MDIM_17_XQ_df.csv has been created'"
      ]
     },
     "metadata": {},
     "output_type": "display_data"
    },
    {
     "data": {
      "text/plain": [
       "'the file data_TM_VAL_ICTG_ZS_UN_df.csv has been created'"
      ]
     },
     "metadata": {},
     "output_type": "display_data"
    },
    {
     "data": {
      "text/plain": [
       "'the file data_IE_PPI_WATR_CD_df.csv has been created'"
      ]
     },
     "metadata": {},
     "output_type": "display_data"
    },
    {
     "data": {
      "text/plain": [
       "'the file data_SH_STA_OWGH_FE_ZS_df.csv has been created'"
      ]
     },
     "metadata": {},
     "output_type": "display_data"
    },
    {
     "data": {
      "text/plain": [
       "'the file data_SH_STA_OWGH_MA_ZS_df.csv has been created'"
      ]
     },
     "metadata": {},
     "output_type": "display_data"
    },
    {
     "data": {
      "text/plain": [
       "'the file data_SH_SVR_WAST_ZS_df.csv has been created'"
      ]
     },
     "metadata": {},
     "output_type": "display_data"
    },
    {
     "data": {
      "text/plain": [
       "'the file data_SH_STA_WAST_MA_ZS_df.csv has been created'"
      ]
     },
     "metadata": {},
     "output_type": "display_data"
    },
    {
     "data": {
      "text/plain": [
       "'the file data_IS_SHP_GCNW_XQ_df.csv has been created'"
      ]
     },
     "metadata": {},
     "output_type": "display_data"
    },
    {
     "data": {
      "text/plain": [
       "'the file data_IE_PPN_ICTI_CD_df.csv has been created'"
      ]
     },
     "metadata": {},
     "output_type": "display_data"
    },
    {
     "data": {
      "text/plain": [
       "'the file data_SH_SGR_CRSK_ZS_df.csv has been created'"
      ]
     },
     "metadata": {},
     "output_type": "display_data"
    },
    {
     "data": {
      "text/plain": [
       "'the file data_SP_POP_BRTH_MF_df.csv has been created'"
      ]
     },
     "metadata": {},
     "output_type": "display_data"
    },
    {
     "data": {
      "text/plain": [
       "'the file data_SH_STA_SUIC_FE_P5_df.csv has been created'"
      ]
     },
     "metadata": {},
     "output_type": "display_data"
    },
    {
     "data": {
      "text/plain": [
       "'the file data_IE_PPI_ICTI_CD_df.csv has been created'"
      ]
     },
     "metadata": {},
     "output_type": "display_data"
    },
    {
     "data": {
      "text/plain": [
       "'the file data_IE_PPN_ENGY_CD_df.csv has been created'"
      ]
     },
     "metadata": {},
     "output_type": "display_data"
    },
    {
     "data": {
      "text/plain": [
       "'the file data_GC_NFN_TOTL_GD_ZS_df.csv has been created'"
      ]
     },
     "metadata": {},
     "output_type": "display_data"
    },
    {
     "data": {
      "text/plain": [
       "'the file data_SH_STA_SUIC_P5_df.csv has been created'"
      ]
     },
     "metadata": {},
     "output_type": "display_data"
    },
    {
     "data": {
      "text/plain": [
       "'the file data_SH_MLR_NETS_ZS_df.csv has been created'"
      ]
     },
     "metadata": {},
     "output_type": "display_data"
    },
    {
     "data": {
      "text/plain": [
       "'the file data_IS_AIR_GOOD_MT_K1_df.csv has been created'"
      ]
     },
     "metadata": {},
     "output_type": "display_data"
    },
    {
     "data": {
      "text/plain": [
       "'the file data_IE_PPN_TRAN_CD_df.csv has been created'"
      ]
     },
     "metadata": {},
     "output_type": "display_data"
    },
    {
     "data": {
      "text/plain": [
       "'the file data_IE_PPN_WATR_CD_df.csv has been created'"
      ]
     },
     "metadata": {},
     "output_type": "display_data"
    },
    {
     "data": {
      "text/plain": [
       "'the file data_IP_TMK_NRCT_df.csv has been created'"
      ]
     },
     "metadata": {},
     "output_type": "display_data"
    },
    {
     "data": {
      "text/plain": [
       "'the file data_IP_TMK_RSCT_df.csv has been created'"
      ]
     },
     "metadata": {},
     "output_type": "display_data"
    },
    {
     "data": {
      "text/plain": [
       "'the file data_IC_BUS_DISC_XQ_df.csv has been created'"
      ]
     },
     "metadata": {},
     "output_type": "display_data"
    },
    {
     "data": {
      "text/plain": [
       "'the file data_IS_RRS_TOTL_KM_df.csv has been created'"
      ]
     },
     "metadata": {},
     "output_type": "display_data"
    },
    {
     "data": {
      "text/plain": [
       "'the file data_SI_SPR_PC40_ZG_df.csv has been created'"
      ]
     },
     "metadata": {},
     "output_type": "display_data"
    },
    {
     "data": {
      "text/plain": [
       "'the file data_SI_POV_LMIC_GP_df.csv has been created'"
      ]
     },
     "metadata": {},
     "output_type": "display_data"
    },
    {
     "data": {
      "text/plain": [
       "'the file data_SI_SPR_PCAP_ZG_df.csv has been created'"
      ]
     },
     "metadata": {},
     "output_type": "display_data"
    },
    {
     "data": {
      "text/plain": [
       "'the file data_SI_POV_GINI_df.csv has been created'"
      ]
     },
     "metadata": {},
     "output_type": "display_data"
    },
    {
     "data": {
      "text/plain": [
       "'the file data_SI_DST_04TH_20_df.csv has been created'"
      ]
     },
     "metadata": {},
     "output_type": "display_data"
    },
    {
     "data": {
      "text/plain": [
       "'the file data_SI_DST_10TH_10_df.csv has been created'"
      ]
     },
     "metadata": {},
     "output_type": "display_data"
    },
    {
     "data": {
      "text/plain": [
       "'the file data_IT_CEL_SETS_df.csv has been created'"
      ]
     },
     "metadata": {},
     "output_type": "display_data"
    },
    {
     "data": {
      "text/plain": [
       "'the file data_IT_CEL_SETS_P2_df.csv has been created'"
      ]
     },
     "metadata": {},
     "output_type": "display_data"
    },
    {
     "data": {
      "text/plain": [
       "'the file data_SI_DST_FRST_10_df.csv has been created'"
      ]
     },
     "metadata": {},
     "output_type": "display_data"
    },
    {
     "data": {
      "text/plain": [
       "'the file data_SI_DST_02ND_20_df.csv has been created'"
      ]
     },
     "metadata": {},
     "output_type": "display_data"
    },
    {
     "data": {
      "text/plain": [
       "'the file data_SI_DST_03RD_20_df.csv has been created'"
      ]
     },
     "metadata": {},
     "output_type": "display_data"
    },
    {
     "data": {
      "text/plain": [
       "'the file data_SI_POV_UMIC_GP_df.csv has been created'"
      ]
     },
     "metadata": {},
     "output_type": "display_data"
    },
    {
     "data": {
      "text/plain": [
       "'the file data_SI_POV_LMIC_df.csv has been created'"
      ]
     },
     "metadata": {},
     "output_type": "display_data"
    },
    {
     "data": {
      "text/plain": [
       "'the file data_SI_POV_UMIC_df.csv has been created'"
      ]
     },
     "metadata": {},
     "output_type": "display_data"
    },
    {
     "data": {
      "text/plain": [
       "'the file data_SI_DST_50MD_df.csv has been created'"
      ]
     },
     "metadata": {},
     "output_type": "display_data"
    },
    {
     "data": {
      "text/plain": [
       "'the file data_IS_RRS_GOOD_MT_K6_df.csv has been created'"
      ]
     },
     "metadata": {},
     "output_type": "display_data"
    },
    {
     "data": {
      "text/plain": [
       "'the file data_SI_DST_05TH_20_df.csv has been created'"
      ]
     },
     "metadata": {},
     "output_type": "display_data"
    },
    {
     "data": {
      "text/plain": [
       "'the file data_SI_SPR_PCAP_df.csv has been created'"
      ]
     },
     "metadata": {},
     "output_type": "display_data"
    },
    {
     "data": {
      "text/plain": [
       "'the file data_TM_TAX_MRCH_BR_ZS_df.csv has been created'"
      ]
     },
     "metadata": {},
     "output_type": "display_data"
    },
    {
     "data": {
      "text/plain": [
       "'the file data_TM_VAL_SERV_CD_WT_df.csv has been created'"
      ]
     },
     "metadata": {},
     "output_type": "display_data"
    },
    {
     "data": {
      "text/plain": [
       "'the file data_TX_VAL_OTHR_ZS_WT_df.csv has been created'"
      ]
     },
     "metadata": {},
     "output_type": "display_data"
    },
    {
     "data": {
      "text/plain": [
       "'the file data_IC_REG_COST_PC_MA_ZS_df.csv has been created'"
      ]
     },
     "metadata": {},
     "output_type": "display_data"
    },
    {
     "data": {
      "text/plain": [
       "'the file data_IC_EXP_CSBC_CD_df.csv has been created'"
      ]
     },
     "metadata": {},
     "output_type": "display_data"
    },
    {
     "data": {
      "text/plain": [
       "'the file data_IC_EXP_CSDC_CD_df.csv has been created'"
      ]
     },
     "metadata": {},
     "output_type": "display_data"
    },
    {
     "data": {
      "text/plain": [
       "'the file data_IC_IMP_CSBC_CD_df.csv has been created'"
      ]
     },
     "metadata": {},
     "output_type": "display_data"
    },
    {
     "data": {
      "text/plain": [
       "'the file data_IC_IMP_CSDC_CD_df.csv has been created'"
      ]
     },
     "metadata": {},
     "output_type": "display_data"
    },
    {
     "data": {
      "text/plain": [
       "'the file data_IS_RRS_PASG_KM_df.csv has been created'"
      ]
     },
     "metadata": {},
     "output_type": "display_data"
    },
    {
     "data": {
      "text/plain": [
       "'the file data_IT_NET_SECR_df.csv has been created'"
      ]
     },
     "metadata": {},
     "output_type": "display_data"
    },
    {
     "data": {
      "text/plain": [
       "'the file data_IT_NET_SECR_P6_df.csv has been created'"
      ]
     },
     "metadata": {},
     "output_type": "display_data"
    },
    {
     "data": {
      "text/plain": [
       "'the file data_SI_POV_MDIM_FE_df.csv has been created'"
      ]
     },
     "metadata": {},
     "output_type": "display_data"
    },
    {
     "data": {
      "text/plain": [
       "'the file data_SI_POV_MDIM_HH_df.csv has been created'"
      ]
     },
     "metadata": {},
     "output_type": "display_data"
    },
    {
     "data": {
      "text/plain": [
       "'the file data_SI_POV_MDIM_MA_df.csv has been created'"
      ]
     },
     "metadata": {},
     "output_type": "display_data"
    },
    {
     "data": {
      "text/plain": [
       "'the file data_SI_POV_MDIM_XQ_df.csv has been created'"
      ]
     },
     "metadata": {},
     "output_type": "display_data"
    },
    {
     "data": {
      "text/plain": [
       "'the file data_TM_TAX_MANF_BR_ZS_df.csv has been created'"
      ]
     },
     "metadata": {},
     "output_type": "display_data"
    },
    {
     "data": {
      "text/plain": [
       "'the file data_TX_VAL_SERV_CD_WT_df.csv has been created'"
      ]
     },
     "metadata": {},
     "output_type": "display_data"
    },
    {
     "data": {
      "text/plain": [
       "'the file data_IC_BUS_DFRN_XQ_df.csv has been created'"
      ]
     },
     "metadata": {},
     "output_type": "display_data"
    },
    {
     "data": {
      "text/plain": [
       "'the file data_TX_UVI_MRCH_XD_WD_df.csv has been created'"
      ]
     },
     "metadata": {},
     "output_type": "display_data"
    },
    {
     "data": {
      "text/plain": [
       "'the file data_SI_POV_MDIM_df.csv has been created'"
      ]
     },
     "metadata": {},
     "output_type": "display_data"
    },
    {
     "data": {
      "text/plain": [
       "'the file data_SI_POV_MDIM_17_df.csv has been created'"
      ]
     },
     "metadata": {},
     "output_type": "display_data"
    },
    {
     "data": {
      "text/plain": [
       "'the file data_TM_TAX_TCOM_BC_ZS_df.csv has been created'"
      ]
     },
     "metadata": {},
     "output_type": "display_data"
    },
    {
     "data": {
      "text/plain": [
       "'the file data_TX_VAL_MRCH_XD_WD_df.csv has been created'"
      ]
     },
     "metadata": {},
     "output_type": "display_data"
    },
    {
     "data": {
      "text/plain": [
       "'the file data_IC_FRM_THEV_ZS_df.csv has been created'"
      ]
     },
     "metadata": {},
     "output_type": "display_data"
    },
    {
     "data": {
      "text/plain": [
       "'the file data_IC_FRM_FREG_ZS_df.csv has been created'"
      ]
     },
     "metadata": {},
     "output_type": "display_data"
    },
    {
     "data": {
      "text/plain": [
       "'the file data_IC_FRM_INFM_ZS_df.csv has been created'"
      ]
     },
     "metadata": {},
     "output_type": "display_data"
    },
    {
     "data": {
      "text/plain": [
       "'the file data_IC_FRM_BKWC_ZS_df.csv has been created'"
      ]
     },
     "metadata": {},
     "output_type": "display_data"
    },
    {
     "data": {
      "text/plain": [
       "'the file data_TX_VAL_FOOD_ZS_UN_df.csv has been created'"
      ]
     },
     "metadata": {},
     "output_type": "display_data"
    },
    {
     "data": {
      "text/plain": [
       "'the file data_TX_VAL_TECH_CD_df.csv has been created'"
      ]
     },
     "metadata": {},
     "output_type": "display_data"
    },
    {
     "data": {
      "text/plain": [
       "'the file data_TM_VAL_MRCH_XD_WD_df.csv has been created'"
      ]
     },
     "metadata": {},
     "output_type": "display_data"
    },
    {
     "data": {
      "text/plain": [
       "'the file data_TM_QTY_MRCH_XD_WD_df.csv has been created'"
      ]
     },
     "metadata": {},
     "output_type": "display_data"
    },
    {
     "data": {
      "text/plain": [
       "'the file data_IC_FRM_CORR_ZS_df.csv has been created'"
      ]
     },
     "metadata": {},
     "output_type": "display_data"
    },
    {
     "data": {
      "text/plain": [
       "'the file data_SI_POV_MDIM_IT_df.csv has been created'"
      ]
     },
     "metadata": {},
     "output_type": "display_data"
    },
    {
     "data": {
      "text/plain": [
       "'the file data_SI_POV_GAPS_df.csv has been created'"
      ]
     },
     "metadata": {},
     "output_type": "display_data"
    },
    {
     "data": {
      "text/plain": [
       "'the file data_SI_POV_NAHC_df.csv has been created'"
      ]
     },
     "metadata": {},
     "output_type": "display_data"
    },
    {
     "data": {
      "text/plain": [
       "'the file data_SI_SPR_PC40_df.csv has been created'"
      ]
     },
     "metadata": {},
     "output_type": "display_data"
    },
    {
     "data": {
      "text/plain": [
       "'the file data_IC_REG_COST_PC_ZS_df.csv has been created'"
      ]
     },
     "metadata": {},
     "output_type": "display_data"
    },
    {
     "data": {
      "text/plain": [
       "'the file data_ST_INT_XPND_MP_ZS_df.csv has been created'"
      ]
     },
     "metadata": {},
     "output_type": "display_data"
    },
    {
     "data": {
      "text/plain": [
       "'the file data_ST_INT_TVLX_CD_df.csv has been created'"
      ]
     },
     "metadata": {},
     "output_type": "display_data"
    },
    {
     "data": {
      "text/plain": [
       "'the file data_IC_FRM_BRIB_ZS_df.csv has been created'"
      ]
     },
     "metadata": {},
     "output_type": "display_data"
    },
    {
     "data": {
      "text/plain": [
       "'the file data_IC_CUS_DURS_EX_df.csv has been created'"
      ]
     },
     "metadata": {},
     "output_type": "display_data"
    },
    {
     "data": {
      "text/plain": [
       "'the file data_TM_TAX_MRCH_BC_ZS_df.csv has been created'"
      ]
     },
     "metadata": {},
     "output_type": "display_data"
    },
    {
     "data": {
      "text/plain": [
       "'the file data_TM_TAX_MANF_BC_ZS_df.csv has been created'"
      ]
     },
     "metadata": {},
     "output_type": "display_data"
    },
    {
     "data": {
      "text/plain": [
       "'the file data_TM_TAX_TCOM_BR_ZS_df.csv has been created'"
      ]
     },
     "metadata": {},
     "output_type": "display_data"
    },
    {
     "data": {
      "text/plain": [
       "'the file data_TM_VAL_INSF_ZS_WT_df.csv has been created'"
      ]
     },
     "metadata": {},
     "output_type": "display_data"
    },
    {
     "data": {
      "text/plain": [
       "'the file data_ST_INT_ARVL_df.csv has been created'"
      ]
     },
     "metadata": {},
     "output_type": "display_data"
    },
    {
     "data": {
      "text/plain": [
       "'the file data_TM_VAL_OTHR_ZS_WT_df.csv has been created'"
      ]
     },
     "metadata": {},
     "output_type": "display_data"
    },
    {
     "data": {
      "text/plain": [
       "'the file data_IC_REG_COST_PC_FE_ZS_df.csv has been created'"
      ]
     },
     "metadata": {},
     "output_type": "display_data"
    },
    {
     "data": {
      "text/plain": [
       "'the file data_TM_VAL_FOOD_ZS_UN_df.csv has been created'"
      ]
     },
     "metadata": {},
     "output_type": "display_data"
    },
    {
     "data": {
      "text/plain": [
       "'the file data_TX_VAL_TECH_MF_ZS_df.csv has been created'"
      ]
     },
     "metadata": {},
     "output_type": "display_data"
    },
    {
     "data": {
      "text/plain": [
       "'the file data_ST_INT_XPND_CD_df.csv has been created'"
      ]
     },
     "metadata": {},
     "output_type": "display_data"
    },
    {
     "data": {
      "text/plain": [
       "'the file data_ST_INT_RCPT_XP_ZS_df.csv has been created'"
      ]
     },
     "metadata": {},
     "output_type": "display_data"
    },
    {
     "data": {
      "text/plain": [
       "'the file data_LP_IMP_DURS_MD_df.csv has been created'"
      ]
     },
     "metadata": {},
     "output_type": "display_data"
    },
    {
     "data": {
      "text/plain": [
       "'the file data_TX_QTY_MRCH_XD_WD_df.csv has been created'"
      ]
     },
     "metadata": {},
     "output_type": "display_data"
    },
    {
     "data": {
      "text/plain": [
       "'the file data_IC_FRM_CMPU_ZS_df.csv has been created'"
      ]
     },
     "metadata": {},
     "output_type": "display_data"
    },
    {
     "data": {
      "text/plain": [
       "'the file data_IC_TAX_GIFT_ZS_df.csv has been created'"
      ]
     },
     "metadata": {},
     "output_type": "display_data"
    },
    {
     "data": {
      "text/plain": [
       "'the file data_IC_ELC_OUTG_ZS_df.csv has been created'"
      ]
     },
     "metadata": {},
     "output_type": "display_data"
    },
    {
     "data": {
      "text/plain": [
       "'the file data_IC_FRM_TRNG_ZS_df.csv has been created'"
      ]
     },
     "metadata": {},
     "output_type": "display_data"
    },
    {
     "data": {
      "text/plain": [
       "'the file data_IC_FRM_RSDV_ZS_df.csv has been created'"
      ]
     },
     "metadata": {},
     "output_type": "display_data"
    },
    {
     "data": {
      "text/plain": [
       "'the file data_LP_LPI_TRAC_XQ_df.csv has been created'"
      ]
     },
     "metadata": {},
     "output_type": "display_data"
    },
    {
     "data": {
      "text/plain": [
       "'the file data_TM_UVI_MRCH_XD_WD_df.csv has been created'"
      ]
     },
     "metadata": {},
     "output_type": "display_data"
    },
    {
     "data": {
      "text/plain": [
       "'the file data_TX_VAL_INSF_ZS_WT_df.csv has been created'"
      ]
     },
     "metadata": {},
     "output_type": "display_data"
    },
    {
     "data": {
      "text/plain": [
       "'the file data_ST_INT_RCPT_CD_df.csv has been created'"
      ]
     },
     "metadata": {},
     "output_type": "display_data"
    },
    {
     "data": {
      "text/plain": [
       "'the file data_IC_TAX_LABR_CP_ZS_df.csv has been created'"
      ]
     },
     "metadata": {},
     "output_type": "display_data"
    },
    {
     "data": {
      "text/plain": [
       "'the file data_LP_EXP_DURS_MD_df.csv has been created'"
      ]
     },
     "metadata": {},
     "output_type": "display_data"
    },
    {
     "data": {
      "text/plain": [
       "'the file data_ST_INT_TRNX_CD_df.csv has been created'"
      ]
     },
     "metadata": {},
     "output_type": "display_data"
    },
    {
     "data": {
      "text/plain": [
       "'the file data_ST_INT_DPRT_df.csv has been created'"
      ]
     },
     "metadata": {},
     "output_type": "display_data"
    },
    {
     "data": {
      "text/plain": [
       "'the file data_LP_LPI_LOGS_XQ_df.csv has been created'"
      ]
     },
     "metadata": {},
     "output_type": "display_data"
    },
    {
     "data": {
      "text/plain": [
       "'the file data_LP_LPI_CUST_XQ_df.csv has been created'"
      ]
     },
     "metadata": {},
     "output_type": "display_data"
    },
    {
     "data": {
      "text/plain": [
       "'the file data_LP_LPI_TIME_XQ_df.csv has been created'"
      ]
     },
     "metadata": {},
     "output_type": "display_data"
    },
    {
     "data": {
      "text/plain": [
       "'the file data_ST_INT_TRNR_CD_df.csv has been created'"
      ]
     },
     "metadata": {},
     "output_type": "display_data"
    },
    {
     "data": {
      "text/plain": [
       "'the file data_ST_INT_TVLR_CD_df.csv has been created'"
      ]
     },
     "metadata": {},
     "output_type": "display_data"
    },
    {
     "data": {
      "text/plain": [
       "'the file data_LP_LPI_OVRL_XQ_df.csv has been created'"
      ]
     },
     "metadata": {},
     "output_type": "display_data"
    },
    {
     "data": {
      "text/plain": [
       "'the file data_LP_LPI_INFR_XQ_df.csv has been created'"
      ]
     },
     "metadata": {},
     "output_type": "display_data"
    },
    {
     "data": {
      "text/plain": [
       "'the file data_LP_LPI_ITRN_XQ_df.csv has been created'"
      ]
     },
     "metadata": {},
     "output_type": "display_data"
    },
    {
     "data": {
      "text/plain": [
       "'the file data_IC_FRM_CRIM_ZS_df.csv has been created'"
      ]
     },
     "metadata": {},
     "output_type": "display_data"
    },
    {
     "data": {
      "text/plain": [
       "'the file data_TX_VAL_MANF_ZS_UN_df.csv has been created'"
      ]
     },
     "metadata": {},
     "output_type": "display_data"
    },
    {
     "data": {
      "text/plain": [
       "'the file data_TX_MNF_TECH_ZS_UN_df.csv has been created'"
      ]
     },
     "metadata": {},
     "output_type": "display_data"
    },
    {
     "data": {
      "text/plain": [
       "'the file data_TX_VAL_MRCH_RS_ZS_df.csv has been created'"
      ]
     },
     "metadata": {},
     "output_type": "display_data"
    },
    {
     "data": {
      "text/plain": [
       "'the file data_TX_VAL_MRCH_AL_ZS_df.csv has been created'"
      ]
     },
     "metadata": {},
     "output_type": "display_data"
    },
    {
     "data": {
      "text/plain": [
       "'the file data_TX_VAL_MRCH_HI_ZS_df.csv has been created'"
      ]
     },
     "metadata": {},
     "output_type": "display_data"
    },
    {
     "data": {
      "text/plain": [
       "'the file data_TX_VAL_MRCH_R1_ZS_df.csv has been created'"
      ]
     },
     "metadata": {},
     "output_type": "display_data"
    },
    {
     "data": {
      "text/plain": [
       "'the file data_GC_TAX_OTHR_RV_ZS_df.csv has been created'"
      ]
     },
     "metadata": {},
     "output_type": "display_data"
    },
    {
     "data": {
      "text/plain": [
       "'the file data_TM_VAL_MANF_ZS_UN_df.csv has been created'"
      ]
     },
     "metadata": {},
     "output_type": "display_data"
    },
    {
     "data": {
      "text/plain": [
       "'the file data_TX_VAL_MRCH_CD_WT_df.csv has been created'"
      ]
     },
     "metadata": {},
     "output_type": "display_data"
    },
    {
     "data": {
      "text/plain": [
       "'the file data_TX_VAL_MRCH_WL_CD_df.csv has been created'"
      ]
     },
     "metadata": {},
     "output_type": "display_data"
    },
    {
     "data": {
      "text/plain": [
       "'the file data_TX_VAL_MRCH_R2_ZS_df.csv has been created'"
      ]
     },
     "metadata": {},
     "output_type": "display_data"
    },
    {
     "data": {
      "text/plain": [
       "'the file data_TX_VAL_MRCH_R3_ZS_df.csv has been created'"
      ]
     },
     "metadata": {},
     "output_type": "display_data"
    },
    {
     "data": {
      "text/plain": [
       "'the file data_TX_VAL_MRCH_R4_ZS_df.csv has been created'"
      ]
     },
     "metadata": {},
     "output_type": "display_data"
    },
    {
     "data": {
      "text/plain": [
       "'the file data_TX_VAL_MRCH_R5_ZS_df.csv has been created'"
      ]
     },
     "metadata": {},
     "output_type": "display_data"
    },
    {
     "data": {
      "text/plain": [
       "'the file data_TX_VAL_MRCH_OR_ZS_df.csv has been created'"
      ]
     },
     "metadata": {},
     "output_type": "display_data"
    },
    {
     "data": {
      "text/plain": [
       "'the file data_TX_VAL_MRCH_WR_ZS_df.csv has been created'"
      ]
     },
     "metadata": {},
     "output_type": "display_data"
    },
    {
     "data": {
      "text/plain": [
       "'the file data_TM_VAL_MRCH_CD_WT_df.csv has been created'"
      ]
     },
     "metadata": {},
     "output_type": "display_data"
    },
    {
     "data": {
      "text/plain": [
       "'the file data_TM_VAL_MRCH_WL_CD_df.csv has been created'"
      ]
     },
     "metadata": {},
     "output_type": "display_data"
    },
    {
     "data": {
      "text/plain": [
       "'the file data_TX_VAL_MRCH_R6_ZS_df.csv has been created'"
      ]
     },
     "metadata": {},
     "output_type": "display_data"
    },
    {
     "data": {
      "text/plain": [
       "'the file data_TM_VAL_MRCH_RS_ZS_df.csv has been created'"
      ]
     },
     "metadata": {},
     "output_type": "display_data"
    },
    {
     "data": {
      "text/plain": [
       "'the file data_TM_VAL_MRCH_AL_ZS_df.csv has been created'"
      ]
     },
     "metadata": {},
     "output_type": "display_data"
    },
    {
     "data": {
      "text/plain": [
       "'the file data_TM_VAL_MRCH_HI_ZS_df.csv has been created'"
      ]
     },
     "metadata": {},
     "output_type": "display_data"
    },
    {
     "data": {
      "text/plain": [
       "'the file data_TM_VAL_MRCH_R1_ZS_df.csv has been created'"
      ]
     },
     "metadata": {},
     "output_type": "display_data"
    },
    {
     "data": {
      "text/plain": [
       "'the file data_TM_VAL_MRCH_R5_ZS_df.csv has been created'"
      ]
     },
     "metadata": {},
     "output_type": "display_data"
    },
    {
     "data": {
      "text/plain": [
       "'the file data_TM_VAL_MRCH_R6_ZS_df.csv has been created'"
      ]
     },
     "metadata": {},
     "output_type": "display_data"
    },
    {
     "data": {
      "text/plain": [
       "'the file data_TM_VAL_MRCH_OR_ZS_df.csv has been created'"
      ]
     },
     "metadata": {},
     "output_type": "display_data"
    },
    {
     "data": {
      "text/plain": [
       "'the file data_TM_VAL_MRCH_WR_ZS_df.csv has been created'"
      ]
     },
     "metadata": {},
     "output_type": "display_data"
    },
    {
     "data": {
      "text/plain": [
       "'the file data_IC_TAX_METG_df.csv has been created'"
      ]
     },
     "metadata": {},
     "output_type": "display_data"
    },
    {
     "data": {
      "text/plain": [
       "'the file data_TM_VAL_MRCH_R2_ZS_df.csv has been created'"
      ]
     },
     "metadata": {},
     "output_type": "display_data"
    },
    {
     "data": {
      "text/plain": [
       "'the file data_TM_VAL_MRCH_R3_ZS_df.csv has been created'"
      ]
     },
     "metadata": {},
     "output_type": "display_data"
    },
    {
     "data": {
      "text/plain": [
       "'the file data_TM_VAL_MRCH_R4_ZS_df.csv has been created'"
      ]
     },
     "metadata": {},
     "output_type": "display_data"
    },
    {
     "data": {
      "text/plain": [
       "'the file data_TG_VAL_TOTL_GD_ZS_df.csv has been created'"
      ]
     },
     "metadata": {},
     "output_type": "display_data"
    },
    {
     "data": {
      "text/plain": [
       "'the file data_IC_TAX_OTHR_CP_ZS_df.csv has been created'"
      ]
     },
     "metadata": {},
     "output_type": "display_data"
    },
    {
     "data": {
      "text/plain": [
       "'the file data_IC_ELC_OUTG_df.csv has been created'"
      ]
     },
     "metadata": {},
     "output_type": "display_data"
    },
    {
     "data": {
      "text/plain": [
       "'the file data_IC_WRH_PROC_df.csv has been created'"
      ]
     },
     "metadata": {},
     "output_type": "display_data"
    },
    {
     "data": {
      "text/plain": [
       "'the file data_IC_PRP_PROC_df.csv has been created'"
      ]
     },
     "metadata": {},
     "output_type": "display_data"
    },
    {
     "data": {
      "text/plain": [
       "'the file data_IC_TAX_PRFT_CP_ZS_df.csv has been created'"
      ]
     },
     "metadata": {},
     "output_type": "display_data"
    },
    {
     "data": {
      "text/plain": [
       "'the file data_TM_TAX_MRCH_IP_ZS_df.csv has been created'"
      ]
     },
     "metadata": {},
     "output_type": "display_data"
    },
    {
     "data": {
      "text/plain": [
       "'the file data_TT_PRI_MRCH_XD_WD_df.csv has been created'"
      ]
     },
     "metadata": {},
     "output_type": "display_data"
    },
    {
     "data": {
      "text/plain": [
       "'the file data_IC_BUS_NDNS_ZS_df.csv has been created'"
      ]
     },
     "metadata": {},
     "output_type": "display_data"
    },
    {
     "data": {
      "text/plain": [
       "'the file data_IC_BUS_NREG_df.csv has been created'"
      ]
     },
     "metadata": {},
     "output_type": "display_data"
    },
    {
     "data": {
      "text/plain": [
       "'the file data_TM_TAX_MANF_IP_ZS_df.csv has been created'"
      ]
     },
     "metadata": {},
     "output_type": "display_data"
    },
    {
     "data": {
      "text/plain": [
       "'the file data_TM_TAX_TCOM_IP_ZS_df.csv has been created'"
      ]
     },
     "metadata": {},
     "output_type": "display_data"
    },
    {
     "data": {
      "text/plain": [
       "'the file data_IC_REG_PROC_FE_df.csv has been created'"
      ]
     },
     "metadata": {},
     "output_type": "display_data"
    },
    {
     "data": {
      "text/plain": [
       "'the file data_IC_REG_PROC_MA_df.csv has been created'"
      ]
     },
     "metadata": {},
     "output_type": "display_data"
    },
    {
     "data": {
      "text/plain": [
       "'the file data_TM_TAX_MRCH_SM_FN_ZS_df.csv has been created'"
      ]
     },
     "metadata": {},
     "output_type": "display_data"
    },
    {
     "data": {
      "text/plain": [
       "'the file data_TM_TAX_MRCH_SR_ZS_df.csv has been created'"
      ]
     },
     "metadata": {},
     "output_type": "display_data"
    },
    {
     "data": {
      "text/plain": [
       "'the file data_TM_TAX_MANF_SR_ZS_df.csv has been created'"
      ]
     },
     "metadata": {},
     "output_type": "display_data"
    },
    {
     "data": {
      "text/plain": [
       "'the file data_TM_TAX_TCOM_SR_ZS_df.csv has been created'"
      ]
     },
     "metadata": {},
     "output_type": "display_data"
    },
    {
     "data": {
      "text/plain": [
       "'the file data_IC_REG_PROC_df.csv has been created'"
      ]
     },
     "metadata": {},
     "output_type": "display_data"
    },
    {
     "data": {
      "text/plain": [
       "'the file data_TM_TAX_MRCH_SM_AR_ZS_df.csv has been created'"
      ]
     },
     "metadata": {},
     "output_type": "display_data"
    },
    {
     "data": {
      "text/plain": [
       "'the file data_TM_TAX_TCOM_SM_AR_ZS_df.csv has been created'"
      ]
     },
     "metadata": {},
     "output_type": "display_data"
    },
    {
     "data": {
      "text/plain": [
       "'the file data_TM_TAX_MANF_SM_AR_ZS_df.csv has been created'"
      ]
     },
     "metadata": {},
     "output_type": "display_data"
    },
    {
     "data": {
      "text/plain": [
       "'the file data_TM_TAX_MRCH_WM_AR_ZS_df.csv has been created'"
      ]
     },
     "metadata": {},
     "output_type": "display_data"
    },
    {
     "data": {
      "text/plain": [
       "'the file data_TM_TAX_MANF_WM_AR_ZS_df.csv has been created'"
      ]
     },
     "metadata": {},
     "output_type": "display_data"
    },
    {
     "data": {
      "text/plain": [
       "'the file data_TM_TAX_TCOM_SM_FN_ZS_df.csv has been created'"
      ]
     },
     "metadata": {},
     "output_type": "display_data"
    },
    {
     "data": {
      "text/plain": [
       "'the file data_TM_TAX_MRCH_WM_FN_ZS_df.csv has been created'"
      ]
     },
     "metadata": {},
     "output_type": "display_data"
    },
    {
     "data": {
      "text/plain": [
       "'the file data_TM_TAX_TCOM_WM_AR_ZS_df.csv has been created'"
      ]
     },
     "metadata": {},
     "output_type": "display_data"
    },
    {
     "data": {
      "text/plain": [
       "'the file data_TM_TAX_MANF_SM_FN_ZS_df.csv has been created'"
      ]
     },
     "metadata": {},
     "output_type": "display_data"
    },
    {
     "data": {
      "text/plain": [
       "'the file data_TM_TAX_MANF_WM_FN_ZS_df.csv has been created'"
      ]
     },
     "metadata": {},
     "output_type": "display_data"
    },
    {
     "data": {
      "text/plain": [
       "'the file data_IC_WRH_DURS_df.csv has been created'"
      ]
     },
     "metadata": {},
     "output_type": "display_data"
    },
    {
     "data": {
      "text/plain": [
       "'the file data_IC_LGL_DURS_df.csv has been created'"
      ]
     },
     "metadata": {},
     "output_type": "display_data"
    },
    {
     "data": {
      "text/plain": [
       "'the file data_IC_PRP_DURS_df.csv has been created'"
      ]
     },
     "metadata": {},
     "output_type": "display_data"
    },
    {
     "data": {
      "text/plain": [
       "'the file data_IC_REG_DURS_df.csv has been created'"
      ]
     },
     "metadata": {},
     "output_type": "display_data"
    },
    {
     "data": {
      "text/plain": [
       "'the file data_TM_TAX_TCOM_WM_FN_ZS_df.csv has been created'"
      ]
     },
     "metadata": {},
     "output_type": "display_data"
    },
    {
     "data": {
      "text/plain": [
       "'the file data_IC_TAX_PAYM_df.csv has been created'"
      ]
     },
     "metadata": {},
     "output_type": "display_data"
    },
    {
     "data": {
      "text/plain": [
       "'the file data_IC_FRM_DURS_df.csv has been created'"
      ]
     },
     "metadata": {},
     "output_type": "display_data"
    },
    {
     "data": {
      "text/plain": [
       "'the file data_IQ_CPA_SOCI_XQ_df.csv has been created'"
      ]
     },
     "metadata": {},
     "output_type": "display_data"
    },
    {
     "data": {
      "text/plain": [
       "'the file data_IC_REG_DURS_FE_df.csv has been created'"
      ]
     },
     "metadata": {},
     "output_type": "display_data"
    },
    {
     "data": {
      "text/plain": [
       "'the file data_IC_REG_DURS_MA_df.csv has been created'"
      ]
     },
     "metadata": {},
     "output_type": "display_data"
    },
    {
     "data": {
      "text/plain": [
       "'the file data_IC_GOV_DURS_ZS_df.csv has been created'"
      ]
     },
     "metadata": {},
     "output_type": "display_data"
    },
    {
     "data": {
      "text/plain": [
       "'the file data_IC_EXP_TMBC_df.csv has been created'"
      ]
     },
     "metadata": {},
     "output_type": "display_data"
    },
    {
     "data": {
      "text/plain": [
       "'the file data_IC_IMP_TMDC_df.csv has been created'"
      ]
     },
     "metadata": {},
     "output_type": "display_data"
    },
    {
     "data": {
      "text/plain": [
       "'the file data_IC_TAX_DURS_df.csv has been created'"
      ]
     },
     "metadata": {},
     "output_type": "display_data"
    },
    {
     "data": {
      "text/plain": [
       "'the file data_IC_EXP_TMDC_df.csv has been created'"
      ]
     },
     "metadata": {},
     "output_type": "display_data"
    },
    {
     "data": {
      "text/plain": [
       "'the file data_IC_IMP_TMBC_df.csv has been created'"
      ]
     },
     "metadata": {},
     "output_type": "display_data"
    },
    {
     "data": {
      "text/plain": [
       "'the file data_IC_ISV_DURS_df.csv has been created'"
      ]
     },
     "metadata": {},
     "output_type": "display_data"
    },
    {
     "data": {
      "text/plain": [
       "'the file data_IC_TAX_TOTL_CP_ZS_df.csv has been created'"
      ]
     },
     "metadata": {},
     "output_type": "display_data"
    },
    {
     "data": {
      "text/plain": [
       "'the file data_TX_VAL_TRAN_ZS_WT_df.csv has been created'"
      ]
     },
     "metadata": {},
     "output_type": "display_data"
    },
    {
     "data": {
      "text/plain": [
       "'the file data_TM_VAL_TRAN_ZS_WT_df.csv has been created'"
      ]
     },
     "metadata": {},
     "output_type": "display_data"
    },
    {
     "data": {
      "text/plain": [
       "'the file data_TX_VAL_TRVL_ZS_WT_df.csv has been created'"
      ]
     },
     "metadata": {},
     "output_type": "display_data"
    },
    {
     "data": {
      "text/plain": [
       "'the file data_MS_MIL_TOTL_P1_df.csv has been created'"
      ]
     },
     "metadata": {},
     "output_type": "display_data"
    },
    {
     "data": {
      "text/plain": [
       "'the file data_MS_MIL_XPRT_KD_df.csv has been created'"
      ]
     },
     "metadata": {},
     "output_type": "display_data"
    },
    {
     "data": {
      "text/plain": [
       "'the file data_TM_VAL_TRVL_ZS_WT_df.csv has been created'"
      ]
     },
     "metadata": {},
     "output_type": "display_data"
    },
    {
     "data": {
      "text/plain": [
       "'the file data_MS_MIL_TOTL_TF_ZS_df.csv has been created'"
      ]
     },
     "metadata": {},
     "output_type": "display_data"
    },
    {
     "data": {
      "text/plain": [
       "'the file data_MS_MIL_MPRT_KD_df.csv has been created'"
      ]
     },
     "metadata": {},
     "output_type": "display_data"
    },
    {
     "data": {
      "text/plain": [
       "'the file data_VC_BTL_DETH_df.csv has been created'"
      ]
     },
     "metadata": {},
     "output_type": "display_data"
    },
    {
     "data": {
      "text/plain": [
       "'the file data_IQ_CPA_HRES_XQ_df.csv has been created'"
      ]
     },
     "metadata": {},
     "output_type": "display_data"
    },
    {
     "data": {
      "text/plain": [
       "'the file data_IQ_CPA_BREG_XQ_df.csv has been created'"
      ]
     },
     "metadata": {},
     "output_type": "display_data"
    },
    {
     "data": {
      "text/plain": [
       "'the file data_IQ_CPA_DEBT_XQ_df.csv has been created'"
      ]
     },
     "metadata": {},
     "output_type": "display_data"
    },
    {
     "data": {
      "text/plain": [
       "'the file data_IQ_CPA_ECON_XQ_df.csv has been created'"
      ]
     },
     "metadata": {},
     "output_type": "display_data"
    },
    {
     "data": {
      "text/plain": [
       "'the file data_IQ_CPA_REVN_XQ_df.csv has been created'"
      ]
     },
     "metadata": {},
     "output_type": "display_data"
    },
    {
     "data": {
      "text/plain": [
       "'the file data_IQ_CPA_PRES_XQ_df.csv has been created'"
      ]
     },
     "metadata": {},
     "output_type": "display_data"
    },
    {
     "data": {
      "text/plain": [
       "'the file data_IQ_CPA_FINS_XQ_df.csv has been created'"
      ]
     },
     "metadata": {},
     "output_type": "display_data"
    },
    {
     "data": {
      "text/plain": [
       "'the file data_IQ_CPA_FISP_XQ_df.csv has been created'"
      ]
     },
     "metadata": {},
     "output_type": "display_data"
    },
    {
     "data": {
      "text/plain": [
       "'the file data_IQ_CPA_PADM_XQ_df.csv has been created'"
      ]
     },
     "metadata": {},
     "output_type": "display_data"
    },
    {
     "data": {
      "text/plain": [
       "'the file data_IQ_CPA_PROT_XQ_df.csv has been created'"
      ]
     },
     "metadata": {},
     "output_type": "display_data"
    },
    {
     "data": {
      "text/plain": [
       "'the file data_IQ_CPA_ENVR_XQ_df.csv has been created'"
      ]
     },
     "metadata": {},
     "output_type": "display_data"
    },
    {
     "data": {
      "text/plain": [
       "'the file data_IQ_CPA_GNDR_XQ_df.csv has been created'"
      ]
     },
     "metadata": {},
     "output_type": "display_data"
    },
    {
     "data": {
      "text/plain": [
       "'the file data_IQ_CPA_MACR_XQ_df.csv has been created'"
      ]
     },
     "metadata": {},
     "output_type": "display_data"
    },
    {
     "data": {
      "text/plain": [
       "'the file data_IQ_CPA_PROP_XQ_df.csv has been created'"
      ]
     },
     "metadata": {},
     "output_type": "display_data"
    },
    {
     "data": {
      "text/plain": [
       "'the file data_IQ_CPA_FINQ_XQ_df.csv has been created'"
      ]
     },
     "metadata": {},
     "output_type": "display_data"
    },
    {
     "data": {
      "text/plain": [
       "'the file data_IQ_CPA_STRC_XQ_df.csv has been created'"
      ]
     },
     "metadata": {},
     "output_type": "display_data"
    },
    {
     "data": {
      "text/plain": [
       "'the file data_IQ_CPA_TRAN_XQ_df.csv has been created'"
      ]
     },
     "metadata": {},
     "output_type": "display_data"
    },
    {
     "data": {
      "text/plain": [
       "'the file data_GC_DOD_TOTL_CN_df.csv has been created'"
      ]
     },
     "metadata": {},
     "output_type": "display_data"
    },
    {
     "data": {
      "text/plain": [
       "'the file data_GC_XPN_COMP_ZS_df.csv has been created'"
      ]
     },
     "metadata": {},
     "output_type": "display_data"
    },
    {
     "data": {
      "text/plain": [
       "'the file data_GC_XPN_COMP_CN_df.csv has been created'"
      ]
     },
     "metadata": {},
     "output_type": "display_data"
    },
    {
     "data": {
      "text/plain": [
       "'the file data_GC_REV_GOTR_CN_df.csv has been created'"
      ]
     },
     "metadata": {},
     "output_type": "display_data"
    },
    {
     "data": {
      "text/plain": [
       "'the file data_HD_HCI_OVRL_df.csv has been created'"
      ]
     },
     "metadata": {},
     "output_type": "display_data"
    },
    {
     "data": {
      "text/plain": [
       "'the file data_GC_TAX_IMPT_ZS_df.csv has been created'"
      ]
     },
     "metadata": {},
     "output_type": "display_data"
    },
    {
     "data": {
      "text/plain": [
       "'the file data_GC_TAX_IMPT_CN_df.csv has been created'"
      ]
     },
     "metadata": {},
     "output_type": "display_data"
    },
    {
     "data": {
      "text/plain": [
       "'the file data_GC_XPN_TOTL_CN_df.csv has been created'"
      ]
     },
     "metadata": {},
     "output_type": "display_data"
    },
    {
     "data": {
      "text/plain": [
       "'the file data_GC_XPN_GSRV_ZS_df.csv has been created'"
      ]
     },
     "metadata": {},
     "output_type": "display_data"
    },
    {
     "data": {
      "text/plain": [
       "'the file data_GC_XPN_GSRV_CN_df.csv has been created'"
      ]
     },
     "metadata": {},
     "output_type": "display_data"
    },
    {
     "data": {
      "text/plain": [
       "'the file data_GC_REV_GOTR_ZS_df.csv has been created'"
      ]
     },
     "metadata": {},
     "output_type": "display_data"
    },
    {
     "data": {
      "text/plain": [
       "'the file data_HD_HCI_OVRL_FE_df.csv has been created'"
      ]
     },
     "metadata": {},
     "output_type": "display_data"
    },
    {
     "data": {
      "text/plain": [
       "'the file data_HD_HCI_OVRL_LB_FE_df.csv has been created'"
      ]
     },
     "metadata": {},
     "output_type": "display_data"
    },
    {
     "data": {
      "text/plain": [
       "'the file data_HD_HCI_OVRL_MA_df.csv has been created'"
      ]
     },
     "metadata": {},
     "output_type": "display_data"
    },
    {
     "data": {
      "text/plain": [
       "'the file data_HD_HCI_OVRL_UB_FE_df.csv has been created'"
      ]
     },
     "metadata": {},
     "output_type": "display_data"
    },
    {
     "data": {
      "text/plain": [
       "'the file data_HD_HCI_OVRL_LB_df.csv has been created'"
      ]
     },
     "metadata": {},
     "output_type": "display_data"
    },
    {
     "data": {
      "text/plain": [
       "'the file data_HD_HCI_OVRL_LB_MA_df.csv has been created'"
      ]
     },
     "metadata": {},
     "output_type": "display_data"
    },
    {
     "data": {
      "text/plain": [
       "'the file data_HD_HCI_OVRL_UB_MA_df.csv has been created'"
      ]
     },
     "metadata": {},
     "output_type": "display_data"
    },
    {
     "data": {
      "text/plain": [
       "'the file data_HD_HCI_OVRL_UB_df.csv has been created'"
      ]
     },
     "metadata": {},
     "output_type": "display_data"
    },
    {
     "data": {
      "text/plain": [
       "'the file data_VC_IHR_PSRC_P5_df.csv has been created'"
      ]
     },
     "metadata": {},
     "output_type": "display_data"
    },
    {
     "data": {
      "text/plain": [
       "'the file data_VC_IHR_PSRC_FE_P5_df.csv has been created'"
      ]
     },
     "metadata": {},
     "output_type": "display_data"
    },
    {
     "data": {
      "text/plain": [
       "'the file data_VC_IHR_PSRC_MA_P5_df.csv has been created'"
      ]
     },
     "metadata": {},
     "output_type": "display_data"
    },
    {
     "data": {
      "text/plain": [
       "'the file data_GC_XPN_INTP_ZS_df.csv has been created'"
      ]
     },
     "metadata": {},
     "output_type": "display_data"
    },
    {
     "data": {
      "text/plain": [
       "'the file data_GC_XPN_INTP_RV_ZS_df.csv has been created'"
      ]
     },
     "metadata": {},
     "output_type": "display_data"
    },
    {
     "data": {
      "text/plain": [
       "'the file data_GC_XPN_INTP_CN_df.csv has been created'"
      ]
     },
     "metadata": {},
     "output_type": "display_data"
    },
    {
     "data": {
      "text/plain": [
       "'the file data_VC_IDP_NWCV_df.csv has been created'"
      ]
     },
     "metadata": {},
     "output_type": "display_data"
    },
    {
     "data": {
      "text/plain": [
       "'the file data_VC_IDP_NWDS_df.csv has been created'"
      ]
     },
     "metadata": {},
     "output_type": "display_data"
    },
    {
     "data": {
      "text/plain": [
       "'the file data_VC_IDP_TOCV_df.csv has been created'"
      ]
     },
     "metadata": {},
     "output_type": "display_data"
    },
    {
     "data": {
      "text/plain": [
       "'the file data_IQ_SCI_MTHD_df.csv has been created'"
      ]
     },
     "metadata": {},
     "output_type": "display_data"
    },
    {
     "data": {
      "text/plain": [
       "'the file data_MS_MIL_XPND_GD_ZS_df.csv has been created'"
      ]
     },
     "metadata": {},
     "output_type": "display_data"
    },
    {
     "data": {
      "text/plain": [
       "'the file data_MS_MIL_XPND_ZS_df.csv has been created'"
      ]
     },
     "metadata": {},
     "output_type": "display_data"
    },
    {
     "data": {
      "text/plain": [
       "'the file data_GC_AST_TOTL_GD_ZS_df.csv has been created'"
      ]
     },
     "metadata": {},
     "output_type": "display_data"
    },
    {
     "data": {
      "text/plain": [
       "'the file data_GC_LBL_TOTL_GD_ZS_df.csv has been created'"
      ]
     },
     "metadata": {},
     "output_type": "display_data"
    },
    {
     "data": {
      "text/plain": [
       "'the file data_GC_LBL_TOTL_CN_df.csv has been created'"
      ]
     },
     "metadata": {},
     "output_type": "display_data"
    },
    {
     "data": {
      "text/plain": [
       "'the file data_GC_NLD_TOTL_GD_ZS_df.csv has been created'"
      ]
     },
     "metadata": {},
     "output_type": "display_data"
    },
    {
     "data": {
      "text/plain": [
       "'the file data_MS_MIL_XPND_CN_df.csv has been created'"
      ]
     },
     "metadata": {},
     "output_type": "display_data"
    },
    {
     "data": {
      "text/plain": [
       "'the file data_GC_NFN_TOTL_CN_df.csv has been created'"
      ]
     },
     "metadata": {},
     "output_type": "display_data"
    },
    {
     "data": {
      "text/plain": [
       "'the file data_GC_NLD_TOTL_CN_df.csv has been created'"
      ]
     },
     "metadata": {},
     "output_type": "display_data"
    },
    {
     "data": {
      "text/plain": [
       "'the file data_GC_XPN_OTHR_ZS_df.csv has been created'"
      ]
     },
     "metadata": {},
     "output_type": "display_data"
    },
    {
     "data": {
      "text/plain": [
       "'the file data_GC_XPN_OTHR_CN_df.csv has been created'"
      ]
     },
     "metadata": {},
     "output_type": "display_data"
    },
    {
     "data": {
      "text/plain": [
       "'the file data_GF_XPD_BUDG_ZS_df.csv has been created'"
      ]
     },
     "metadata": {},
     "output_type": "display_data"
    },
    {
     "data": {
      "text/plain": [
       "'the file data_GC_REV_XGRT_CN_df.csv has been created'"
      ]
     },
     "metadata": {},
     "output_type": "display_data"
    },
    {
     "data": {
      "text/plain": [
       "'the file data_GC_REV_SOCL_ZS_df.csv has been created'"
      ]
     },
     "metadata": {},
     "output_type": "display_data"
    },
    {
     "data": {
      "text/plain": [
       "'the file data_SL_TLF_0714_ZS_df.csv has been created'"
      ]
     },
     "metadata": {},
     "output_type": "display_data"
    },
    {
     "data": {
      "text/plain": [
       "'the file data_SL_TLF_0714_WK_ZS_df.csv has been created'"
      ]
     },
     "metadata": {},
     "output_type": "display_data"
    },
    {
     "data": {
      "text/plain": [
       "'the file data_MS_MIL_XPND_CD_df.csv has been created'"
      ]
     },
     "metadata": {},
     "output_type": "display_data"
    },
    {
     "data": {
      "text/plain": [
       "'the file data_GC_AST_TOTL_CN_df.csv has been created'"
      ]
     },
     "metadata": {},
     "output_type": "display_data"
    },
    {
     "data": {
      "text/plain": [
       "'the file data_GC_TAX_OTHR_CN_df.csv has been created'"
      ]
     },
     "metadata": {},
     "output_type": "display_data"
    },
    {
     "data": {
      "text/plain": [
       "'the file data_IQ_SCI_PRDC_df.csv has been created'"
      ]
     },
     "metadata": {},
     "output_type": "display_data"
    },
    {
     "data": {
      "text/plain": [
       "'the file data_GC_REV_SOCL_CN_df.csv has been created'"
      ]
     },
     "metadata": {},
     "output_type": "display_data"
    },
    {
     "data": {
      "text/plain": [
       "'the file data_IQ_SCI_SRCE_df.csv has been created'"
      ]
     },
     "metadata": {},
     "output_type": "display_data"
    },
    {
     "data": {
      "text/plain": [
       "'the file data_IQ_SCI_OVRL_df.csv has been created'"
      ]
     },
     "metadata": {},
     "output_type": "display_data"
    },
    {
     "data": {
      "text/plain": [
       "'the file data_SL_TLF_ACTI_1524_MA_ZS_df.csv has been created'"
      ]
     },
     "metadata": {},
     "output_type": "display_data"
    },
    {
     "data": {
      "text/plain": [
       "'the file data_SL_ISV_IFRM_ZS_df.csv has been created'"
      ]
     },
     "metadata": {},
     "output_type": "display_data"
    },
    {
     "data": {
      "text/plain": [
       "'the file data_SL_ISV_IFRM_MA_ZS_df.csv has been created'"
      ]
     },
     "metadata": {},
     "output_type": "display_data"
    },
    {
     "data": {
      "text/plain": [
       "'the file data_IQ_SPI_OVRL_df.csv has been created'"
      ]
     },
     "metadata": {},
     "output_type": "display_data"
    },
    {
     "data": {
      "text/plain": [
       "'the file data_IQ_SPI_PIL1_df.csv has been created'"
      ]
     },
     "metadata": {},
     "output_type": "display_data"
    },
    {
     "data": {
      "text/plain": [
       "'the file data_SL_ISV_IFRM_FE_ZS_df.csv has been created'"
      ]
     },
     "metadata": {},
     "output_type": "display_data"
    },
    {
     "data": {
      "text/plain": [
       "'the file data_SL_TLF_ACTI_1524_FE_ZS_df.csv has been created'"
      ]
     },
     "metadata": {},
     "output_type": "display_data"
    },
    {
     "data": {
      "text/plain": [
       "'the file data_SL_TLF_ACTI_1524_ZS_df.csv has been created'"
      ]
     },
     "metadata": {},
     "output_type": "display_data"
    },
    {
     "data": {
      "text/plain": [
       "'the file data_SL_TLF_ACTI_FE_ZS_df.csv has been created'"
      ]
     },
     "metadata": {},
     "output_type": "display_data"
    },
    {
     "data": {
      "text/plain": [
       "'the file data_IQ_SPI_PIL2_df.csv has been created'"
      ]
     },
     "metadata": {},
     "output_type": "display_data"
    },
    {
     "data": {
      "text/plain": [
       "'the file data_IQ_SPI_PIL3_df.csv has been created'"
      ]
     },
     "metadata": {},
     "output_type": "display_data"
    },
    {
     "data": {
      "text/plain": [
       "'the file data_GC_TAX_INTT_RV_ZS_df.csv has been created'"
      ]
     },
     "metadata": {},
     "output_type": "display_data"
    },
    {
     "data": {
      "text/plain": [
       "'the file data_SL_TLF_ACTI_MA_ZS_df.csv has been created'"
      ]
     },
     "metadata": {},
     "output_type": "display_data"
    },
    {
     "data": {
      "text/plain": [
       "'the file data_SL_TLF_ACTI_ZS_df.csv has been created'"
      ]
     },
     "metadata": {},
     "output_type": "display_data"
    },
    {
     "data": {
      "text/plain": [
       "'the file data_per_lm_alllm_adq_pop_tot_df.csv has been created'"
      ]
     },
     "metadata": {},
     "output_type": "display_data"
    },
    {
     "data": {
      "text/plain": [
       "'the file data_SL_TLF_0714_SW_TM_df.csv has been created'"
      ]
     },
     "metadata": {},
     "output_type": "display_data"
    },
    {
     "data": {
      "text/plain": [
       "'the file data_SL_TLF_0714_SW_FE_TM_df.csv has been created'"
      ]
     },
     "metadata": {},
     "output_type": "display_data"
    },
    {
     "data": {
      "text/plain": [
       "'the file data_SL_TLF_0714_WK_TM_df.csv has been created'"
      ]
     },
     "metadata": {},
     "output_type": "display_data"
    },
    {
     "data": {
      "text/plain": [
       "'the file data_GC_TAX_EXPT_ZS_df.csv has been created'"
      ]
     },
     "metadata": {},
     "output_type": "display_data"
    },
    {
     "data": {
      "text/plain": [
       "'the file data_GC_TAX_EXPT_CN_df.csv has been created'"
      ]
     },
     "metadata": {},
     "output_type": "display_data"
    },
    {
     "data": {
      "text/plain": [
       "'the file data_IQ_SPI_PIL4_df.csv has been created'"
      ]
     },
     "metadata": {},
     "output_type": "display_data"
    },
    {
     "data": {
      "text/plain": [
       "'the file data_IQ_SPI_PIL5_df.csv has been created'"
      ]
     },
     "metadata": {},
     "output_type": "display_data"
    },
    {
     "data": {
      "text/plain": [
       "'the file data_SL_TLF_0714_WK_FE_TM_df.csv has been created'"
      ]
     },
     "metadata": {},
     "output_type": "display_data"
    },
    {
     "data": {
      "text/plain": [
       "'the file data_SL_TLF_0714_WK_MA_TM_df.csv has been created'"
      ]
     },
     "metadata": {},
     "output_type": "display_data"
    },
    {
     "data": {
      "text/plain": [
       "'the file data_GC_XPN_TRFT_ZS_df.csv has been created'"
      ]
     },
     "metadata": {},
     "output_type": "display_data"
    },
    {
     "data": {
      "text/plain": [
       "'the file data_GC_XPN_TRFT_CN_df.csv has been created'"
      ]
     },
     "metadata": {},
     "output_type": "display_data"
    },
    {
     "data": {
      "text/plain": [
       "'the file data_GC_TAX_TOTL_GD_ZS_df.csv has been created'"
      ]
     },
     "metadata": {},
     "output_type": "display_data"
    },
    {
     "data": {
      "text/plain": [
       "'the file data_GC_TAX_TOTL_CN_df.csv has been created'"
      ]
     },
     "metadata": {},
     "output_type": "display_data"
    },
    {
     "data": {
      "text/plain": [
       "'the file data_per_si_allsi_ben_q1_tot_df.csv has been created'"
      ]
     },
     "metadata": {},
     "output_type": "display_data"
    },
    {
     "data": {
      "text/plain": [
       "'the file data_per_allsp_ben_q1_tot_df.csv has been created'"
      ]
     },
     "metadata": {},
     "output_type": "display_data"
    },
    {
     "data": {
      "text/plain": [
       "'the file data_per_sa_allsa_ben_q1_tot_df.csv has been created'"
      ]
     },
     "metadata": {},
     "output_type": "display_data"
    },
    {
     "data": {
      "text/plain": [
       "'the file data_per_lm_alllm_ben_q1_tot_df.csv has been created'"
      ]
     },
     "metadata": {},
     "output_type": "display_data"
    },
    {
     "data": {
      "text/plain": [
       "'the file data_GC_TAX_GSRV_RV_ZS_df.csv has been created'"
      ]
     },
     "metadata": {},
     "output_type": "display_data"
    },
    {
     "data": {
      "text/plain": [
       "'the file data_SL_AGR_0714_ZS_df.csv has been created'"
      ]
     },
     "metadata": {},
     "output_type": "display_data"
    },
    {
     "data": {
      "text/plain": [
       "'the file data_SL_MNF_0714_ZS_df.csv has been created'"
      ]
     },
     "metadata": {},
     "output_type": "display_data"
    },
    {
     "data": {
      "text/plain": [
       "'the file data_SL_SLF_0714_ZS_df.csv has been created'"
      ]
     },
     "metadata": {},
     "output_type": "display_data"
    },
    {
     "data": {
      "text/plain": [
       "'the file data_SL_SLF_0714_FE_ZS_df.csv has been created'"
      ]
     },
     "metadata": {},
     "output_type": "display_data"
    },
    {
     "data": {
      "text/plain": [
       "'the file data_SL_SLF_0714_MA_ZS_df.csv has been created'"
      ]
     },
     "metadata": {},
     "output_type": "display_data"
    },
    {
     "data": {
      "text/plain": [
       "'the file data_SL_FAM_0714_FE_ZS_df.csv has been created'"
      ]
     },
     "metadata": {},
     "output_type": "display_data"
    },
    {
     "data": {
      "text/plain": [
       "'the file data_SL_FAM_0714_MA_ZS_df.csv has been created'"
      ]
     },
     "metadata": {},
     "output_type": "display_data"
    },
    {
     "data": {
      "text/plain": [
       "'the file data_SL_WAG_0714_ZS_df.csv has been created'"
      ]
     },
     "metadata": {},
     "output_type": "display_data"
    },
    {
     "data": {
      "text/plain": [
       "'the file data_SL_WAG_0714_MA_ZS_df.csv has been created'"
      ]
     },
     "metadata": {},
     "output_type": "display_data"
    },
    {
     "data": {
      "text/plain": [
       "'the file data_SL_FAM_WORK_ZS_df.csv has been created'"
      ]
     },
     "metadata": {},
     "output_type": "display_data"
    },
    {
     "data": {
      "text/plain": [
       "'the file data_per_si_allsi_cov_pop_tot_df.csv has been created'"
      ]
     },
     "metadata": {},
     "output_type": "display_data"
    },
    {
     "data": {
      "text/plain": [
       "'the file data_per_si_allsi_cov_q2_tot_df.csv has been created'"
      ]
     },
     "metadata": {},
     "output_type": "display_data"
    },
    {
     "data": {
      "text/plain": [
       "'the file data_GC_TAX_GSRV_VA_ZS_df.csv has been created'"
      ]
     },
     "metadata": {},
     "output_type": "display_data"
    },
    {
     "data": {
      "text/plain": [
       "'the file data_GC_TAX_GSRV_CN_df.csv has been created'"
      ]
     },
     "metadata": {},
     "output_type": "display_data"
    },
    {
     "data": {
      "text/plain": [
       "'the file data_GC_TAX_YPKG_RV_ZS_df.csv has been created'"
      ]
     },
     "metadata": {},
     "output_type": "display_data"
    },
    {
     "data": {
      "text/plain": [
       "'the file data_per_si_allsi_cov_q3_tot_df.csv has been created'"
      ]
     },
     "metadata": {},
     "output_type": "display_data"
    },
    {
     "data": {
      "text/plain": [
       "'the file data_per_si_allsi_cov_q4_tot_df.csv has been created'"
      ]
     },
     "metadata": {},
     "output_type": "display_data"
    },
    {
     "data": {
      "text/plain": [
       "'the file data_per_si_allsi_cov_q1_tot_df.csv has been created'"
      ]
     },
     "metadata": {},
     "output_type": "display_data"
    },
    {
     "data": {
      "text/plain": [
       "'the file data_per_si_allsi_cov_q5_tot_df.csv has been created'"
      ]
     },
     "metadata": {},
     "output_type": "display_data"
    },
    {
     "data": {
      "text/plain": [
       "'the file data_per_allsp_cov_pop_tot_df.csv has been created'"
      ]
     },
     "metadata": {},
     "output_type": "display_data"
    },
    {
     "data": {
      "text/plain": [
       "'the file data_per_sa_allsa_cov_pop_tot_df.csv has been created'"
      ]
     },
     "metadata": {},
     "output_type": "display_data"
    },
    {
     "data": {
      "text/plain": [
       "'the file data_GC_TAX_YPKG_ZS_df.csv has been created'"
      ]
     },
     "metadata": {},
     "output_type": "display_data"
    },
    {
     "data": {
      "text/plain": [
       "'the file data_GC_TAX_YPKG_CN_df.csv has been created'"
      ]
     },
     "metadata": {},
     "output_type": "display_data"
    },
    {
     "data": {
      "text/plain": [
       "'the file data_per_sa_allsa_cov_q2_tot_df.csv has been created'"
      ]
     },
     "metadata": {},
     "output_type": "display_data"
    },
    {
     "data": {
      "text/plain": [
       "'the file data_per_sa_allsa_cov_q3_tot_df.csv has been created'"
      ]
     },
     "metadata": {},
     "output_type": "display_data"
    },
    {
     "data": {
      "text/plain": [
       "'the file data_per_sa_allsa_cov_q4_tot_df.csv has been created'"
      ]
     },
     "metadata": {},
     "output_type": "display_data"
    },
    {
     "data": {
      "text/plain": [
       "'the file data_per_sa_allsa_cov_q1_tot_df.csv has been created'"
      ]
     },
     "metadata": {},
     "output_type": "display_data"
    },
    {
     "data": {
      "text/plain": [
       "'the file data_per_lm_alllm_cov_q2_tot_df.csv has been created'"
      ]
     },
     "metadata": {},
     "output_type": "display_data"
    },
    {
     "data": {
      "text/plain": [
       "'the file data_per_lm_alllm_cov_q3_tot_df.csv has been created'"
      ]
     },
     "metadata": {},
     "output_type": "display_data"
    },
    {
     "data": {
      "text/plain": [
       "'the file data_GC_TAX_INTT_CN_df.csv has been created'"
      ]
     },
     "metadata": {},
     "output_type": "display_data"
    },
    {
     "data": {
      "text/plain": [
       "'the file data_IP_PAT_NRES_df.csv has been created'"
      ]
     },
     "metadata": {},
     "output_type": "display_data"
    },
    {
     "data": {
      "text/plain": [
       "'the file data_IP_PAT_RESD_df.csv has been created'"
      ]
     },
     "metadata": {},
     "output_type": "display_data"
    },
    {
     "data": {
      "text/plain": [
       "'the file data_GB_XPD_RSDV_GD_ZS_df.csv has been created'"
      ]
     },
     "metadata": {},
     "output_type": "display_data"
    },
    {
     "data": {
      "text/plain": [
       "'the file data_IP_TMK_NRES_df.csv has been created'"
      ]
     },
     "metadata": {},
     "output_type": "display_data"
    },
    {
     "data": {
      "text/plain": [
       "'the file data_SP_POP_SCIE_RD_P6_df.csv has been created'"
      ]
     },
     "metadata": {},
     "output_type": "display_data"
    },
    {
     "data": {
      "text/plain": [
       "'the file data_IP_TMK_RESD_df.csv has been created'"
      ]
     },
     "metadata": {},
     "output_type": "display_data"
    },
    {
     "data": {
      "text/plain": [
       "'the file data_IP_TMK_TOTL_df.csv has been created'"
      ]
     },
     "metadata": {},
     "output_type": "display_data"
    },
    {
     "data": {
      "text/plain": [
       "'the file data_IP_JRN_ARTC_SC_df.csv has been created'"
      ]
     },
     "metadata": {},
     "output_type": "display_data"
    },
    {
     "data": {
      "text/plain": [
       "'the file data_SP_POP_TECH_RD_P6_df.csv has been created'"
      ]
     },
     "metadata": {},
     "output_type": "display_data"
    },
    {
     "data": {
      "text/plain": [
       "'the file data_SL_TLF_0714_SW_ZS_df.csv has been created'"
      ]
     },
     "metadata": {},
     "output_type": "display_data"
    },
    {
     "data": {
      "text/plain": [
       "'the file data_per_si_allsi_adq_pop_tot_df.csv has been created'"
      ]
     },
     "metadata": {},
     "output_type": "display_data"
    },
    {
     "data": {
      "text/plain": [
       "'the file data_per_allsp_adq_pop_tot_df.csv has been created'"
      ]
     },
     "metadata": {},
     "output_type": "display_data"
    },
    {
     "data": {
      "text/plain": [
       "'the file data_per_sa_allsa_adq_pop_tot_df.csv has been created'"
      ]
     },
     "metadata": {},
     "output_type": "display_data"
    },
    {
     "data": {
      "text/plain": [
       "'the file data_SL_TLF_0714_SW_MA_TM_df.csv has been created'"
      ]
     },
     "metadata": {},
     "output_type": "display_data"
    },
    {
     "data": {
      "text/plain": [
       "'the file data_SL_FAM_0714_ZS_df.csv has been created'"
      ]
     },
     "metadata": {},
     "output_type": "display_data"
    },
    {
     "data": {
      "text/plain": [
       "'the file data_SL_SRV_0714_ZS_df.csv has been created'"
      ]
     },
     "metadata": {},
     "output_type": "display_data"
    },
    {
     "data": {
      "text/plain": [
       "'the file data_SL_WAG_0714_FE_ZS_df.csv has been created'"
      ]
     },
     "metadata": {},
     "output_type": "display_data"
    },
    {
     "data": {
      "text/plain": [
       "'the file data_per_lm_alllm_cov_q4_tot_df.csv has been created'"
      ]
     },
     "metadata": {},
     "output_type": "display_data"
    },
    {
     "data": {
      "text/plain": [
       "'the file data_per_sa_allsa_cov_q5_tot_df.csv has been created'"
      ]
     },
     "metadata": {},
     "output_type": "display_data"
    },
    {
     "data": {
      "text/plain": [
       "'the file data_per_lm_alllm_cov_pop_tot_df.csv has been created'"
      ]
     },
     "metadata": {},
     "output_type": "display_data"
    },
    {
     "data": {
      "text/plain": [
       "'the file data_per_lm_alllm_cov_q1_tot_df.csv has been created'"
      ]
     },
     "metadata": {},
     "output_type": "display_data"
    },
    {
     "data": {
      "text/plain": [
       "'the file data_SL_IND_EMPL_ZS_df.csv has been created'"
      ]
     },
     "metadata": {},
     "output_type": "display_data"
    },
    {
     "data": {
      "text/plain": [
       "'the file data_SL_SRV_EMPL_ZS_df.csv has been created'"
      ]
     },
     "metadata": {},
     "output_type": "display_data"
    },
    {
     "data": {
      "text/plain": [
       "'the file data_SL_TLF_ACTI_1524_MA_NE_ZS_df.csv has been created'"
      ]
     },
     "metadata": {},
     "output_type": "display_data"
    },
    {
     "data": {
      "text/plain": [
       "'the file data_SL_EMP_TOTL_SP_FE_NE_ZS_df.csv has been created'"
      ]
     },
     "metadata": {},
     "output_type": "display_data"
    },
    {
     "data": {
      "text/plain": [
       "'the file data_per_lm_alllm_cov_q5_tot_df.csv has been created'"
      ]
     },
     "metadata": {},
     "output_type": "display_data"
    },
    {
     "data": {
      "text/plain": [
       "'the file data_SL_EMP_MPYR_ZS_df.csv has been created'"
      ]
     },
     "metadata": {},
     "output_type": "display_data"
    },
    {
     "data": {
      "text/plain": [
       "'the file data_SL_EMP_TOTL_SP_MA_NE_ZS_df.csv has been created'"
      ]
     },
     "metadata": {},
     "output_type": "display_data"
    },
    {
     "data": {
      "text/plain": [
       "'the file data_SL_EMP_TOTL_SP_ZS_df.csv has been created'"
      ]
     },
     "metadata": {},
     "output_type": "display_data"
    },
    {
     "data": {
      "text/plain": [
       "'the file data_SL_EMP_1524_SP_MA_NE_ZS_df.csv has been created'"
      ]
     },
     "metadata": {},
     "output_type": "display_data"
    },
    {
     "data": {
      "text/plain": [
       "'the file data_SL_TLF_ACTI_1524_NE_ZS_df.csv has been created'"
      ]
     },
     "metadata": {},
     "output_type": "display_data"
    },
    {
     "data": {
      "text/plain": [
       "'the file data_SL_TLF_CACT_FE_NE_ZS_df.csv has been created'"
      ]
     },
     "metadata": {},
     "output_type": "display_data"
    },
    {
     "data": {
      "text/plain": [
       "'the file data_SL_TLF_CACT_MA_NE_ZS_df.csv has been created'"
      ]
     },
     "metadata": {},
     "output_type": "display_data"
    },
    {
     "data": {
      "text/plain": [
       "'the file data_SL_TLF_CACT_ZS_df.csv has been created'"
      ]
     },
     "metadata": {},
     "output_type": "display_data"
    },
    {
     "data": {
      "text/plain": [
       "'the file data_SL_TLF_ACTI_1524_FE_NE_ZS_df.csv has been created'"
      ]
     },
     "metadata": {},
     "output_type": "display_data"
    },
    {
     "data": {
      "text/plain": [
       "'the file data_SL_EMP_TOTL_SP_NE_ZS_df.csv has been created'"
      ]
     },
     "metadata": {},
     "output_type": "display_data"
    },
    {
     "data": {
      "text/plain": [
       "'the file data_SL_EMP_1524_SP_FE_NE_ZS_df.csv has been created'"
      ]
     },
     "metadata": {},
     "output_type": "display_data"
    },
    {
     "data": {
      "text/plain": [
       "'the file data_SL_TLF_ADVN_ZS_df.csv has been created'"
      ]
     },
     "metadata": {},
     "output_type": "display_data"
    },
    {
     "data": {
      "text/plain": [
       "'the file data_SL_TLF_ADVN_FE_ZS_df.csv has been created'"
      ]
     },
     "metadata": {},
     "output_type": "display_data"
    },
    {
     "data": {
      "text/plain": [
       "'the file data_SL_TLF_ADVN_MA_ZS_df.csv has been created'"
      ]
     },
     "metadata": {},
     "output_type": "display_data"
    },
    {
     "data": {
      "text/plain": [
       "'the file data_SL_TLF_BASC_ZS_df.csv has been created'"
      ]
     },
     "metadata": {},
     "output_type": "display_data"
    },
    {
     "data": {
      "text/plain": [
       "'the file data_SL_TLF_BASC_FE_ZS_df.csv has been created'"
      ]
     },
     "metadata": {},
     "output_type": "display_data"
    },
    {
     "data": {
      "text/plain": [
       "'the file data_SL_EMP_1524_SP_ZS_df.csv has been created'"
      ]
     },
     "metadata": {},
     "output_type": "display_data"
    },
    {
     "data": {
      "text/plain": [
       "'the file data_SL_EMP_1524_SP_NE_ZS_df.csv has been created'"
      ]
     },
     "metadata": {},
     "output_type": "display_data"
    },
    {
     "data": {
      "text/plain": [
       "'the file data_SL_TLF_BASC_MA_ZS_df.csv has been created'"
      ]
     },
     "metadata": {},
     "output_type": "display_data"
    },
    {
     "data": {
      "text/plain": [
       "'the file data_SL_TLF_INTM_ZS_df.csv has been created'"
      ]
     },
     "metadata": {},
     "output_type": "display_data"
    },
    {
     "data": {
      "text/plain": [
       "'the file data_SL_TLF_INTM_FE_ZS_df.csv has been created'"
      ]
     },
     "metadata": {},
     "output_type": "display_data"
    },
    {
     "data": {
      "text/plain": [
       "'the file data_SL_TLF_INTM_MA_ZS_df.csv has been created'"
      ]
     },
     "metadata": {},
     "output_type": "display_data"
    },
    {
     "data": {
      "text/plain": [
       "'the file data_SL_TLF_PART_ZS_df.csv has been created'"
      ]
     },
     "metadata": {},
     "output_type": "display_data"
    },
    {
     "data": {
      "text/plain": [
       "'the file data_SL_TLF_CACT_FM_NE_ZS_df.csv has been created'"
      ]
     },
     "metadata": {},
     "output_type": "display_data"
    },
    {
     "data": {
      "text/plain": [
       "'the file data_SL_EMP_SELF_ZS_df.csv has been created'"
      ]
     },
     "metadata": {},
     "output_type": "display_data"
    },
    {
     "data": {
      "text/plain": [
       "'the file data_SL_EMP_SMGT_FE_ZS_df.csv has been created'"
      ]
     },
     "metadata": {},
     "output_type": "display_data"
    },
    {
     "data": {
      "text/plain": [
       "'the file data_SL_GDP_PCAP_EM_KD_df.csv has been created'"
      ]
     },
     "metadata": {},
     "output_type": "display_data"
    },
    {
     "data": {
      "text/plain": [
       "'the file data_EN_URB_LCTY_UR_ZS_df.csv has been created'"
      ]
     },
     "metadata": {},
     "output_type": "display_data"
    },
    {
     "data": {
      "text/plain": [
       "'the file data_SL_UEM_NEET_FE_ZS_df.csv has been created'"
      ]
     },
     "metadata": {},
     "output_type": "display_data"
    },
    {
     "data": {
      "text/plain": [
       "'the file data_SL_UEM_NEET_MA_ZS_df.csv has been created'"
      ]
     },
     "metadata": {},
     "output_type": "display_data"
    },
    {
     "data": {
      "text/plain": [
       "'the file data_SL_UEM_NEET_ZS_df.csv has been created'"
      ]
     },
     "metadata": {},
     "output_type": "display_data"
    },
    {
     "data": {
      "text/plain": [
       "'the file data_SL_UEM_ADVN_ZS_df.csv has been created'"
      ]
     },
     "metadata": {},
     "output_type": "display_data"
    },
    {
     "data": {
      "text/plain": [
       "'the file data_SL_UEM_ADVN_FE_ZS_df.csv has been created'"
      ]
     },
     "metadata": {},
     "output_type": "display_data"
    },
    {
     "data": {
      "text/plain": [
       "'the file data_SL_UEM_ADVN_MA_ZS_df.csv has been created'"
      ]
     },
     "metadata": {},
     "output_type": "display_data"
    },
    {
     "data": {
      "text/plain": [
       "'the file data_SL_UEM_BASC_ZS_df.csv has been created'"
      ]
     },
     "metadata": {},
     "output_type": "display_data"
    },
    {
     "data": {
      "text/plain": [
       "'the file data_SL_UEM_BASC_FE_ZS_df.csv has been created'"
      ]
     },
     "metadata": {},
     "output_type": "display_data"
    },
    {
     "data": {
      "text/plain": [
       "'the file data_SL_UEM_BASC_MA_ZS_df.csv has been created'"
      ]
     },
     "metadata": {},
     "output_type": "display_data"
    },
    {
     "data": {
      "text/plain": [
       "'the file data_SL_UEM_INTM_ZS_df.csv has been created'"
      ]
     },
     "metadata": {},
     "output_type": "display_data"
    },
    {
     "data": {
      "text/plain": [
       "'the file data_SL_UEM_INTM_FE_ZS_df.csv has been created'"
      ]
     },
     "metadata": {},
     "output_type": "display_data"
    }
   ],
   "source": [
    "for series in wb_metadata_df['series_id']:\n",
    "    try:\n",
    "        csv_file_name = f\"data_{series.replace('''.''','''_''')}_df.csv\"\n",
    "        pd.DataFrame(wb_data_df[wb_data_df['series_id']==series]).to_csv(Path(f'../data/{csv_file_name}'),index=False,mode='x')\n",
    "        display(f\"the file {csv_file_name} has been created\")\n",
    "    except:\n",
    "        display(f\"Skipping creating the file {csv_file_name} because it already exists\")   \n"
   ]
  },
  {
   "cell_type": "code",
   "execution_count": 5,
   "id": "4d0c9454-8c7f-444d-a724-a7e0316f44a4",
   "metadata": {},
   "outputs": [
    {
     "data": {
      "text/plain": [
       "'Skipping creating the file data_AG_LND_AGRI_ZS_df.csv because it already exists'"
      ]
     },
     "metadata": {},
     "output_type": "display_data"
    },
    {
     "data": {
      "text/plain": [
       "'Skipping creating the file data_EN_ATM_C02_KT_df.csv because it already exists'"
      ]
     },
     "metadata": {},
     "output_type": "display_data"
    },
    {
     "data": {
      "text/plain": [
       "'Skipping creating the file data_EG_ELC_RNWX_ZS_df.csv because it already exists'"
      ]
     },
     "metadata": {},
     "output_type": "display_data"
    },
    {
     "data": {
      "text/plain": [
       "'Skipping creating the file data_EG_ELC_RNWX_KH_df.csv because it already exists'"
      ]
     },
     "metadata": {},
     "output_type": "display_data"
    },
    {
     "data": {
      "text/plain": [
       "'Skipping creating the file data_AG_PRD_FOOD_XD_df.csv because it already exists'"
      ]
     },
     "metadata": {},
     "output_type": "display_data"
    },
    {
     "data": {
      "text/plain": [
       "'Skipping creating the file data_SE_XPD_TOTL_GD_ZS_df.csv because it already exists'"
      ]
     },
     "metadata": {},
     "output_type": "display_data"
    },
    {
     "data": {
      "text/plain": [
       "'Skipping creating the file data_IT_NET_UESR_ZS_df.csv because it already exists'"
      ]
     },
     "metadata": {},
     "output_type": "display_data"
    }
   ],
   "source": [
    "# for series in series_id_list:\n",
    "#     try:\n",
    "#         csv_file_name = f\"data_{series.replace('''.''','''_''')}_df.csv\"\n",
    "#         pd.DataFrame(wb_data_df[wb_data_df['series_id']==series]).to_csv(Path(f'../data/{csv_file_name}'),index=False,mode='x')\n",
    "#         display(f\"the file {csv_file_name} has been created\")\n",
    "#     except:\n",
    "#         display(f\"Skipping creating the file {csv_file_name} because it already exists\")   \n",
    "    "
   ]
  }
 ],
 "metadata": {
  "kernelspec": {
   "display_name": "Python 3 (ipykernel)",
   "language": "python",
   "name": "python3"
  },
  "language_info": {
   "codemirror_mode": {
    "name": "ipython",
    "version": 3
   },
   "file_extension": ".py",
   "mimetype": "text/x-python",
   "name": "python",
   "nbconvert_exporter": "python",
   "pygments_lexer": "ipython3",
   "version": "3.7.13"
  }
 },
 "nbformat": 4,
 "nbformat_minor": 5
}
